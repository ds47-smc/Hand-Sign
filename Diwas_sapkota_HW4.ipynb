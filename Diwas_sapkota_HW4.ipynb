{
 "cells": [
  {
   "cell_type": "markdown",
   "metadata": {},
   "source": [
    "# Assignmnet\n",
    "We will be working on a very cool problem which is classifying hand signs. In each image the hand is holding certain number of fingers up. The number of fingers held by the hand is the class number. The original dataset is in a format call h5 format. It is an efficient format to store and organize large amounts of data. [Click here to read more about it](https://en.wikipedia.org/wiki/Hierarchical_Data_Format). The following function `load_dataset()` is ready for you to use. It will return four variables in the following order: X_train, Y_train, X_test, Y_test. Hence, your data is already splitted and there is no need for you to split it.\n",
    "\n",
    "You can download the training datafile here https://drive.google.com/open?id=1vcbjJMj4RuuuqayUu40ScHJdSY4DZOrj\n",
    "\n",
    "You can download the test datafile here https://drive.google.com/open?id=1rQ1RCIBzw7ho_n6x0vbMzdZ8fAzi1hIQ\n",
    "\n",
    "Make sure you have both on the same directory as your notebook"
   ]
  },
  {
   "cell_type": "code",
   "execution_count": 1,
   "metadata": {},
   "outputs": [],
   "source": [
    "# Solve Here\n",
    "# this is unrelated to the class .. It just helps displaying all outputs in a cell instead of just last one\n",
    "from IPython.core.interactiveshell import InteractiveShell\n",
    "InteractiveShell.ast_node_interactivity = \"all\""
   ]
  },
  {
   "cell_type": "code",
   "execution_count": 2,
   "metadata": {},
   "outputs": [],
   "source": [
    "import h5py\n",
    "import numpy as np\n",
    "import tensorflow as tf\n",
    "def load_dataset():\n",
    "    train_dataset = h5py.File('train_signs.h5', \"r\")\n",
    "    train_set_x_orig = np.array(train_dataset[\"train_set_x\"][:]) # your train set features\n",
    "    train_set_y_orig = np.array(train_dataset[\"train_set_y\"][:]) # your train set labels\n",
    "\n",
    "    test_dataset = h5py.File('test_signs.h5', \"r\")\n",
    "    test_set_x_orig = np.array(test_dataset[\"test_set_x\"][:]) # your test set features\n",
    "    test_set_y_orig = np.array(test_dataset[\"test_set_y\"][:]) # your test set labels\n",
    "\n",
    "    classes = np.array(test_dataset[\"list_classes\"][:]) # the list of classes\n",
    "    \n",
    "    train_set_y_orig = train_set_y_orig.reshape((train_set_y_orig.shape[0]),1)\n",
    "    test_set_y_orig = test_set_y_orig.reshape((test_set_y_orig.shape[0],1))\n",
    "    \n",
    "    return train_set_x_orig, train_set_y_orig, test_set_x_orig, test_set_y_orig, classes"
   ]
  },
  {
   "cell_type": "code",
   "execution_count": 3,
   "metadata": {},
   "outputs": [],
   "source": [
    "# Downloaded the file 'test.signs.h5' and 'train.signs.h5'\n",
    "train_set_x_orig, train_set_y_orig, test_set_x_orig, test_set_y_orig, classes= load_dataset()"
   ]
  },
  {
   "cell_type": "markdown",
   "metadata": {},
   "source": [
    "Generate 20 random numbers between 0 and the length of the training dataset. Plot 20 images from the dataset using these 20 random numbers as indicies to the training dataset. You will need to plot them on 5 rows and 4 columns. In addition, each image will have a title that says `this image belons to class number X`, replace X by the correct class number from the training labels."
   ]
  },
  {
   "cell_type": "code",
   "execution_count": 4,
   "metadata": {},
   "outputs": [],
   "source": [
    "import matplotlib.pyplot as plt\n",
    "%matplotlib inline\n",
    "import pandas as pd\n",
    "# Plot here \n",
    "# grenerating the 20 random numbers from 0 to lenght of training dataset: here length of set_X and set_Y both has same len\n",
    "#np.random.seed(123)\n",
    "rand=np.random.randint(0,len(train_set_y_orig), 20)"
   ]
  },
  {
   "cell_type": "code",
   "execution_count": 5,
   "metadata": {},
   "outputs": [
    {
     "data": {
      "text/plain": [
       "<Figure size 1440x1440 with 0 Axes>"
      ]
     },
     "execution_count": 5,
     "metadata": {},
     "output_type": "execute_result"
    },
    {
     "data": {
      "text/plain": [
       "<matplotlib.axes._subplots.AxesSubplot at 0x137128710>"
      ]
     },
     "execution_count": 5,
     "metadata": {},
     "output_type": "execute_result"
    },
    {
     "data": {
      "text/plain": [
       "<matplotlib.image.AxesImage at 0x1373e30f0>"
      ]
     },
     "execution_count": 5,
     "metadata": {},
     "output_type": "execute_result"
    },
    {
     "name": "stderr",
     "output_type": "stream",
     "text": [
      "/Users/shreedharsapkota/anaconda3/lib/python3.7/site-packages/matplotlib/text.py:1150: FutureWarning: elementwise comparison failed; returning scalar instead, but in the future will perform elementwise comparison\n",
      "  if s != self._text:\n"
     ]
    },
    {
     "data": {
      "text/plain": [
       "Text(0.5, 1.0, '[0]')"
      ]
     },
     "execution_count": 5,
     "metadata": {},
     "output_type": "execute_result"
    },
    {
     "data": {
      "text/plain": [
       "<matplotlib.axes._subplots.AxesSubplot at 0x1373be940>"
      ]
     },
     "execution_count": 5,
     "metadata": {},
     "output_type": "execute_result"
    },
    {
     "data": {
      "text/plain": [
       "<matplotlib.image.AxesImage at 0x13744aa90>"
      ]
     },
     "execution_count": 5,
     "metadata": {},
     "output_type": "execute_result"
    },
    {
     "data": {
      "text/plain": [
       "Text(0.5, 1.0, '[2]')"
      ]
     },
     "execution_count": 5,
     "metadata": {},
     "output_type": "execute_result"
    },
    {
     "data": {
      "text/plain": [
       "<matplotlib.axes._subplots.AxesSubplot at 0x1373bea20>"
      ]
     },
     "execution_count": 5,
     "metadata": {},
     "output_type": "execute_result"
    },
    {
     "data": {
      "text/plain": [
       "<matplotlib.image.AxesImage at 0x137488438>"
      ]
     },
     "execution_count": 5,
     "metadata": {},
     "output_type": "execute_result"
    },
    {
     "data": {
      "text/plain": [
       "Text(0.5, 1.0, '[4]')"
      ]
     },
     "execution_count": 5,
     "metadata": {},
     "output_type": "execute_result"
    },
    {
     "data": {
      "text/plain": [
       "<matplotlib.axes._subplots.AxesSubplot at 0x137434470>"
      ]
     },
     "execution_count": 5,
     "metadata": {},
     "output_type": "execute_result"
    },
    {
     "data": {
      "text/plain": [
       "<matplotlib.image.AxesImage at 0x1374b9c50>"
      ]
     },
     "execution_count": 5,
     "metadata": {},
     "output_type": "execute_result"
    },
    {
     "data": {
      "text/plain": [
       "Text(0.5, 1.0, '[0]')"
      ]
     },
     "execution_count": 5,
     "metadata": {},
     "output_type": "execute_result"
    },
    {
     "data": {
      "text/plain": [
       "<matplotlib.axes._subplots.AxesSubplot at 0x1374c70b8>"
      ]
     },
     "execution_count": 5,
     "metadata": {},
     "output_type": "execute_result"
    },
    {
     "data": {
      "text/plain": [
       "<matplotlib.image.AxesImage at 0x1374f4518>"
      ]
     },
     "execution_count": 5,
     "metadata": {},
     "output_type": "execute_result"
    },
    {
     "data": {
      "text/plain": [
       "Text(0.5, 1.0, '[1]')"
      ]
     },
     "execution_count": 5,
     "metadata": {},
     "output_type": "execute_result"
    },
    {
     "data": {
      "text/plain": [
       "<matplotlib.axes._subplots.AxesSubplot at 0x1374f4908>"
      ]
     },
     "execution_count": 5,
     "metadata": {},
     "output_type": "execute_result"
    },
    {
     "data": {
      "text/plain": [
       "<matplotlib.image.AxesImage at 0x137525dd8>"
      ]
     },
     "execution_count": 5,
     "metadata": {},
     "output_type": "execute_result"
    },
    {
     "data": {
      "text/plain": [
       "Text(0.5, 1.0, '[1]')"
      ]
     },
     "execution_count": 5,
     "metadata": {},
     "output_type": "execute_result"
    },
    {
     "data": {
      "text/plain": [
       "<matplotlib.axes._subplots.AxesSubplot at 0x137535278>"
      ]
     },
     "execution_count": 5,
     "metadata": {},
     "output_type": "execute_result"
    },
    {
     "data": {
      "text/plain": [
       "<matplotlib.image.AxesImage at 0x137563710>"
      ]
     },
     "execution_count": 5,
     "metadata": {},
     "output_type": "execute_result"
    },
    {
     "data": {
      "text/plain": [
       "Text(0.5, 1.0, '[1]')"
      ]
     },
     "execution_count": 5,
     "metadata": {},
     "output_type": "execute_result"
    },
    {
     "data": {
      "text/plain": [
       "<matplotlib.axes._subplots.AxesSubplot at 0x137563a20>"
      ]
     },
     "execution_count": 5,
     "metadata": {},
     "output_type": "execute_result"
    },
    {
     "data": {
      "text/plain": [
       "<matplotlib.image.AxesImage at 0x137594f60>"
      ]
     },
     "execution_count": 5,
     "metadata": {},
     "output_type": "execute_result"
    },
    {
     "data": {
      "text/plain": [
       "Text(0.5, 1.0, '[5]')"
      ]
     },
     "execution_count": 5,
     "metadata": {},
     "output_type": "execute_result"
    },
    {
     "data": {
      "text/plain": [
       "<matplotlib.axes._subplots.AxesSubplot at 0x1375a3470>"
      ]
     },
     "execution_count": 5,
     "metadata": {},
     "output_type": "execute_result"
    },
    {
     "data": {
      "text/plain": [
       "<matplotlib.image.AxesImage at 0x1375d0898>"
      ]
     },
     "execution_count": 5,
     "metadata": {},
     "output_type": "execute_result"
    },
    {
     "data": {
      "text/plain": [
       "Text(0.5, 1.0, '[5]')"
      ]
     },
     "execution_count": 5,
     "metadata": {},
     "output_type": "execute_result"
    },
    {
     "data": {
      "text/plain": [
       "<matplotlib.axes._subplots.AxesSubplot at 0x1375bc198>"
      ]
     },
     "execution_count": 5,
     "metadata": {},
     "output_type": "execute_result"
    },
    {
     "data": {
      "text/plain": [
       "<matplotlib.image.AxesImage at 0x13760f198>"
      ]
     },
     "execution_count": 5,
     "metadata": {},
     "output_type": "execute_result"
    },
    {
     "data": {
      "text/plain": [
       "Text(0.5, 1.0, '[3]')"
      ]
     },
     "execution_count": 5,
     "metadata": {},
     "output_type": "execute_result"
    },
    {
     "data": {
      "text/plain": [
       "<matplotlib.axes._subplots.AxesSubplot at 0x13760f2b0>"
      ]
     },
     "execution_count": 5,
     "metadata": {},
     "output_type": "execute_result"
    },
    {
     "data": {
      "text/plain": [
       "<matplotlib.image.AxesImage at 0x13763da58>"
      ]
     },
     "execution_count": 5,
     "metadata": {},
     "output_type": "execute_result"
    },
    {
     "data": {
      "text/plain": [
       "Text(0.5, 1.0, '[4]')"
      ]
     },
     "execution_count": 5,
     "metadata": {},
     "output_type": "execute_result"
    },
    {
     "data": {
      "text/plain": [
       "<matplotlib.axes._subplots.AxesSubplot at 0x13763de48>"
      ]
     },
     "execution_count": 5,
     "metadata": {},
     "output_type": "execute_result"
    },
    {
     "data": {
      "text/plain": [
       "<matplotlib.image.AxesImage at 0x13767a358>"
      ]
     },
     "execution_count": 5,
     "metadata": {},
     "output_type": "execute_result"
    },
    {
     "data": {
      "text/plain": [
       "Text(0.5, 1.0, '[1]')"
      ]
     },
     "execution_count": 5,
     "metadata": {},
     "output_type": "execute_result"
    },
    {
     "data": {
      "text/plain": [
       "<matplotlib.axes._subplots.AxesSubplot at 0x13767a470>"
      ]
     },
     "execution_count": 5,
     "metadata": {},
     "output_type": "execute_result"
    },
    {
     "data": {
      "text/plain": [
       "<matplotlib.image.AxesImage at 0x1376afc18>"
      ]
     },
     "execution_count": 5,
     "metadata": {},
     "output_type": "execute_result"
    },
    {
     "data": {
      "text/plain": [
       "Text(0.5, 1.0, '[3]')"
      ]
     },
     "execution_count": 5,
     "metadata": {},
     "output_type": "execute_result"
    },
    {
     "data": {
      "text/plain": [
       "<matplotlib.axes._subplots.AxesSubplot at 0x1376bc198>"
      ]
     },
     "execution_count": 5,
     "metadata": {},
     "output_type": "execute_result"
    },
    {
     "data": {
      "text/plain": [
       "<matplotlib.image.AxesImage at 0x1376ea518>"
      ]
     },
     "execution_count": 5,
     "metadata": {},
     "output_type": "execute_result"
    },
    {
     "data": {
      "text/plain": [
       "Text(0.5, 1.0, '[0]')"
      ]
     },
     "execution_count": 5,
     "metadata": {},
     "output_type": "execute_result"
    },
    {
     "data": {
      "text/plain": [
       "<matplotlib.axes._subplots.AxesSubplot at 0x1376ea940>"
      ]
     },
     "execution_count": 5,
     "metadata": {},
     "output_type": "execute_result"
    },
    {
     "data": {
      "text/plain": [
       "<matplotlib.image.AxesImage at 0x13771bdd8>"
      ]
     },
     "execution_count": 5,
     "metadata": {},
     "output_type": "execute_result"
    },
    {
     "data": {
      "text/plain": [
       "Text(0.5, 1.0, '[1]')"
      ]
     },
     "execution_count": 5,
     "metadata": {},
     "output_type": "execute_result"
    },
    {
     "data": {
      "text/plain": [
       "<matplotlib.axes._subplots.AxesSubplot at 0x1377076d8>"
      ]
     },
     "execution_count": 5,
     "metadata": {},
     "output_type": "execute_result"
    },
    {
     "data": {
      "text/plain": [
       "<matplotlib.image.AxesImage at 0x1377576d8>"
      ]
     },
     "execution_count": 5,
     "metadata": {},
     "output_type": "execute_result"
    },
    {
     "data": {
      "text/plain": [
       "Text(0.5, 1.0, '[3]')"
      ]
     },
     "execution_count": 5,
     "metadata": {},
     "output_type": "execute_result"
    },
    {
     "data": {
      "text/plain": [
       "<matplotlib.axes._subplots.AxesSubplot at 0x137757b00>"
      ]
     },
     "execution_count": 5,
     "metadata": {},
     "output_type": "execute_result"
    },
    {
     "data": {
      "text/plain": [
       "<matplotlib.image.AxesImage at 0x13778af28>"
      ]
     },
     "execution_count": 5,
     "metadata": {},
     "output_type": "execute_result"
    },
    {
     "data": {
      "text/plain": [
       "Text(0.5, 1.0, '[3]')"
      ]
     },
     "execution_count": 5,
     "metadata": {},
     "output_type": "execute_result"
    },
    {
     "data": {
      "text/plain": [
       "<matplotlib.axes._subplots.AxesSubplot at 0x1377972e8>"
      ]
     },
     "execution_count": 5,
     "metadata": {},
     "output_type": "execute_result"
    },
    {
     "data": {
      "text/plain": [
       "<matplotlib.image.AxesImage at 0x1377c6898>"
      ]
     },
     "execution_count": 5,
     "metadata": {},
     "output_type": "execute_result"
    },
    {
     "data": {
      "text/plain": [
       "Text(0.5, 1.0, '[5]')"
      ]
     },
     "execution_count": 5,
     "metadata": {},
     "output_type": "execute_result"
    },
    {
     "data": {
      "text/plain": [
       "<matplotlib.axes._subplots.AxesSubplot at 0x1377c6cf8>"
      ]
     },
     "execution_count": 5,
     "metadata": {},
     "output_type": "execute_result"
    },
    {
     "data": {
      "text/plain": [
       "<matplotlib.image.AxesImage at 0x137802198>"
      ]
     },
     "execution_count": 5,
     "metadata": {},
     "output_type": "execute_result"
    },
    {
     "data": {
      "text/plain": [
       "Text(0.5, 1.0, '[4]')"
      ]
     },
     "execution_count": 5,
     "metadata": {},
     "output_type": "execute_result"
    },
    {
     "data": {
      "text/plain": [
       "<matplotlib.axes._subplots.AxesSubplot at 0x1378024a8>"
      ]
     },
     "execution_count": 5,
     "metadata": {},
     "output_type": "execute_result"
    },
    {
     "data": {
      "text/plain": [
       "<matplotlib.image.AxesImage at 0x137834b00>"
      ]
     },
     "execution_count": 5,
     "metadata": {},
     "output_type": "execute_result"
    },
    {
     "data": {
      "text/plain": [
       "Text(0.5, 1.0, '[2]')"
      ]
     },
     "execution_count": 5,
     "metadata": {},
     "output_type": "execute_result"
    },
    {
     "data": {
      "image/png": "[encoded data removed]",
      "text/plain": [
       "<Figure size 1440x1440 with 20 Axes>"
      ]
     },
     "metadata": {
      "needs_background": "light"
     },
     "output_type": "display_data"
    }
   ],
   "source": [
    "# Solve Here\n",
    "# We are ploting the 5 row and 4 columns image using for loop\n",
    "plt.figure(figsize=(20,20))\n",
    "for i in range(20):\n",
    "    plt.subplot(5,4,i+1)\n",
    "    image = train_set_x_orig[rand[i]]   \n",
    "    plt.imshow(image) # ploting the image using imshow\n",
    "    plt.title(train_set_y_orig[rand[i]], fontsize='small')"
   ]
  },
  {
   "cell_type": "markdown",
   "metadata": {},
   "source": [
    "How many classes does the training and test dataset have?"
   ]
  },
  {
   "cell_type": "code",
   "execution_count": 6,
   "metadata": {},
   "outputs": [
    {
     "data": {
      "text/plain": [
       "5    180\n",
       "4    180\n",
       "3    180\n",
       "2    180\n",
       "1    180\n",
       "0    180\n",
       "Name: 0, dtype: int64"
      ]
     },
     "execution_count": 6,
     "metadata": {},
     "output_type": "execute_result"
    },
    {
     "data": {
      "text/plain": [
       "5    20\n",
       "4    20\n",
       "3    20\n",
       "2    20\n",
       "1    20\n",
       "0    20\n",
       "Name: 0, dtype: int64"
      ]
     },
     "execution_count": 6,
     "metadata": {},
     "output_type": "execute_result"
    }
   ],
   "source": [
    "# solve here\n",
    "import pandas as pd\n",
    "# Classes for training datasets\n",
    "pd.DataFrame(train_set_y_orig).iloc[:,0].value_counts()\n",
    "# Classes for testing datasets\n",
    "pd.DataFrame(test_set_y_orig).iloc[:,0].value_counts()\n"
   ]
  },
  {
   "cell_type": "markdown",
   "metadata": {},
   "source": [
    "What is the dimension of the training dataset and test dataset?"
   ]
  },
  {
   "cell_type": "code",
   "execution_count": 7,
   "metadata": {},
   "outputs": [
    {
     "name": "stdout",
     "output_type": "stream",
     "text": [
      "The Dimension of training set features is: (1080, 64, 64, 3) and 4 Dimension\n",
      "The Dimension of training set labels is: (1080, 1) and 2 Dimension\n",
      "The Dimension of testin set features is: (120, 64, 64, 3) and 4 Dimension\n",
      "The Dimension of training set labels is: (120, 1) and 2 Dimension\n"
     ]
    }
   ],
   "source": [
    "# solve here\n",
    "#dimension of the training dataset and test dataset\n",
    "print(\"The Dimension of training set features is:\", train_set_x_orig.shape, \"and\" ,train_set_x_orig.ndim, \"Dimension\" )\n",
    "print(\"The Dimension of training set labels is:\", train_set_y_orig.shape, \"and\" ,train_set_y_orig.ndim, \"Dimension\" )\n",
    "print(\"The Dimension of testin set features is:\", test_set_x_orig.shape,  \"and\" ,test_set_x_orig.ndim, \"Dimension\" )\n",
    "print(\"The Dimension of training set labels is:\", test_set_y_orig.shape,  \"and\" ,test_set_y_orig.ndim, \"Dimension\" )"
   ]
  },
  {
   "cell_type": "markdown",
   "metadata": {},
   "source": [
    "Now we need to normalize the training and test dataset. The pixels are integers. We need them to be float between 0 and 1. You need to divide each of the two matrices by 255. That will produce a normalized image datasets"
   ]
  },
  {
   "cell_type": "code",
   "execution_count": 8,
   "metadata": {},
   "outputs": [
    {
     "name": "stderr",
     "output_type": "stream",
     "text": [
      "/Users/shreedharsapkota/anaconda3/lib/python3.7/site-packages/ipykernel_launcher.py:4: DeprecationWarning: Numeric-style type codes are deprecated and will result in an error in the future.\n",
      "  after removing the cwd from sys.path.\n",
      "/Users/shreedharsapkota/anaconda3/lib/python3.7/site-packages/ipykernel_launcher.py:5: DeprecationWarning: Numeric-style type codes are deprecated and will result in an error in the future.\n",
      "  \"\"\"\n"
     ]
    }
   ],
   "source": [
    "# Solve Here\n",
    "# Normalizing the training ans testing dataset\n",
    "# Converting int to float\n",
    "train_set_x_orig=train_set_x_orig.astype('Float32')\n",
    "test_set_x_orig=test_set_x_orig.astype('Float32')\n",
    "# divide each of the two matrices by 255.\n",
    "train_set_x_orig=train_set_x_orig/255.0\n",
    "test_set_x_orig=test_set_x_orig/255.0"
   ]
  },
  {
   "cell_type": "code",
   "execution_count": 9,
   "metadata": {},
   "outputs": [],
   "source": [
    "# # Normalizing the training ans testing dataset\n",
    "\n",
    "train_set_x_orig=tf.keras.utils.normalize(train_set_x_orig, axis=1)\n",
    "test_set_x_orig=tf.keras.utils.normalize(test_set_x_orig, axis=1)"
   ]
  },
  {
   "cell_type": "markdown",
   "metadata": {},
   "source": [
    "## Build a Baseline Model"
   ]
  },
  {
   "cell_type": "markdown",
   "metadata": {},
   "source": [
    "As you can see in the dimension (number_images X length X width X RGB), each image has 3 dimensions .. number of pixels in length and width as well as RGB contrast. We needed to flatten both the training and the test dataset so that we can feed to our ML models. To flatten an image, check the following link. https://stackoverflow.com/questions/36967920/numpy-flatten-rgb-image-array"
   ]
  },
  {
   "cell_type": "code",
   "execution_count": 10,
   "metadata": {},
   "outputs": [
    {
     "data": {
      "text/plain": [
       "(1080, 12288)"
      ]
     },
     "execution_count": 10,
     "metadata": {},
     "output_type": "execute_result"
    },
    {
     "data": {
      "text/plain": [
       "(1080, 1)"
      ]
     },
     "execution_count": 10,
     "metadata": {},
     "output_type": "execute_result"
    },
    {
     "data": {
      "text/plain": [
       "(120, 12288)"
      ]
     },
     "execution_count": 10,
     "metadata": {},
     "output_type": "execute_result"
    },
    {
     "data": {
      "text/plain": [
       "(120, 1)"
      ]
     },
     "execution_count": 10,
     "metadata": {},
     "output_type": "execute_result"
    }
   ],
   "source": [
    "# Flatten both the training and the test dataset\n",
    "pixels_train = train_set_x_orig.flatten().reshape(1080, -1)\n",
    "pixels_test = test_set_x_orig.flatten().reshape(120, -1)\n",
    "# Check the shape of all datasset\n",
    "pixels_train.shape\n",
    "train_set_y_orig.shape\n",
    "pixels_test.shape\n",
    "test_set_y_orig.shape"
   ]
  },
  {
   "cell_type": "markdown",
   "metadata": {},
   "source": [
    "Now you can apply some old fashion ML. Start with a baseline model such as logistic regression. Fit the model, then evaluate the model by calculating the accuracy and the confusion matrix for the training data and test data. Note, fitting the model may take longer than a minute"
   ]
  },
  {
   "cell_type": "code",
   "execution_count": 11,
   "metadata": {},
   "outputs": [],
   "source": [
    "# Solve here\n",
    "# baseline modellogistic regression\n",
    "from sklearn.linear_model import LogisticRegression\n",
    "logreg = LogisticRegression(multi_class=\"auto\")"
   ]
  },
  {
   "cell_type": "code",
   "execution_count": 12,
   "metadata": {},
   "outputs": [
    {
     "name": "stderr",
     "output_type": "stream",
     "text": [
      "/Users/shreedharsapkota/anaconda3/lib/python3.7/site-packages/sklearn/linear_model/logistic.py:432: FutureWarning: Default solver will be changed to 'lbfgs' in 0.22. Specify a solver to silence this warning.\n",
      "  FutureWarning)\n",
      "/Users/shreedharsapkota/anaconda3/lib/python3.7/site-packages/sklearn/utils/validation.py:724: DataConversionWarning: A column-vector y was passed when a 1d array was expected. Please change the shape of y to (n_samples, ), for example using ravel().\n",
      "  y = column_or_1d(y, warn=True)\n"
     ]
    },
    {
     "data": {
      "text/plain": [
       "LogisticRegression(C=1.0, class_weight=None, dual=False, fit_intercept=True,\n",
       "                   intercept_scaling=1, l1_ratio=None, max_iter=100,\n",
       "                   multi_class='auto', n_jobs=None, penalty='l2',\n",
       "                   random_state=None, solver='warn', tol=0.0001, verbose=0,\n",
       "                   warm_start=False)"
      ]
     },
     "execution_count": 12,
     "metadata": {},
     "output_type": "execute_result"
    }
   ],
   "source": [
    "#  Fit the model\n",
    "logreg.fit(pixels_train, train_set_y_orig)"
   ]
  },
  {
   "cell_type": "code",
   "execution_count": 13,
   "metadata": {},
   "outputs": [
    {
     "name": "stdout",
     "output_type": "stream",
     "text": [
      "Training accuracy is  0.9453703703703704\n"
     ]
    }
   ],
   "source": [
    "# Evaluating the training dataset\n",
    "predictions_train = logreg.predict(pixels_train)\n",
    "train_score = logreg.score(pixels_train, train_set_y_orig)\n",
    "print('Training accuracy is ', train_score)"
   ]
  },
  {
   "cell_type": "code",
   "execution_count": 14,
   "metadata": {},
   "outputs": [
    {
     "data": {
      "image/png": "[encoded data removed]",
      "text/plain": [
       "<Figure size 432x288 with 1 Axes>"
      ]
     },
     "metadata": {},
     "output_type": "display_data"
    }
   ],
   "source": [
    "# Creating ths confusion matrix\n",
    "from sklearn.metrics import confusion_matrix\n",
    "cm_train = confusion_matrix(train_set_y_orig, predictions_train)\n",
    "import seaborn as sns; sns.set()  # for plot styling\n",
    "sns.heatmap(cm_train, square=True, annot=True, fmt='d', cbar=False,\n",
    "            xticklabels=range(5),\n",
    "            yticklabels=range(5))\n",
    "plt.ylabel('true label')\n",
    "plt.xlabel('predicted label');"
   ]
  },
  {
   "cell_type": "code",
   "execution_count": 15,
   "metadata": {},
   "outputs": [
    {
     "name": "stdout",
     "output_type": "stream",
     "text": [
      "0.8333333333333334\n"
     ]
    }
   ],
   "source": [
    "# Evaluating the test dataset\n",
    "predictions_test = logreg.predict(pixels_test)\n",
    "# Use score method to get accuracy of model\n",
    "score_test = logreg.score(pixels_test, test_set_y_orig)\n",
    "print(score_test)"
   ]
  },
  {
   "cell_type": "code",
   "execution_count": 16,
   "metadata": {},
   "outputs": [
    {
     "name": "stdout",
     "output_type": "stream",
     "text": [
      "              precision    recall  f1-score   support\n",
      "\n",
      "           0       0.87      1.00      0.93        20\n",
      "           1       0.90      0.95      0.93        20\n",
      "           2       0.93      0.65      0.76        20\n",
      "           3       0.75      0.90      0.82        20\n",
      "           4       0.88      0.70      0.78        20\n",
      "           5       0.73      0.80      0.76        20\n",
      "\n",
      "    accuracy                           0.83       120\n",
      "   macro avg       0.84      0.83      0.83       120\n",
      "weighted avg       0.84      0.83      0.83       120\n",
      "\n"
     ]
    },
    {
     "data": {
      "image/png": "[encoded data removed]",
      "text/plain": [
       "<Figure size 432x288 with 1 Axes>"
      ]
     },
     "metadata": {},
     "output_type": "display_data"
    }
   ],
   "source": [
    "# Creating the classification and confusion matrix \n",
    "from sklearn.metrics import confusion_matrix, classification_report\n",
    "cr = classification_report(test_set_y_orig, predictions_test)\n",
    "print(cr)\n",
    "cm = confusion_matrix(test_set_y_orig, predictions_test)\n",
    "import seaborn as sns; sns.set()  # for plot styling\n",
    "sns.heatmap(cm, square=True, annot=True, fmt='d', cbar=False,\n",
    "            xticklabels=range(5),\n",
    "            yticklabels=range(5))\n",
    "plt.ylabel('true label')\n",
    "plt.xlabel('predicted label');"
   ]
  },
  {
   "cell_type": "markdown",
   "metadata": {},
   "source": [
    "# Build a DNN \n",
    "Use Keras to build a small neural network. Number of hidden layers is less than 5 and each layer should have between 5 and 10 neurons. The loss for a multiclass keras problem is called `SparseCategoricalCrossentropy`. Notice that, we already have a flattening layer in DNN, so you can actually use the normalized image without the flattening step that you have done earlier when you were building logistic regression"
   ]
  },
  {
   "cell_type": "code",
   "execution_count": 17,
   "metadata": {},
   "outputs": [],
   "source": [
    "# Solve Here\n",
    "# Using tensorflow keras andNumber of hidden layers is less than 5 and each layer should have between 5 and 10 neurons\n",
    "from tensorflow.keras import models, layers\n",
    "model = models.Sequential()\n",
    "model.add(layers.Flatten(input_shape=(64,64,3)))\n",
    "model.add(layers.Dense(9, activation = 'relu'))\n",
    "model.add(layers.Dense(9, activation = 'relu'))\n",
    "model.add(layers.Dense(7, activation = 'relu'))\n",
    "model.add(layers.Dense(6, activation = 'softmax'))"
   ]
  },
  {
   "cell_type": "code",
   "execution_count": 18,
   "metadata": {},
   "outputs": [],
   "source": [
    "#Compiling the model\n",
    "model.compile(optimizer='adam', loss=\"sparse_categorical_crossentropy\", metrics=['accuracy'])"
   ]
  },
  {
   "cell_type": "code",
   "execution_count": 19,
   "metadata": {},
   "outputs": [
    {
     "name": "stdout",
     "output_type": "stream",
     "text": [
      "Train on 1080 samples, validate on 120 samples\n",
      "Epoch 1/10\n",
      "1080/1080 [==============================] - 2s 2ms/sample - loss: 1.8037 - accuracy: 0.1574 - val_loss: 1.7918 - val_accuracy: 0.1667\n",
      "Epoch 2/10\n",
      "1080/1080 [==============================] - 0s 139us/sample - loss: 1.7919 - accuracy: 0.1667 - val_loss: 1.7918 - val_accuracy: 0.1667\n",
      "Epoch 3/10\n",
      "1080/1080 [==============================] - 0s 129us/sample - loss: 1.7919 - accuracy: 0.1667 - val_loss: 1.7918 - val_accuracy: 0.1667\n",
      "Epoch 4/10\n",
      "1080/1080 [==============================] - 0s 129us/sample - loss: 1.7920 - accuracy: 0.1472 - val_loss: 1.7918 - val_accuracy: 0.1667\n",
      "Epoch 5/10\n",
      "1080/1080 [==============================] - 0s 130us/sample - loss: 1.7919 - accuracy: 0.1556 - val_loss: 1.7918 - val_accuracy: 0.1667\n",
      "Epoch 6/10\n",
      "1080/1080 [==============================] - 0s 134us/sample - loss: 1.7919 - accuracy: 0.1667 - val_loss: 1.7918 - val_accuracy: 0.1667\n",
      "Epoch 7/10\n",
      "1080/1080 [==============================] - 0s 131us/sample - loss: 1.7919 - accuracy: 0.1537 - val_loss: 1.7918 - val_accuracy: 0.1667\n",
      "Epoch 8/10\n",
      "1080/1080 [==============================] - 0s 133us/sample - loss: 1.7919 - accuracy: 0.1565 - val_loss: 1.7918 - val_accuracy: 0.1667\n",
      "Epoch 9/10\n",
      "1080/1080 [==============================] - 0s 129us/sample - loss: 1.7919 - accuracy: 0.1602 - val_loss: 1.7918 - val_accuracy: 0.1667\n",
      "Epoch 10/10\n",
      "1080/1080 [==============================] - 0s 129us/sample - loss: 1.7919 - accuracy: 0.1667 - val_loss: 1.7918 - val_accuracy: 0.1667\n"
     ]
    },
    {
     "data": {
      "text/plain": [
       "<tensorflow.python.keras.callbacks.History at 0x147e9cda0>"
      ]
     },
     "execution_count": 19,
     "metadata": {},
     "output_type": "execute_result"
    }
   ],
   "source": [
    "# fitting the model\n",
    "model.fit(train_set_x_orig, train_set_y_orig, epochs=10, validation_data=(test_set_x_orig, test_set_y_orig))"
   ]
  },
  {
   "cell_type": "code",
   "execution_count": 20,
   "metadata": {},
   "outputs": [],
   "source": [
    "#model.evaluate(train_set_x_orig, train_set_y_orig)\n",
    "#model.evaluate(test_set_x_orig, test_set_y_orig)"
   ]
  },
  {
   "cell_type": "markdown",
   "metadata": {},
   "source": [
    "\n",
    "### Note: Here we can see that the model that we have build up using neurons less than 10 will not go beyond the accuracy score of 0.16/0.17 as the dataset has a lot of noise and it is impossible for the model to learn anything using the low number of neurons. \n"
   ]
  },
  {
   "cell_type": "code",
   "execution_count": 21,
   "metadata": {},
   "outputs": [
    {
     "name": "stdout",
     "output_type": "stream",
     "text": [
      "              precision    recall  f1-score   support\n",
      "\n",
      "           0       0.00      0.00      0.00        20\n",
      "           1       0.00      0.00      0.00        20\n",
      "           2       0.00      0.00      0.00        20\n",
      "           3       0.00      0.00      0.00        20\n",
      "           4       0.00      0.00      0.00        20\n",
      "           5       0.17      1.00      0.29        20\n",
      "\n",
      "    accuracy                           0.17       120\n",
      "   macro avg       0.03      0.17      0.05       120\n",
      "weighted avg       0.03      0.17      0.05       120\n",
      "\n",
      "[[ 0  0  0  0  0 20]\n",
      " [ 0  0  0  0  0 20]\n",
      " [ 0  0  0  0  0 20]\n",
      " [ 0  0  0  0  0 20]\n",
      " [ 0  0  0  0  0 20]\n",
      " [ 0  0  0  0  0 20]]\n"
     ]
    },
    {
     "name": "stderr",
     "output_type": "stream",
     "text": [
      "/Users/shreedharsapkota/anaconda3/lib/python3.7/site-packages/sklearn/metrics/classification.py:1437: UndefinedMetricWarning: Precision and F-score are ill-defined and being set to 0.0 in labels with no predicted samples.\n",
      "  'precision', 'predicted', average, warn_for)\n"
     ]
    }
   ],
   "source": [
    "# Calculating classification report and confusion matrix\n",
    "pred_test = model.predict_classes(test_set_x_orig)\n",
    "from sklearn.metrics import classification_report, confusion_matrix\n",
    "cr = classification_report(test_set_y_orig, pred_test)\n",
    "print(cr)\n",
    "cm = confusion_matrix(test_set_y_orig, pred_test)\n",
    "print(cm)\n"
   ]
  },
  {
   "cell_type": "markdown",
   "metadata": {},
   "source": [
    "### Learning Rate Optimizing\n",
    "Did you notice that the it was not or learning was a little slow at the beginning? That is because of the keras learning rate is being high by default. Let's play around with the learning rate to give the DNN more change to learn. Change the compiling line for the model to `model.compile(loss='SparseCategoricalCrossentropy', optimizer = tf.keras.optimizers.Adam(lr=0.0001), metrics=['accuracy'])` so that you can decrease the learning rate. Moreover, this is a good chance to read about the different optimizers type. Check this link.\n",
    "https://medium.com/datadriveninvestor/overview-of-different-optimizers-for-neural-networks-e0ed119440c3\n",
    "\n",
    "Run your network for at least 300 epochs and use batch_size=100\n",
    "\n",
    "What is the training and validation accuracy and confusion matrix for both?"
   ]
  },
  {
   "cell_type": "code",
   "execution_count": 22,
   "metadata": {},
   "outputs": [],
   "source": [
    "# Solve Here\n",
    "# Creating new learning rate\n",
    "from tensorflow.keras import models, layers\n",
    "model = models.Sequential()\n",
    "model.add(layers.Flatten(input_shape=(64,64,3)))\n",
    "model.add(layers.Dense(9, activation = 'relu'))\n",
    "model.add(layers.Dense(9, activation = 'relu'))\n",
    "model.add(layers.Dense(7, activation = 'relu'))\n",
    "model.add(layers.Dense(6, activation = 'softmax'))\n",
    "model.compile(loss='sparse_categorical_crossentropy', optimizer = tf.keras.optimizers.Adam(lr=0.0001), metrics=['accuracy']) "
   ]
  },
  {
   "cell_type": "code",
   "execution_count": 23,
   "metadata": {},
   "outputs": [
    {
     "name": "stdout",
     "output_type": "stream",
     "text": [
      "Train on 1080 samples, validate on 120 samples\n",
      "Epoch 1/300\n",
      "1080/1080 [==============================] - 1s 681us/sample - loss: 1.7930 - accuracy: 0.1685 - val_loss: 1.7921 - val_accuracy: 0.1667\n",
      "Epoch 2/300\n",
      "1080/1080 [==============================] - 0s 90us/sample - loss: 1.7921 - accuracy: 0.1759 - val_loss: 1.7919 - val_accuracy: 0.1500\n",
      "Epoch 3/300\n",
      "1080/1080 [==============================] - 0s 91us/sample - loss: 1.7915 - accuracy: 0.1824 - val_loss: 1.7913 - val_accuracy: 0.1667\n",
      "Epoch 4/300\n",
      "1080/1080 [==============================] - 0s 94us/sample - loss: 1.7910 - accuracy: 0.1750 - val_loss: 1.7907 - val_accuracy: 0.2083\n",
      "Epoch 5/300\n",
      "1080/1080 [==============================] - 0s 98us/sample - loss: 1.7901 - accuracy: 0.1870 - val_loss: 1.7904 - val_accuracy: 0.2333\n",
      "Epoch 6/300\n",
      "1080/1080 [==============================] - 0s 91us/sample - loss: 1.7899 - accuracy: 0.1944 - val_loss: 1.7900 - val_accuracy: 0.1833\n",
      "Epoch 7/300\n",
      "1080/1080 [==============================] - 0s 96us/sample - loss: 1.7897 - accuracy: 0.1639 - val_loss: 1.7898 - val_accuracy: 0.1917\n",
      "Epoch 8/300\n",
      "1080/1080 [==============================] - 0s 96us/sample - loss: 1.7896 - accuracy: 0.1917 - val_loss: 1.7896 - val_accuracy: 0.1917\n",
      "Epoch 9/300\n",
      "1080/1080 [==============================] - 0s 90us/sample - loss: 1.7889 - accuracy: 0.1981 - val_loss: 1.7891 - val_accuracy: 0.1667\n",
      "Epoch 10/300\n",
      "1080/1080 [==============================] - 0s 93us/sample - loss: 1.7881 - accuracy: 0.1731 - val_loss: 1.7883 - val_accuracy: 0.1833\n",
      "Epoch 11/300\n",
      "1080/1080 [==============================] - 0s 98us/sample - loss: 1.7873 - accuracy: 0.2074 - val_loss: 1.7878 - val_accuracy: 0.2083\n",
      "Epoch 12/300\n",
      "1080/1080 [==============================] - 0s 92us/sample - loss: 1.7867 - accuracy: 0.2472 - val_loss: 1.7872 - val_accuracy: 0.2000\n",
      "Epoch 13/300\n",
      "1080/1080 [==============================] - 0s 94us/sample - loss: 1.7863 - accuracy: 0.2657 - val_loss: 1.7868 - val_accuracy: 0.2167\n",
      "Epoch 14/300\n",
      "1080/1080 [==============================] - 0s 94us/sample - loss: 1.7859 - accuracy: 0.2481 - val_loss: 1.7866 - val_accuracy: 0.1917\n",
      "Epoch 15/300\n",
      "1080/1080 [==============================] - 0s 93us/sample - loss: 1.7859 - accuracy: 0.2000 - val_loss: 1.7862 - val_accuracy: 0.2167\n",
      "Epoch 16/300\n",
      "1080/1080 [==============================] - 0s 90us/sample - loss: 1.7851 - accuracy: 0.2657 - val_loss: 1.7856 - val_accuracy: 0.2167\n",
      "Epoch 17/300\n",
      "1080/1080 [==============================] - 0s 91us/sample - loss: 1.7841 - accuracy: 0.2722 - val_loss: 1.7847 - val_accuracy: 0.2167\n",
      "Epoch 18/300\n",
      "1080/1080 [==============================] - 0s 88us/sample - loss: 1.7837 - accuracy: 0.2426 - val_loss: 1.7846 - val_accuracy: 0.2250\n",
      "Epoch 19/300\n",
      "1080/1080 [==============================] - 0s 91us/sample - loss: 1.7829 - accuracy: 0.2361 - val_loss: 1.7842 - val_accuracy: 0.1917\n",
      "Epoch 20/300\n",
      "1080/1080 [==============================] - 0s 92us/sample - loss: 1.7822 - accuracy: 0.2333 - val_loss: 1.7837 - val_accuracy: 0.2417\n",
      "Epoch 21/300\n",
      "1080/1080 [==============================] - 0s 93us/sample - loss: 1.7819 - accuracy: 0.2278 - val_loss: 1.7825 - val_accuracy: 0.2333\n",
      "Epoch 22/300\n",
      "1080/1080 [==============================] - 0s 94us/sample - loss: 1.7810 - accuracy: 0.2194 - val_loss: 1.7819 - val_accuracy: 0.2500\n",
      "Epoch 23/300\n",
      "1080/1080 [==============================] - 0s 95us/sample - loss: 1.7809 - accuracy: 0.2500 - val_loss: 1.7812 - val_accuracy: 0.2333\n",
      "Epoch 24/300\n",
      "1080/1080 [==============================] - 0s 92us/sample - loss: 1.7795 - accuracy: 0.2546 - val_loss: 1.7808 - val_accuracy: 0.2500\n",
      "Epoch 25/300\n",
      "1080/1080 [==============================] - 0s 91us/sample - loss: 1.7791 - accuracy: 0.2509 - val_loss: 1.7800 - val_accuracy: 0.2417\n",
      "Epoch 26/300\n",
      "1080/1080 [==============================] - 0s 91us/sample - loss: 1.7777 - accuracy: 0.2806 - val_loss: 1.7791 - val_accuracy: 0.2333\n",
      "Epoch 27/300\n",
      "1080/1080 [==============================] - 0s 90us/sample - loss: 1.7769 - accuracy: 0.2694 - val_loss: 1.7784 - val_accuracy: 0.2333\n",
      "Epoch 28/300\n",
      "1080/1080 [==============================] - 0s 98us/sample - loss: 1.7764 - accuracy: 0.2694 - val_loss: 1.7775 - val_accuracy: 0.2333\n",
      "Epoch 29/300\n",
      "1080/1080 [==============================] - 0s 91us/sample - loss: 1.7752 - accuracy: 0.2731 - val_loss: 1.7767 - val_accuracy: 0.2333\n",
      "Epoch 30/300\n",
      "1080/1080 [==============================] - 0s 90us/sample - loss: 1.7742 - accuracy: 0.2787 - val_loss: 1.7759 - val_accuracy: 0.2417\n",
      "Epoch 31/300\n",
      "1080/1080 [==============================] - 0s 107us/sample - loss: 1.7731 - accuracy: 0.2769 - val_loss: 1.7750 - val_accuracy: 0.2417\n",
      "Epoch 32/300\n",
      "1080/1080 [==============================] - 0s 100us/sample - loss: 1.7723 - accuracy: 0.2778 - val_loss: 1.7741 - val_accuracy: 0.2250\n",
      "Epoch 33/300\n",
      "1080/1080 [==============================] - 0s 93us/sample - loss: 1.7714 - accuracy: 0.2685 - val_loss: 1.7733 - val_accuracy: 0.2333\n",
      "Epoch 34/300\n",
      "1080/1080 [==============================] - 0s 93us/sample - loss: 1.7701 - accuracy: 0.2713 - val_loss: 1.7724 - val_accuracy: 0.2250\n",
      "Epoch 35/300\n",
      "1080/1080 [==============================] - 0s 96us/sample - loss: 1.7692 - accuracy: 0.2796 - val_loss: 1.7714 - val_accuracy: 0.2417\n",
      "Epoch 36/300\n",
      "1080/1080 [==============================] - 0s 89us/sample - loss: 1.7680 - accuracy: 0.2769 - val_loss: 1.7704 - val_accuracy: 0.2417\n",
      "Epoch 37/300\n",
      "1080/1080 [==============================] - 0s 91us/sample - loss: 1.7667 - accuracy: 0.2778 - val_loss: 1.7697 - val_accuracy: 0.2250\n",
      "Epoch 38/300\n",
      "1080/1080 [==============================] - 0s 94us/sample - loss: 1.7675 - accuracy: 0.2593 - val_loss: 1.7703 - val_accuracy: 0.2583\n",
      "Epoch 39/300\n",
      "1080/1080 [==============================] - 0s 92us/sample - loss: 1.7660 - accuracy: 0.2463 - val_loss: 1.7691 - val_accuracy: 0.2083\n",
      "Epoch 40/300\n",
      "1080/1080 [==============================] - 0s 92us/sample - loss: 1.7639 - accuracy: 0.2565 - val_loss: 1.7670 - val_accuracy: 0.2250\n",
      "Epoch 41/300\n",
      "1080/1080 [==============================] - 0s 89us/sample - loss: 1.7632 - accuracy: 0.2602 - val_loss: 1.7658 - val_accuracy: 0.2417\n",
      "Epoch 42/300\n",
      "1080/1080 [==============================] - 0s 94us/sample - loss: 1.7617 - accuracy: 0.2713 - val_loss: 1.7646 - val_accuracy: 0.2333\n",
      "Epoch 43/300\n",
      "1080/1080 [==============================] - 0s 91us/sample - loss: 1.7603 - accuracy: 0.2843 - val_loss: 1.7638 - val_accuracy: 0.2333\n",
      "Epoch 44/300\n",
      "1080/1080 [==============================] - 0s 90us/sample - loss: 1.7588 - accuracy: 0.2704 - val_loss: 1.7625 - val_accuracy: 0.2250\n",
      "Epoch 45/300\n",
      "1080/1080 [==============================] - 0s 91us/sample - loss: 1.7571 - accuracy: 0.2815 - val_loss: 1.7618 - val_accuracy: 0.2583\n",
      "Epoch 46/300\n",
      "1080/1080 [==============================] - 0s 91us/sample - loss: 1.7562 - accuracy: 0.2741 - val_loss: 1.7603 - val_accuracy: 0.2333\n",
      "Epoch 47/300\n",
      "1080/1080 [==============================] - 0s 91us/sample - loss: 1.7555 - accuracy: 0.2657 - val_loss: 1.7589 - val_accuracy: 0.2417\n",
      "Epoch 48/300\n",
      "1080/1080 [==============================] - 0s 89us/sample - loss: 1.7532 - accuracy: 0.2694 - val_loss: 1.7579 - val_accuracy: 0.2500\n",
      "Epoch 49/300\n",
      "1080/1080 [==============================] - 0s 93us/sample - loss: 1.7527 - accuracy: 0.2722 - val_loss: 1.7567 - val_accuracy: 0.2500\n",
      "Epoch 50/300\n",
      "1080/1080 [==============================] - 0s 93us/sample - loss: 1.7509 - accuracy: 0.2843 - val_loss: 1.7560 - val_accuracy: 0.2500\n",
      "Epoch 51/300\n",
      "1080/1080 [==============================] - 0s 93us/sample - loss: 1.7489 - accuracy: 0.2806 - val_loss: 1.7547 - val_accuracy: 0.2417\n",
      "Epoch 52/300\n",
      "1080/1080 [==============================] - 0s 91us/sample - loss: 1.7500 - accuracy: 0.2639 - val_loss: 1.7530 - val_accuracy: 0.2417\n",
      "Epoch 53/300\n",
      "1080/1080 [==============================] - 0s 94us/sample - loss: 1.7466 - accuracy: 0.2722 - val_loss: 1.7518 - val_accuracy: 0.2417\n",
      "Epoch 54/300\n",
      "1080/1080 [==============================] - 0s 89us/sample - loss: 1.7451 - accuracy: 0.2648 - val_loss: 1.7509 - val_accuracy: 0.2333\n",
      "Epoch 55/300\n",
      "1080/1080 [==============================] - 0s 96us/sample - loss: 1.7453 - accuracy: 0.2750 - val_loss: 1.7496 - val_accuracy: 0.2500\n",
      "Epoch 56/300\n",
      "1080/1080 [==============================] - 0s 91us/sample - loss: 1.7414 - accuracy: 0.2676 - val_loss: 1.7495 - val_accuracy: 0.2333\n",
      "Epoch 57/300\n",
      "1080/1080 [==============================] - 0s 88us/sample - loss: 1.7413 - accuracy: 0.2704 - val_loss: 1.7477 - val_accuracy: 0.2500\n",
      "Epoch 58/300\n",
      "1080/1080 [==============================] - 0s 100us/sample - loss: 1.7388 - accuracy: 0.2806 - val_loss: 1.7450 - val_accuracy: 0.2417\n",
      "Epoch 59/300\n",
      "1080/1080 [==============================] - 0s 89us/sample - loss: 1.7372 - accuracy: 0.2787 - val_loss: 1.7440 - val_accuracy: 0.2500\n",
      "Epoch 60/300\n",
      "1080/1080 [==============================] - 0s 90us/sample - loss: 1.7366 - accuracy: 0.2769 - val_loss: 1.7432 - val_accuracy: 0.2500\n",
      "Epoch 61/300\n",
      "1080/1080 [==============================] - 0s 94us/sample - loss: 1.7339 - accuracy: 0.2796 - val_loss: 1.7420 - val_accuracy: 0.2417\n",
      "Epoch 62/300\n",
      "1080/1080 [==============================] - 0s 94us/sample - loss: 1.7323 - accuracy: 0.2843 - val_loss: 1.7410 - val_accuracy: 0.2417\n",
      "Epoch 63/300\n",
      "1080/1080 [==============================] - 0s 94us/sample - loss: 1.7311 - accuracy: 0.2824 - val_loss: 1.7401 - val_accuracy: 0.2583\n",
      "Epoch 64/300\n",
      "1080/1080 [==============================] - 0s 94us/sample - loss: 1.7316 - accuracy: 0.2731 - val_loss: 1.7370 - val_accuracy: 0.2333\n",
      "Epoch 65/300\n",
      "1080/1080 [==============================] - 0s 93us/sample - loss: 1.7276 - accuracy: 0.2741 - val_loss: 1.7356 - val_accuracy: 0.2500\n",
      "Epoch 66/300\n",
      "1080/1080 [==============================] - 0s 90us/sample - loss: 1.7260 - accuracy: 0.2787 - val_loss: 1.7342 - val_accuracy: 0.2333\n",
      "Epoch 67/300\n",
      "1080/1080 [==============================] - 0s 93us/sample - loss: 1.7239 - accuracy: 0.2796 - val_loss: 1.7329 - val_accuracy: 0.2417\n",
      "Epoch 68/300\n",
      "1080/1080 [==============================] - 0s 91us/sample - loss: 1.7226 - accuracy: 0.2741 - val_loss: 1.7315 - val_accuracy: 0.2500\n",
      "Epoch 69/300\n",
      "1080/1080 [==============================] - 0s 92us/sample - loss: 1.7224 - accuracy: 0.2741 - val_loss: 1.7300 - val_accuracy: 0.2333\n",
      "Epoch 70/300\n",
      "1080/1080 [==============================] - 0s 96us/sample - loss: 1.7195 - accuracy: 0.2843 - val_loss: 1.7286 - val_accuracy: 0.2417\n",
      "Epoch 71/300\n",
      "1080/1080 [==============================] - 0s 90us/sample - loss: 1.7172 - accuracy: 0.2833 - val_loss: 1.7272 - val_accuracy: 0.2417\n",
      "Epoch 72/300\n",
      "1080/1080 [==============================] - 0s 91us/sample - loss: 1.7149 - accuracy: 0.2759 - val_loss: 1.7254 - val_accuracy: 0.2333\n",
      "Epoch 73/300\n",
      "1080/1080 [==============================] - 0s 92us/sample - loss: 1.7131 - accuracy: 0.2833 - val_loss: 1.7241 - val_accuracy: 0.2417\n",
      "Epoch 74/300\n",
      "1080/1080 [==============================] - 0s 91us/sample - loss: 1.7124 - accuracy: 0.2713 - val_loss: 1.7239 - val_accuracy: 0.2417\n",
      "Epoch 75/300\n",
      "1080/1080 [==============================] - 0s 93us/sample - loss: 1.7105 - accuracy: 0.2731 - val_loss: 1.7223 - val_accuracy: 0.2583\n",
      "Epoch 76/300\n",
      "1080/1080 [==============================] - 0s 95us/sample - loss: 1.7102 - accuracy: 0.2731 - val_loss: 1.7217 - val_accuracy: 0.2583\n",
      "Epoch 77/300\n",
      "1080/1080 [==============================] - 0s 89us/sample - loss: 1.7082 - accuracy: 0.2787 - val_loss: 1.7192 - val_accuracy: 0.2500\n",
      "Epoch 78/300\n",
      "1080/1080 [==============================] - 0s 89us/sample - loss: 1.7038 - accuracy: 0.2759 - val_loss: 1.7177 - val_accuracy: 0.2583\n",
      "Epoch 79/300\n",
      "1080/1080 [==============================] - 0s 94us/sample - loss: 1.7021 - accuracy: 0.2750 - val_loss: 1.7152 - val_accuracy: 0.2500\n",
      "Epoch 80/300\n",
      "1080/1080 [==============================] - 0s 96us/sample - loss: 1.6999 - accuracy: 0.2843 - val_loss: 1.7138 - val_accuracy: 0.2417\n",
      "Epoch 81/300\n",
      "1080/1080 [==============================] - 0s 96us/sample - loss: 1.6997 - accuracy: 0.2824 - val_loss: 1.7120 - val_accuracy: 0.2417\n",
      "Epoch 82/300\n",
      "1080/1080 [==============================] - 0s 95us/sample - loss: 1.6963 - accuracy: 0.2787 - val_loss: 1.7113 - val_accuracy: 0.2417\n",
      "Epoch 83/300\n",
      "1080/1080 [==============================] - 0s 93us/sample - loss: 1.6960 - accuracy: 0.2843 - val_loss: 1.7086 - val_accuracy: 0.2417\n",
      "Epoch 84/300\n",
      "1080/1080 [==============================] - 0s 93us/sample - loss: 1.6940 - accuracy: 0.2907 - val_loss: 1.7088 - val_accuracy: 0.2667\n",
      "Epoch 85/300\n",
      "1080/1080 [==============================] - 0s 97us/sample - loss: 1.6944 - accuracy: 0.2648 - val_loss: 1.7120 - val_accuracy: 0.2083\n",
      "Epoch 86/300\n",
      "1080/1080 [==============================] - 0s 94us/sample - loss: 1.6903 - accuracy: 0.2843 - val_loss: 1.7088 - val_accuracy: 0.2667\n",
      "Epoch 87/300\n",
      "1080/1080 [==============================] - 0s 94us/sample - loss: 1.6883 - accuracy: 0.2880 - val_loss: 1.7046 - val_accuracy: 0.2333\n",
      "Epoch 88/300\n",
      "1080/1080 [==============================] - 0s 93us/sample - loss: 1.6857 - accuracy: 0.2944 - val_loss: 1.7011 - val_accuracy: 0.2417\n",
      "Epoch 89/300\n",
      "1080/1080 [==============================] - 0s 92us/sample - loss: 1.6826 - accuracy: 0.2889 - val_loss: 1.6994 - val_accuracy: 0.2333\n",
      "Epoch 90/300\n",
      "1080/1080 [==============================] - 0s 95us/sample - loss: 1.6806 - accuracy: 0.2889 - val_loss: 1.6982 - val_accuracy: 0.2333\n",
      "Epoch 91/300\n",
      "1080/1080 [==============================] - 0s 91us/sample - loss: 1.6790 - accuracy: 0.2889 - val_loss: 1.6961 - val_accuracy: 0.2167\n",
      "Epoch 92/300\n",
      "1080/1080 [==============================] - 0s 90us/sample - loss: 1.6771 - accuracy: 0.2917 - val_loss: 1.6949 - val_accuracy: 0.2333\n",
      "Epoch 93/300\n",
      "1080/1080 [==============================] - 0s 93us/sample - loss: 1.6767 - accuracy: 0.2898 - val_loss: 1.6983 - val_accuracy: 0.2583\n",
      "Epoch 94/300\n",
      "1080/1080 [==============================] - 0s 90us/sample - loss: 1.6767 - accuracy: 0.2833 - val_loss: 1.6922 - val_accuracy: 0.2083\n",
      "Epoch 95/300\n",
      "1080/1080 [==============================] - 0s 91us/sample - loss: 1.6728 - accuracy: 0.2972 - val_loss: 1.6945 - val_accuracy: 0.2583\n",
      "Epoch 96/300\n",
      "1080/1080 [==============================] - 0s 89us/sample - loss: 1.6716 - accuracy: 0.3009 - val_loss: 1.6893 - val_accuracy: 0.2250\n",
      "Epoch 97/300\n",
      "1080/1080 [==============================] - 0s 94us/sample - loss: 1.6679 - accuracy: 0.2954 - val_loss: 1.6867 - val_accuracy: 0.2167\n",
      "Epoch 98/300\n",
      "1080/1080 [==============================] - 0s 94us/sample - loss: 1.6646 - accuracy: 0.2963 - val_loss: 1.6853 - val_accuracy: 0.2167\n",
      "Epoch 99/300\n",
      "1080/1080 [==============================] - 0s 92us/sample - loss: 1.6636 - accuracy: 0.3009 - val_loss: 1.6858 - val_accuracy: 0.2417\n",
      "Epoch 100/300\n",
      "1080/1080 [==============================] - 0s 92us/sample - loss: 1.6622 - accuracy: 0.2944 - val_loss: 1.6840 - val_accuracy: 0.2750\n",
      "Epoch 101/300\n",
      "1080/1080 [==============================] - 0s 90us/sample - loss: 1.6609 - accuracy: 0.2787 - val_loss: 1.6808 - val_accuracy: 0.2333\n",
      "Epoch 102/300\n",
      "1080/1080 [==============================] - 0s 93us/sample - loss: 1.6566 - accuracy: 0.3083 - val_loss: 1.6787 - val_accuracy: 0.2333\n",
      "Epoch 103/300\n",
      "1080/1080 [==============================] - 0s 93us/sample - loss: 1.6557 - accuracy: 0.3241 - val_loss: 1.6790 - val_accuracy: 0.2667\n",
      "Epoch 104/300\n",
      "1080/1080 [==============================] - 0s 92us/sample - loss: 1.6554 - accuracy: 0.3102 - val_loss: 1.6758 - val_accuracy: 0.2583\n",
      "Epoch 105/300\n",
      "1080/1080 [==============================] - 0s 90us/sample - loss: 1.6519 - accuracy: 0.3009 - val_loss: 1.6738 - val_accuracy: 0.2333\n",
      "Epoch 106/300\n",
      "1080/1080 [==============================] - 0s 94us/sample - loss: 1.6490 - accuracy: 0.3139 - val_loss: 1.6726 - val_accuracy: 0.2250\n",
      "Epoch 107/300\n",
      "1080/1080 [==============================] - 0s 88us/sample - loss: 1.6491 - accuracy: 0.3148 - val_loss: 1.6739 - val_accuracy: 0.2667\n",
      "Epoch 108/300\n",
      "1080/1080 [==============================] - 0s 98us/sample - loss: 1.6470 - accuracy: 0.3046 - val_loss: 1.6693 - val_accuracy: 0.2417\n",
      "Epoch 109/300\n",
      "1080/1080 [==============================] - 0s 96us/sample - loss: 1.6428 - accuracy: 0.3167 - val_loss: 1.6674 - val_accuracy: 0.2500\n",
      "Epoch 110/300\n",
      "1080/1080 [==============================] - 0s 98us/sample - loss: 1.6404 - accuracy: 0.3213 - val_loss: 1.6663 - val_accuracy: 0.2583\n",
      "Epoch 111/300\n",
      "1080/1080 [==============================] - 0s 93us/sample - loss: 1.6383 - accuracy: 0.3185 - val_loss: 1.6672 - val_accuracy: 0.2750\n",
      "Epoch 112/300\n",
      "1080/1080 [==============================] - 0s 102us/sample - loss: 1.6381 - accuracy: 0.3083 - val_loss: 1.6634 - val_accuracy: 0.2583\n",
      "Epoch 113/300\n",
      "1080/1080 [==============================] - 0s 90us/sample - loss: 1.6345 - accuracy: 0.3148 - val_loss: 1.6609 - val_accuracy: 0.2583\n",
      "Epoch 114/300\n",
      "1080/1080 [==============================] - 0s 93us/sample - loss: 1.6386 - accuracy: 0.3287 - val_loss: 1.6666 - val_accuracy: 0.2500\n",
      "Epoch 115/300\n",
      "1080/1080 [==============================] - 0s 98us/sample - loss: 1.6354 - accuracy: 0.3074 - val_loss: 1.6594 - val_accuracy: 0.2917\n",
      "Epoch 116/300\n",
      "1080/1080 [==============================] - 0s 93us/sample - loss: 1.6289 - accuracy: 0.3231 - val_loss: 1.6563 - val_accuracy: 0.2500\n",
      "Epoch 117/300\n",
      "1080/1080 [==============================] - 0s 95us/sample - loss: 1.6280 - accuracy: 0.3361 - val_loss: 1.6566 - val_accuracy: 0.2500\n",
      "Epoch 118/300\n",
      "1080/1080 [==============================] - 0s 93us/sample - loss: 1.6259 - accuracy: 0.3194 - val_loss: 1.6535 - val_accuracy: 0.2750\n",
      "Epoch 119/300\n",
      "1080/1080 [==============================] - 0s 96us/sample - loss: 1.6222 - accuracy: 0.3194 - val_loss: 1.6516 - val_accuracy: 0.2667\n",
      "Epoch 120/300\n",
      "1080/1080 [==============================] - 0s 90us/sample - loss: 1.6208 - accuracy: 0.3259 - val_loss: 1.6523 - val_accuracy: 0.2500\n",
      "Epoch 121/300\n",
      "1080/1080 [==============================] - 0s 94us/sample - loss: 1.6214 - accuracy: 0.3157 - val_loss: 1.6502 - val_accuracy: 0.2500\n",
      "Epoch 122/300\n",
      "1080/1080 [==============================] - 0s 93us/sample - loss: 1.6173 - accuracy: 0.3093 - val_loss: 1.6515 - val_accuracy: 0.3250\n",
      "Epoch 123/300\n",
      "1080/1080 [==============================] - 0s 91us/sample - loss: 1.6162 - accuracy: 0.3287 - val_loss: 1.6464 - val_accuracy: 0.2417\n",
      "Epoch 124/300\n",
      "1080/1080 [==============================] - 0s 91us/sample - loss: 1.6114 - accuracy: 0.3306 - val_loss: 1.6441 - val_accuracy: 0.2750\n",
      "Epoch 125/300\n",
      "1080/1080 [==============================] - 0s 91us/sample - loss: 1.6124 - accuracy: 0.3250 - val_loss: 1.6452 - val_accuracy: 0.3167\n",
      "Epoch 126/300\n",
      "1080/1080 [==============================] - 0s 94us/sample - loss: 1.6080 - accuracy: 0.3250 - val_loss: 1.6407 - val_accuracy: 0.2500\n",
      "Epoch 127/300\n",
      "1080/1080 [==============================] - 0s 91us/sample - loss: 1.6064 - accuracy: 0.3389 - val_loss: 1.6401 - val_accuracy: 0.3333\n",
      "Epoch 128/300\n",
      "1080/1080 [==============================] - 0s 94us/sample - loss: 1.6040 - accuracy: 0.3481 - val_loss: 1.6382 - val_accuracy: 0.2667\n",
      "Epoch 129/300\n",
      "1080/1080 [==============================] - 0s 94us/sample - loss: 1.6010 - accuracy: 0.3380 - val_loss: 1.6362 - val_accuracy: 0.3083\n",
      "Epoch 130/300\n",
      "1080/1080 [==============================] - 0s 94us/sample - loss: 1.5983 - accuracy: 0.3417 - val_loss: 1.6373 - val_accuracy: 0.2500\n",
      "Epoch 131/300\n",
      "1080/1080 [==============================] - 0s 93us/sample - loss: 1.5977 - accuracy: 0.3389 - val_loss: 1.6336 - val_accuracy: 0.3250\n",
      "Epoch 132/300\n",
      "1080/1080 [==============================] - 0s 94us/sample - loss: 1.5964 - accuracy: 0.3380 - val_loss: 1.6311 - val_accuracy: 0.3083\n",
      "Epoch 133/300\n",
      "1080/1080 [==============================] - 0s 90us/sample - loss: 1.5930 - accuracy: 0.3380 - val_loss: 1.6301 - val_accuracy: 0.3333\n",
      "Epoch 134/300\n",
      "1080/1080 [==============================] - 0s 93us/sample - loss: 1.5929 - accuracy: 0.3519 - val_loss: 1.6295 - val_accuracy: 0.2333\n",
      "Epoch 135/300\n",
      "1080/1080 [==============================] - 0s 93us/sample - loss: 1.5920 - accuracy: 0.3528 - val_loss: 1.6289 - val_accuracy: 0.2500\n",
      "Epoch 136/300\n",
      "1080/1080 [==============================] - 0s 94us/sample - loss: 1.5877 - accuracy: 0.3417 - val_loss: 1.6250 - val_accuracy: 0.2583\n",
      "Epoch 137/300\n",
      "1080/1080 [==============================] - 0s 138us/sample - loss: 1.5837 - accuracy: 0.3481 - val_loss: 1.6251 - val_accuracy: 0.3333\n",
      "Epoch 138/300\n",
      "1080/1080 [==============================] - 0s 119us/sample - loss: 1.5828 - accuracy: 0.3537 - val_loss: 1.6223 - val_accuracy: 0.2417\n",
      "Epoch 139/300\n",
      "1080/1080 [==============================] - 0s 117us/sample - loss: 1.5811 - accuracy: 0.3583 - val_loss: 1.6204 - val_accuracy: 0.2667\n",
      "Epoch 140/300\n",
      "1080/1080 [==============================] - 0s 125us/sample - loss: 1.5840 - accuracy: 0.3389 - val_loss: 1.6307 - val_accuracy: 0.3167\n",
      "Epoch 141/300\n",
      "1080/1080 [==============================] - 0s 96us/sample - loss: 1.5808 - accuracy: 0.3620 - val_loss: 1.6220 - val_accuracy: 0.2667\n",
      "Epoch 142/300\n",
      "1080/1080 [==============================] - 0s 94us/sample - loss: 1.5775 - accuracy: 0.3500 - val_loss: 1.6159 - val_accuracy: 0.3333\n",
      "Epoch 143/300\n",
      "1080/1080 [==============================] - 0s 94us/sample - loss: 1.5740 - accuracy: 0.3361 - val_loss: 1.6162 - val_accuracy: 0.3333\n",
      "Epoch 144/300\n",
      "1080/1080 [==============================] - 0s 93us/sample - loss: 1.5714 - accuracy: 0.3528 - val_loss: 1.6128 - val_accuracy: 0.3250\n",
      "Epoch 145/300\n",
      "1080/1080 [==============================] - 0s 95us/sample - loss: 1.5691 - accuracy: 0.3685 - val_loss: 1.6135 - val_accuracy: 0.2417\n",
      "Epoch 146/300\n",
      "1080/1080 [==============================] - 0s 92us/sample - loss: 1.5655 - accuracy: 0.3472 - val_loss: 1.6108 - val_accuracy: 0.3250\n",
      "Epoch 147/300\n",
      "1080/1080 [==============================] - 0s 94us/sample - loss: 1.5639 - accuracy: 0.3537 - val_loss: 1.6080 - val_accuracy: 0.3083\n",
      "Epoch 148/300\n",
      "1080/1080 [==============================] - 0s 106us/sample - loss: 1.5640 - accuracy: 0.3602 - val_loss: 1.6113 - val_accuracy: 0.2583\n",
      "Epoch 149/300\n",
      "1080/1080 [==============================] - 0s 93us/sample - loss: 1.5589 - accuracy: 0.3676 - val_loss: 1.6073 - val_accuracy: 0.3333\n",
      "Epoch 150/300\n",
      "1080/1080 [==============================] - 0s 92us/sample - loss: 1.5566 - accuracy: 0.3685 - val_loss: 1.6047 - val_accuracy: 0.2500\n",
      "Epoch 151/300\n",
      "1080/1080 [==============================] - 0s 94us/sample - loss: 1.5574 - accuracy: 0.3565 - val_loss: 1.6036 - val_accuracy: 0.3333\n",
      "Epoch 152/300\n",
      "1080/1080 [==============================] - 0s 90us/sample - loss: 1.5522 - accuracy: 0.3463 - val_loss: 1.6014 - val_accuracy: 0.2500\n",
      "Epoch 153/300\n",
      "1080/1080 [==============================] - 0s 94us/sample - loss: 1.5508 - accuracy: 0.3583 - val_loss: 1.5995 - val_accuracy: 0.3333\n",
      "Epoch 154/300\n",
      "1080/1080 [==============================] - 0s 90us/sample - loss: 1.5484 - accuracy: 0.3667 - val_loss: 1.5975 - val_accuracy: 0.3000\n",
      "Epoch 155/300\n",
      "1080/1080 [==============================] - 0s 93us/sample - loss: 1.5471 - accuracy: 0.3630 - val_loss: 1.5961 - val_accuracy: 0.3000\n",
      "Epoch 156/300\n",
      "1080/1080 [==============================] - 0s 90us/sample - loss: 1.5442 - accuracy: 0.3565 - val_loss: 1.5951 - val_accuracy: 0.3250\n",
      "Epoch 157/300\n",
      "1080/1080 [==============================] - 0s 98us/sample - loss: 1.5429 - accuracy: 0.3639 - val_loss: 1.5931 - val_accuracy: 0.2917\n",
      "Epoch 158/300\n",
      "1080/1080 [==============================] - 0s 91us/sample - loss: 1.5402 - accuracy: 0.3731 - val_loss: 1.5932 - val_accuracy: 0.2583\n",
      "Epoch 159/300\n",
      "1080/1080 [==============================] - 0s 93us/sample - loss: 1.5402 - accuracy: 0.3556 - val_loss: 1.5916 - val_accuracy: 0.3250\n",
      "Epoch 160/300\n",
      "1080/1080 [==============================] - 0s 91us/sample - loss: 1.5371 - accuracy: 0.3583 - val_loss: 1.5899 - val_accuracy: 0.3333\n",
      "Epoch 161/300\n",
      "1080/1080 [==============================] - 0s 92us/sample - loss: 1.5347 - accuracy: 0.3741 - val_loss: 1.5887 - val_accuracy: 0.2750\n",
      "Epoch 162/300\n",
      "1080/1080 [==============================] - 0s 94us/sample - loss: 1.5302 - accuracy: 0.3546 - val_loss: 1.5975 - val_accuracy: 0.3250\n",
      "Epoch 163/300\n",
      "1080/1080 [==============================] - 0s 92us/sample - loss: 1.5377 - accuracy: 0.3546 - val_loss: 1.5862 - val_accuracy: 0.2750\n",
      "Epoch 164/300\n",
      "1080/1080 [==============================] - 0s 97us/sample - loss: 1.5279 - accuracy: 0.3815 - val_loss: 1.5833 - val_accuracy: 0.3000\n",
      "Epoch 165/300\n",
      "1080/1080 [==============================] - 0s 91us/sample - loss: 1.5258 - accuracy: 0.3528 - val_loss: 1.5815 - val_accuracy: 0.2833\n",
      "Epoch 166/300\n",
      "1080/1080 [==============================] - 0s 95us/sample - loss: 1.5248 - accuracy: 0.3731 - val_loss: 1.5809 - val_accuracy: 0.2917\n",
      "Epoch 167/300\n",
      "1080/1080 [==============================] - 0s 127us/sample - loss: 1.5245 - accuracy: 0.3778 - val_loss: 1.5819 - val_accuracy: 0.2833\n",
      "Epoch 168/300\n",
      "1080/1080 [==============================] - 0s 93us/sample - loss: 1.5228 - accuracy: 0.3528 - val_loss: 1.5892 - val_accuracy: 0.3250\n",
      "Epoch 169/300\n",
      "1080/1080 [==============================] - 0s 106us/sample - loss: 1.5204 - accuracy: 0.3722 - val_loss: 1.5780 - val_accuracy: 0.2750\n",
      "Epoch 170/300\n",
      "1080/1080 [==============================] - 0s 111us/sample - loss: 1.5154 - accuracy: 0.3806 - val_loss: 1.5745 - val_accuracy: 0.3000\n",
      "Epoch 171/300\n",
      "1080/1080 [==============================] - 0s 103us/sample - loss: 1.5132 - accuracy: 0.3731 - val_loss: 1.5728 - val_accuracy: 0.2917\n",
      "Epoch 172/300\n",
      "1080/1080 [==============================] - 0s 113us/sample - loss: 1.5106 - accuracy: 0.3602 - val_loss: 1.5747 - val_accuracy: 0.3333\n",
      "Epoch 173/300\n",
      "1080/1080 [==============================] - 0s 115us/sample - loss: 1.5156 - accuracy: 0.3787 - val_loss: 1.5760 - val_accuracy: 0.2917\n",
      "Epoch 174/300\n",
      "1080/1080 [==============================] - 0s 106us/sample - loss: 1.5079 - accuracy: 0.3880 - val_loss: 1.5698 - val_accuracy: 0.3250\n",
      "Epoch 175/300\n",
      "1080/1080 [==============================] - 0s 100us/sample - loss: 1.5036 - accuracy: 0.3852 - val_loss: 1.5675 - val_accuracy: 0.2917\n",
      "Epoch 176/300\n",
      "1080/1080 [==============================] - 0s 116us/sample - loss: 1.5016 - accuracy: 0.3852 - val_loss: 1.5675 - val_accuracy: 0.3417\n",
      "Epoch 177/300\n",
      "1080/1080 [==============================] - 0s 117us/sample - loss: 1.5029 - accuracy: 0.3954 - val_loss: 1.5687 - val_accuracy: 0.2917\n",
      "Epoch 178/300\n",
      "1080/1080 [==============================] - 0s 106us/sample - loss: 1.4983 - accuracy: 0.3991 - val_loss: 1.5640 - val_accuracy: 0.3250\n",
      "Epoch 179/300\n",
      "1080/1080 [==============================] - 0s 103us/sample - loss: 1.4956 - accuracy: 0.3926 - val_loss: 1.5619 - val_accuracy: 0.3083\n",
      "Epoch 180/300\n",
      "1080/1080 [==============================] - 0s 118us/sample - loss: 1.4929 - accuracy: 0.3889 - val_loss: 1.5605 - val_accuracy: 0.3333\n",
      "Epoch 181/300\n",
      "1080/1080 [==============================] - 0s 112us/sample - loss: 1.4924 - accuracy: 0.4056 - val_loss: 1.5590 - val_accuracy: 0.3500\n",
      "Epoch 182/300\n",
      "1080/1080 [==============================] - 0s 104us/sample - loss: 1.4926 - accuracy: 0.4157 - val_loss: 1.5603 - val_accuracy: 0.3000\n",
      "Epoch 183/300\n",
      "1080/1080 [==============================] - 0s 104us/sample - loss: 1.4873 - accuracy: 0.3935 - val_loss: 1.5583 - val_accuracy: 0.3750\n",
      "Epoch 184/300\n",
      "1080/1080 [==============================] - 0s 104us/sample - loss: 1.4860 - accuracy: 0.4176 - val_loss: 1.5555 - val_accuracy: 0.3083\n",
      "Epoch 185/300\n",
      "1080/1080 [==============================] - 0s 100us/sample - loss: 1.4833 - accuracy: 0.4204 - val_loss: 1.5529 - val_accuracy: 0.3500\n",
      "Epoch 186/300\n",
      "1080/1080 [==============================] - 0s 97us/sample - loss: 1.4810 - accuracy: 0.4324 - val_loss: 1.5516 - val_accuracy: 0.3667\n",
      "Epoch 187/300\n",
      "1080/1080 [==============================] - 0s 98us/sample - loss: 1.4806 - accuracy: 0.4537 - val_loss: 1.5507 - val_accuracy: 0.3667\n",
      "Epoch 188/300\n",
      "1080/1080 [==============================] - 0s 97us/sample - loss: 1.4795 - accuracy: 0.4065 - val_loss: 1.5521 - val_accuracy: 0.3750\n",
      "Epoch 189/300\n",
      "1080/1080 [==============================] - 0s 95us/sample - loss: 1.4775 - accuracy: 0.4241 - val_loss: 1.5489 - val_accuracy: 0.3583\n",
      "Epoch 190/300\n",
      "1080/1080 [==============================] - 0s 91us/sample - loss: 1.4738 - accuracy: 0.4481 - val_loss: 1.5464 - val_accuracy: 0.3750\n",
      "Epoch 191/300\n",
      "1080/1080 [==============================] - 0s 91us/sample - loss: 1.4726 - accuracy: 0.4324 - val_loss: 1.5442 - val_accuracy: 0.3417\n",
      "Epoch 192/300\n",
      "1080/1080 [==============================] - 0s 94us/sample - loss: 1.4714 - accuracy: 0.4546 - val_loss: 1.5452 - val_accuracy: 0.3500\n",
      "Epoch 193/300\n",
      "1080/1080 [==============================] - 0s 101us/sample - loss: 1.4743 - accuracy: 0.4435 - val_loss: 1.5414 - val_accuracy: 0.3667\n",
      "Epoch 194/300\n",
      "1080/1080 [==============================] - 0s 98us/sample - loss: 1.4671 - accuracy: 0.4287 - val_loss: 1.5402 - val_accuracy: 0.3750\n",
      "Epoch 195/300\n",
      "1080/1080 [==============================] - 0s 95us/sample - loss: 1.4632 - accuracy: 0.4454 - val_loss: 1.5408 - val_accuracy: 0.3833\n",
      "Epoch 196/300\n",
      "1080/1080 [==============================] - 0s 94us/sample - loss: 1.4620 - accuracy: 0.4463 - val_loss: 1.5402 - val_accuracy: 0.3667\n",
      "Epoch 197/300\n",
      "1080/1080 [==============================] - 0s 96us/sample - loss: 1.4589 - accuracy: 0.4630 - val_loss: 1.5371 - val_accuracy: 0.3833\n",
      "Epoch 198/300\n",
      "1080/1080 [==============================] - 0s 94us/sample - loss: 1.4570 - accuracy: 0.4648 - val_loss: 1.5367 - val_accuracy: 0.3667\n",
      "Epoch 199/300\n",
      "1080/1080 [==============================] - 0s 92us/sample - loss: 1.4558 - accuracy: 0.4546 - val_loss: 1.5338 - val_accuracy: 0.3500\n",
      "Epoch 200/300\n",
      "1080/1080 [==============================] - 0s 92us/sample - loss: 1.4518 - accuracy: 0.4537 - val_loss: 1.5321 - val_accuracy: 0.3667\n",
      "Epoch 201/300\n",
      "1080/1080 [==============================] - 0s 94us/sample - loss: 1.4503 - accuracy: 0.4657 - val_loss: 1.5315 - val_accuracy: 0.3917\n",
      "Epoch 202/300\n",
      "1080/1080 [==============================] - 0s 93us/sample - loss: 1.4491 - accuracy: 0.4620 - val_loss: 1.5294 - val_accuracy: 0.3833\n",
      "Epoch 203/300\n",
      "1080/1080 [==============================] - 0s 99us/sample - loss: 1.4457 - accuracy: 0.4722 - val_loss: 1.5279 - val_accuracy: 0.3667\n",
      "Epoch 204/300\n",
      "1080/1080 [==============================] - 0s 92us/sample - loss: 1.4475 - accuracy: 0.4472 - val_loss: 1.5344 - val_accuracy: 0.4250\n",
      "Epoch 205/300\n",
      "1080/1080 [==============================] - 0s 99us/sample - loss: 1.4493 - accuracy: 0.4528 - val_loss: 1.5252 - val_accuracy: 0.4000\n",
      "Epoch 206/300\n",
      "1080/1080 [==============================] - 0s 90us/sample - loss: 1.4487 - accuracy: 0.4731 - val_loss: 1.5302 - val_accuracy: 0.3583\n",
      "Epoch 207/300\n",
      "1080/1080 [==============================] - 0s 101us/sample - loss: 1.4411 - accuracy: 0.4620 - val_loss: 1.5247 - val_accuracy: 0.4083\n",
      "Epoch 208/300\n",
      "1080/1080 [==============================] - 0s 95us/sample - loss: 1.4381 - accuracy: 0.4685 - val_loss: 1.5224 - val_accuracy: 0.4000\n",
      "Epoch 209/300\n",
      "1080/1080 [==============================] - 0s 105us/sample - loss: 1.4351 - accuracy: 0.4731 - val_loss: 1.5208 - val_accuracy: 0.3750\n",
      "Epoch 210/300\n",
      "1080/1080 [==============================] - 0s 108us/sample - loss: 1.4334 - accuracy: 0.4769 - val_loss: 1.5187 - val_accuracy: 0.4000\n",
      "Epoch 211/300\n",
      "1080/1080 [==============================] - 0s 102us/sample - loss: 1.4331 - accuracy: 0.4620 - val_loss: 1.5271 - val_accuracy: 0.4167\n",
      "Epoch 212/300\n",
      "1080/1080 [==============================] - 0s 100us/sample - loss: 1.4324 - accuracy: 0.4722 - val_loss: 1.5164 - val_accuracy: 0.3750\n",
      "Epoch 213/300\n",
      "1080/1080 [==============================] - 0s 94us/sample - loss: 1.4321 - accuracy: 0.4769 - val_loss: 1.5150 - val_accuracy: 0.3833\n",
      "Epoch 214/300\n",
      "1080/1080 [==============================] - 0s 103us/sample - loss: 1.4351 - accuracy: 0.4676 - val_loss: 1.5162 - val_accuracy: 0.4167\n",
      "Epoch 215/300\n",
      "1080/1080 [==============================] - 0s 108us/sample - loss: 1.4264 - accuracy: 0.4583 - val_loss: 1.5155 - val_accuracy: 0.4167\n",
      "Epoch 216/300\n",
      "1080/1080 [==============================] - 0s 132us/sample - loss: 1.4240 - accuracy: 0.4815 - val_loss: 1.5147 - val_accuracy: 0.3667\n",
      "Epoch 217/300\n",
      "1080/1080 [==============================] - 0s 137us/sample - loss: 1.4251 - accuracy: 0.4694 - val_loss: 1.5120 - val_accuracy: 0.4167\n",
      "Epoch 218/300\n",
      "1080/1080 [==============================] - 0s 95us/sample - loss: 1.4172 - accuracy: 0.4843 - val_loss: 1.5082 - val_accuracy: 0.3917\n",
      "Epoch 219/300\n",
      "1080/1080 [==============================] - 0s 96us/sample - loss: 1.4165 - accuracy: 0.4889 - val_loss: 1.5070 - val_accuracy: 0.4083\n",
      "Epoch 220/300\n",
      "1080/1080 [==============================] - 0s 97us/sample - loss: 1.4146 - accuracy: 0.4759 - val_loss: 1.5092 - val_accuracy: 0.4083\n",
      "Epoch 221/300\n",
      "1080/1080 [==============================] - 0s 117us/sample - loss: 1.4141 - accuracy: 0.4852 - val_loss: 1.5044 - val_accuracy: 0.4000\n",
      "Epoch 222/300\n",
      "1080/1080 [==============================] - 0s 106us/sample - loss: 1.4118 - accuracy: 0.4907 - val_loss: 1.5056 - val_accuracy: 0.3667\n",
      "Epoch 223/300\n",
      "1080/1080 [==============================] - 0s 103us/sample - loss: 1.4147 - accuracy: 0.4713 - val_loss: 1.5023 - val_accuracy: 0.4167\n",
      "Epoch 224/300\n",
      "1080/1080 [==============================] - 0s 100us/sample - loss: 1.4077 - accuracy: 0.4824 - val_loss: 1.5013 - val_accuracy: 0.4167\n",
      "Epoch 225/300\n",
      "1080/1080 [==============================] - 0s 98us/sample - loss: 1.4072 - accuracy: 0.4796 - val_loss: 1.5051 - val_accuracy: 0.4083\n",
      "Epoch 226/300\n",
      "1080/1080 [==============================] - 0s 94us/sample - loss: 1.4088 - accuracy: 0.4944 - val_loss: 1.5049 - val_accuracy: 0.3583\n",
      "Epoch 227/300\n",
      "1080/1080 [==============================] - 0s 94us/sample - loss: 1.4101 - accuracy: 0.4778 - val_loss: 1.5003 - val_accuracy: 0.4167\n",
      "Epoch 228/300\n",
      "1080/1080 [==============================] - 0s 98us/sample - loss: 1.4037 - accuracy: 0.4806 - val_loss: 1.5002 - val_accuracy: 0.4083\n",
      "Epoch 229/300\n",
      "1080/1080 [==============================] - 0s 93us/sample - loss: 1.3991 - accuracy: 0.4944 - val_loss: 1.5005 - val_accuracy: 0.3750\n",
      "Epoch 230/300\n",
      "1080/1080 [==============================] - 0s 92us/sample - loss: 1.3998 - accuracy: 0.4880 - val_loss: 1.5073 - val_accuracy: 0.4583\n",
      "Epoch 231/300\n",
      "1080/1080 [==============================] - 0s 96us/sample - loss: 1.3957 - accuracy: 0.4944 - val_loss: 1.4948 - val_accuracy: 0.3833\n",
      "Epoch 232/300\n",
      "1080/1080 [==============================] - 0s 93us/sample - loss: 1.3948 - accuracy: 0.4722 - val_loss: 1.5013 - val_accuracy: 0.4583\n",
      "Epoch 233/300\n",
      "1080/1080 [==============================] - 0s 93us/sample - loss: 1.3959 - accuracy: 0.4889 - val_loss: 1.4897 - val_accuracy: 0.3833\n",
      "Epoch 234/300\n",
      "1080/1080 [==============================] - 0s 91us/sample - loss: 1.3963 - accuracy: 0.5028 - val_loss: 1.5020 - val_accuracy: 0.3250\n",
      "Epoch 235/300\n",
      "1080/1080 [==============================] - 0s 94us/sample - loss: 1.3941 - accuracy: 0.4676 - val_loss: 1.4942 - val_accuracy: 0.4417\n",
      "Epoch 236/300\n",
      "1080/1080 [==============================] - 0s 93us/sample - loss: 1.3878 - accuracy: 0.4981 - val_loss: 1.4861 - val_accuracy: 0.4000\n",
      "Epoch 237/300\n",
      "1080/1080 [==============================] - 0s 100us/sample - loss: 1.3859 - accuracy: 0.4954 - val_loss: 1.4852 - val_accuracy: 0.3917\n",
      "Epoch 238/300\n",
      "1080/1080 [==============================] - 0s 96us/sample - loss: 1.3859 - accuracy: 0.4824 - val_loss: 1.4835 - val_accuracy: 0.3917\n",
      "Epoch 239/300\n",
      "1080/1080 [==============================] - 0s 94us/sample - loss: 1.3819 - accuracy: 0.5019 - val_loss: 1.4824 - val_accuracy: 0.4000\n",
      "Epoch 240/300\n",
      "1080/1080 [==============================] - 0s 93us/sample - loss: 1.3795 - accuracy: 0.4907 - val_loss: 1.4811 - val_accuracy: 0.4000\n",
      "Epoch 241/300\n",
      "1080/1080 [==============================] - 0s 93us/sample - loss: 1.3795 - accuracy: 0.4917 - val_loss: 1.4804 - val_accuracy: 0.3833\n",
      "Epoch 242/300\n",
      "1080/1080 [==============================] - 0s 93us/sample - loss: 1.3768 - accuracy: 0.4880 - val_loss: 1.4863 - val_accuracy: 0.4417\n",
      "Epoch 243/300\n",
      "1080/1080 [==============================] - 0s 94us/sample - loss: 1.3757 - accuracy: 0.4926 - val_loss: 1.4776 - val_accuracy: 0.4000\n",
      "Epoch 244/300\n",
      "1080/1080 [==============================] - 0s 97us/sample - loss: 1.3741 - accuracy: 0.4889 - val_loss: 1.4863 - val_accuracy: 0.4667\n",
      "Epoch 245/300\n",
      "1080/1080 [==============================] - 0s 95us/sample - loss: 1.3738 - accuracy: 0.5019 - val_loss: 1.4792 - val_accuracy: 0.3667\n",
      "Epoch 246/300\n",
      "1080/1080 [==============================] - 0s 94us/sample - loss: 1.3714 - accuracy: 0.4944 - val_loss: 1.4788 - val_accuracy: 0.4583\n",
      "Epoch 247/300\n",
      "1080/1080 [==============================] - 0s 93us/sample - loss: 1.3708 - accuracy: 0.4981 - val_loss: 1.4731 - val_accuracy: 0.4000\n",
      "Epoch 248/300\n",
      "1080/1080 [==============================] - 0s 90us/sample - loss: 1.3674 - accuracy: 0.4741 - val_loss: 1.4767 - val_accuracy: 0.4500\n",
      "Epoch 249/300\n",
      "1080/1080 [==============================] - 0s 96us/sample - loss: 1.3712 - accuracy: 0.5009 - val_loss: 1.4736 - val_accuracy: 0.3750\n",
      "Epoch 250/300\n",
      "1080/1080 [==============================] - 0s 96us/sample - loss: 1.3650 - accuracy: 0.4954 - val_loss: 1.4703 - val_accuracy: 0.4333\n",
      "Epoch 251/300\n",
      "1080/1080 [==============================] - 0s 111us/sample - loss: 1.3635 - accuracy: 0.5009 - val_loss: 1.4698 - val_accuracy: 0.3917\n",
      "Epoch 252/300\n",
      "1080/1080 [==============================] - 0s 94us/sample - loss: 1.3638 - accuracy: 0.4889 - val_loss: 1.4711 - val_accuracy: 0.4500\n",
      "Epoch 253/300\n",
      "1080/1080 [==============================] - 0s 92us/sample - loss: 1.3623 - accuracy: 0.4889 - val_loss: 1.4682 - val_accuracy: 0.4333\n",
      "Epoch 254/300\n",
      "1080/1080 [==============================] - 0s 90us/sample - loss: 1.3621 - accuracy: 0.5065 - val_loss: 1.4682 - val_accuracy: 0.3750\n",
      "Epoch 255/300\n",
      "1080/1080 [==============================] - 0s 95us/sample - loss: 1.3660 - accuracy: 0.4843 - val_loss: 1.4654 - val_accuracy: 0.4000\n",
      "Epoch 256/300\n",
      "1080/1080 [==============================] - 0s 95us/sample - loss: 1.3572 - accuracy: 0.5065 - val_loss: 1.4632 - val_accuracy: 0.4250\n",
      "Epoch 257/300\n",
      "1080/1080 [==============================] - 0s 93us/sample - loss: 1.3524 - accuracy: 0.4917 - val_loss: 1.4614 - val_accuracy: 0.4167\n",
      "Epoch 258/300\n",
      "1080/1080 [==============================] - 0s 91us/sample - loss: 1.3528 - accuracy: 0.5037 - val_loss: 1.4613 - val_accuracy: 0.4333\n",
      "Epoch 259/300\n",
      "1080/1080 [==============================] - 0s 89us/sample - loss: 1.3505 - accuracy: 0.4991 - val_loss: 1.4598 - val_accuracy: 0.4417\n",
      "Epoch 260/300\n",
      "1080/1080 [==============================] - 0s 95us/sample - loss: 1.3497 - accuracy: 0.4981 - val_loss: 1.4598 - val_accuracy: 0.4500\n",
      "Epoch 261/300\n",
      "1080/1080 [==============================] - 0s 93us/sample - loss: 1.3474 - accuracy: 0.5019 - val_loss: 1.4579 - val_accuracy: 0.4167\n",
      "Epoch 262/300\n",
      "1080/1080 [==============================] - 0s 93us/sample - loss: 1.3475 - accuracy: 0.4935 - val_loss: 1.4561 - val_accuracy: 0.4417\n",
      "Epoch 263/300\n",
      "1080/1080 [==============================] - 0s 94us/sample - loss: 1.3443 - accuracy: 0.4926 - val_loss: 1.4548 - val_accuracy: 0.4417\n",
      "Epoch 264/300\n",
      "1080/1080 [==============================] - 0s 92us/sample - loss: 1.3424 - accuracy: 0.4963 - val_loss: 1.4545 - val_accuracy: 0.4417\n",
      "Epoch 265/300\n",
      "1080/1080 [==============================] - 0s 92us/sample - loss: 1.3427 - accuracy: 0.4972 - val_loss: 1.4527 - val_accuracy: 0.4417\n",
      "Epoch 266/300\n",
      "1080/1080 [==============================] - 0s 93us/sample - loss: 1.3400 - accuracy: 0.4981 - val_loss: 1.4517 - val_accuracy: 0.4417\n",
      "Epoch 267/300\n",
      "1080/1080 [==============================] - 0s 92us/sample - loss: 1.3387 - accuracy: 0.5009 - val_loss: 1.4540 - val_accuracy: 0.4583\n",
      "Epoch 268/300\n",
      "1080/1080 [==============================] - 0s 94us/sample - loss: 1.3377 - accuracy: 0.5065 - val_loss: 1.4497 - val_accuracy: 0.4333\n",
      "Epoch 269/300\n",
      "1080/1080 [==============================] - 0s 90us/sample - loss: 1.3372 - accuracy: 0.5037 - val_loss: 1.4507 - val_accuracy: 0.4083\n",
      "Epoch 270/300\n",
      "1080/1080 [==============================] - 0s 95us/sample - loss: 1.3362 - accuracy: 0.4926 - val_loss: 1.4538 - val_accuracy: 0.4417\n",
      "Epoch 271/300\n",
      "1080/1080 [==============================] - 0s 93us/sample - loss: 1.3371 - accuracy: 0.5000 - val_loss: 1.4464 - val_accuracy: 0.4500\n",
      "Epoch 272/300\n",
      "1080/1080 [==============================] - 0s 110us/sample - loss: 1.3320 - accuracy: 0.5046 - val_loss: 1.4503 - val_accuracy: 0.4500\n",
      "Epoch 273/300\n",
      "1080/1080 [==============================] - 0s 92us/sample - loss: 1.3322 - accuracy: 0.4981 - val_loss: 1.4463 - val_accuracy: 0.4583\n",
      "Epoch 274/300\n",
      "1080/1080 [==============================] - 0s 94us/sample - loss: 1.3299 - accuracy: 0.5102 - val_loss: 1.4434 - val_accuracy: 0.4333\n",
      "Epoch 275/300\n",
      "1080/1080 [==============================] - 0s 98us/sample - loss: 1.3272 - accuracy: 0.4991 - val_loss: 1.4425 - val_accuracy: 0.4500\n",
      "Epoch 276/300\n",
      "1080/1080 [==============================] - 0s 94us/sample - loss: 1.3254 - accuracy: 0.4991 - val_loss: 1.4409 - val_accuracy: 0.4417\n",
      "Epoch 277/300\n",
      "1080/1080 [==============================] - 0s 97us/sample - loss: 1.3244 - accuracy: 0.4991 - val_loss: 1.4408 - val_accuracy: 0.4250\n",
      "Epoch 278/300\n",
      "1080/1080 [==============================] - 0s 99us/sample - loss: 1.3280 - accuracy: 0.4917 - val_loss: 1.4461 - val_accuracy: 0.4500\n",
      "Epoch 279/300\n",
      "1080/1080 [==============================] - 0s 92us/sample - loss: 1.3208 - accuracy: 0.5120 - val_loss: 1.4426 - val_accuracy: 0.3917\n",
      "Epoch 280/300\n",
      "1080/1080 [==============================] - 0s 94us/sample - loss: 1.3266 - accuracy: 0.5056 - val_loss: 1.4380 - val_accuracy: 0.4750\n",
      "Epoch 281/300\n",
      "1080/1080 [==============================] - 0s 92us/sample - loss: 1.3233 - accuracy: 0.4963 - val_loss: 1.4408 - val_accuracy: 0.4583\n",
      "Epoch 282/300\n",
      "1080/1080 [==============================] - 0s 94us/sample - loss: 1.3186 - accuracy: 0.5083 - val_loss: 1.4352 - val_accuracy: 0.4500\n",
      "Epoch 283/300\n",
      "1080/1080 [==============================] - 0s 90us/sample - loss: 1.3167 - accuracy: 0.5148 - val_loss: 1.4337 - val_accuracy: 0.4417\n",
      "Epoch 284/300\n",
      "1080/1080 [==============================] - 0s 93us/sample - loss: 1.3167 - accuracy: 0.5000 - val_loss: 1.4338 - val_accuracy: 0.4417\n",
      "Epoch 285/300\n",
      "1080/1080 [==============================] - 0s 93us/sample - loss: 1.3161 - accuracy: 0.5120 - val_loss: 1.4327 - val_accuracy: 0.4750\n",
      "Epoch 286/300\n",
      "1080/1080 [==============================] - 0s 95us/sample - loss: 1.3121 - accuracy: 0.4981 - val_loss: 1.4312 - val_accuracy: 0.4750\n",
      "Epoch 287/300\n",
      "1080/1080 [==============================] - 0s 91us/sample - loss: 1.3109 - accuracy: 0.5167 - val_loss: 1.4332 - val_accuracy: 0.4333\n",
      "Epoch 288/300\n",
      "1080/1080 [==============================] - 0s 94us/sample - loss: 1.3133 - accuracy: 0.5176 - val_loss: 1.4300 - val_accuracy: 0.4833\n",
      "Epoch 289/300\n",
      "1080/1080 [==============================] - 0s 95us/sample - loss: 1.3088 - accuracy: 0.5111 - val_loss: 1.4302 - val_accuracy: 0.4750\n",
      "Epoch 290/300\n",
      "1080/1080 [==============================] - 0s 101us/sample - loss: 1.3058 - accuracy: 0.5074 - val_loss: 1.4279 - val_accuracy: 0.4750\n",
      "Epoch 291/300\n",
      "1080/1080 [==============================] - 0s 98us/sample - loss: 1.3054 - accuracy: 0.5065 - val_loss: 1.4265 - val_accuracy: 0.4333\n",
      "Epoch 292/300\n",
      "1080/1080 [==============================] - 0s 220us/sample - loss: 1.3024 - accuracy: 0.5120 - val_loss: 1.4251 - val_accuracy: 0.4667\n",
      "Epoch 293/300\n",
      "1080/1080 [==============================] - 0s 97us/sample - loss: 1.3059 - accuracy: 0.4972 - val_loss: 1.4328 - val_accuracy: 0.4583\n",
      "Epoch 294/300\n",
      "1080/1080 [==============================] - 0s 92us/sample - loss: 1.3040 - accuracy: 0.5046 - val_loss: 1.4223 - val_accuracy: 0.4750\n",
      "Epoch 295/300\n",
      "1080/1080 [==============================] - 0s 93us/sample - loss: 1.3007 - accuracy: 0.5046 - val_loss: 1.4209 - val_accuracy: 0.4583\n",
      "Epoch 296/300\n",
      "1080/1080 [==============================] - 0s 95us/sample - loss: 1.2972 - accuracy: 0.5148 - val_loss: 1.4213 - val_accuracy: 0.4583\n",
      "Epoch 297/300\n",
      "1080/1080 [==============================] - 0s 95us/sample - loss: 1.2978 - accuracy: 0.5093 - val_loss: 1.4203 - val_accuracy: 0.4583\n",
      "Epoch 298/300\n",
      "1080/1080 [==============================] - 0s 93us/sample - loss: 1.2976 - accuracy: 0.5194 - val_loss: 1.4223 - val_accuracy: 0.4167\n",
      "Epoch 299/300\n",
      "1080/1080 [==============================] - 0s 96us/sample - loss: 1.2937 - accuracy: 0.5120 - val_loss: 1.4162 - val_accuracy: 0.4750\n",
      "Epoch 300/300\n",
      "1080/1080 [==============================] - 0s 90us/sample - loss: 1.2911 - accuracy: 0.5083 - val_loss: 1.4173 - val_accuracy: 0.4583\n"
     ]
    }
   ],
   "source": [
    "# Adding new epochs and batch size of 100\n",
    "history= model.fit(train_set_x_orig, train_set_y_orig, epochs=300, batch_size=100, validation_data=(test_set_x_orig,test_set_y_orig))"
   ]
  },
  {
   "cell_type": "markdown",
   "metadata": {},
   "source": [
    "### Here we can see that model is learning better when we introduce learning rate and increase the epoch to 300 and batch size as 100. We can see accuracy is imporving than previous. We can see val_accuracy as 47.50%"
   ]
  },
  {
   "cell_type": "code",
   "execution_count": 24,
   "metadata": {},
   "outputs": [],
   "source": [
    "#Accuracy of the model\n",
    "#scores = model.evaluate(train_set_x_orig, train_set_y_orig)\n",
    "#print(model.metrics_names[1], scores[1]*100)"
   ]
  },
  {
   "cell_type": "code",
   "execution_count": 25,
   "metadata": {},
   "outputs": [
    {
     "name": "stdout",
     "output_type": "stream",
     "text": [
      "              precision    recall  f1-score   support\n",
      "\n",
      "           0       0.62      0.75      0.68        20\n",
      "           1       0.48      0.80      0.60        20\n",
      "           2       0.41      0.35      0.38        20\n",
      "           3       0.58      0.35      0.44        20\n",
      "           4       0.27      0.40      0.32        20\n",
      "           5       0.50      0.10      0.17        20\n",
      "\n",
      "    accuracy                           0.46       120\n",
      "   macro avg       0.48      0.46      0.43       120\n",
      "weighted avg       0.48      0.46      0.43       120\n",
      "\n",
      "[[15  1  2  0  2  0]\n",
      " [ 0 16  0  2  2  0]\n",
      " [ 2  7  7  0  3  1]\n",
      " [ 1  5  0  7  7  0]\n",
      " [ 2  4  3  2  8  1]\n",
      " [ 4  0  5  1  8  2]]\n"
     ]
    }
   ],
   "source": [
    "pred_test = model.predict_classes(test_set_x_orig)\n",
    "from sklearn.metrics import classification_report, confusion_matrix\n",
    "cr = classification_report(test_set_y_orig, pred_test)\n",
    "print(cr)\n",
    "cm = confusion_matrix(test_set_y_orig, pred_test)\n",
    "print(cm)"
   ]
  },
  {
   "cell_type": "markdown",
   "metadata": {},
   "source": [
    "Given the learning rate used in the previous part, Build a new model and increase the number of layers and neurons .. maybe 7 or 8 layers with number of neurons between 200 and 1000. Do you see a difference in the accuracy?\n",
    "\n",
    "\n",
    "What is the training and validation accuracy and confusion matrix for both?\n",
    "\n",
    "**note: it may take some time to run**"
   ]
  },
  {
   "cell_type": "code",
   "execution_count": 26,
   "metadata": {},
   "outputs": [],
   "source": [
    "# Solve Here\n",
    "modelx = models.Sequential()\n",
    "modelx.add(layers.Flatten(input_shape=(64,64,3)))\n",
    "modelx.add(layers.Dense(900, activation = 'relu'))\n",
    "modelx.add(layers.Dense(900, activation = 'relu'))\n",
    "modelx.add(layers.Dense(700, activation = 'relu'))\n",
    "modelx.add(layers.Dense(500, activation = 'relu'))\n",
    "modelx.add(layers.Dense(400, activation = 'relu'))\n",
    "modelx.add(layers.Dense(400, activation = 'relu'))\n",
    "modelx.add(layers.Dense(200, activation = 'relu'))\n",
    "modelx.add(layers.Dense(6, activation = 'softmax'))\n",
    "modelx.compile(loss='sparse_categorical_crossentropy', optimizer = tf.keras.optimizers.Adam(lr=0.0001), metrics=['accuracy']) "
   ]
  },
  {
   "cell_type": "code",
   "execution_count": 27,
   "metadata": {},
   "outputs": [
    {
     "name": "stdout",
     "output_type": "stream",
     "text": [
      "Train on 1080 samples, validate on 120 samples\n",
      "Epoch 1/300\n",
      "1080/1080 [==============================] - 2s 2ms/sample - loss: 1.7925 - accuracy: 0.1630 - val_loss: 1.7870 - val_accuracy: 0.1667\n",
      "Epoch 2/300\n",
      "1080/1080 [==============================] - 2s 2ms/sample - loss: 1.7863 - accuracy: 0.2102 - val_loss: 1.7744 - val_accuracy: 0.2667\n",
      "Epoch 3/300\n",
      "1080/1080 [==============================] - 2s 2ms/sample - loss: 1.7710 - accuracy: 0.2639 - val_loss: 1.7601 - val_accuracy: 0.2917\n",
      "Epoch 4/300\n",
      "1080/1080 [==============================] - 2s 2ms/sample - loss: 1.7453 - accuracy: 0.2852 - val_loss: 1.7104 - val_accuracy: 0.3583\n",
      "Epoch 5/300\n",
      "1080/1080 [==============================] - 2s 2ms/sample - loss: 1.6717 - accuracy: 0.3435 - val_loss: 1.6144 - val_accuracy: 0.3917\n",
      "Epoch 6/300\n",
      "1080/1080 [==============================] - 2s 2ms/sample - loss: 1.6088 - accuracy: 0.3491 - val_loss: 1.6379 - val_accuracy: 0.2167\n",
      "Epoch 7/300\n",
      "1080/1080 [==============================] - 2s 2ms/sample - loss: 1.5566 - accuracy: 0.3556 - val_loss: 1.5072 - val_accuracy: 0.3917\n",
      "Epoch 8/300\n",
      "1080/1080 [==============================] - 2s 2ms/sample - loss: 1.4573 - accuracy: 0.4250 - val_loss: 1.4397 - val_accuracy: 0.3667\n",
      "Epoch 9/300\n",
      "1080/1080 [==============================] - 2s 2ms/sample - loss: 1.4251 - accuracy: 0.4259 - val_loss: 1.3850 - val_accuracy: 0.4667\n",
      "Epoch 10/300\n",
      "1080/1080 [==============================] - 2s 2ms/sample - loss: 1.4819 - accuracy: 0.3806 - val_loss: 1.3492 - val_accuracy: 0.5083\n",
      "Epoch 11/300\n",
      "1080/1080 [==============================] - 2s 2ms/sample - loss: 1.4233 - accuracy: 0.4130 - val_loss: 1.3692 - val_accuracy: 0.4333\n",
      "Epoch 12/300\n",
      "1080/1080 [==============================] - 2s 2ms/sample - loss: 1.3657 - accuracy: 0.4731 - val_loss: 1.2960 - val_accuracy: 0.4833\n",
      "Epoch 13/300\n",
      "1080/1080 [==============================] - 2s 2ms/sample - loss: 1.2968 - accuracy: 0.4870 - val_loss: 1.2710 - val_accuracy: 0.5333\n",
      "Epoch 14/300\n",
      "1080/1080 [==============================] - 2s 2ms/sample - loss: 1.2455 - accuracy: 0.5111 - val_loss: 1.2706 - val_accuracy: 0.5250\n",
      "Epoch 15/300\n",
      "1080/1080 [==============================] - 2s 2ms/sample - loss: 1.2616 - accuracy: 0.4926 - val_loss: 1.3083 - val_accuracy: 0.4417\n",
      "Epoch 16/300\n",
      "1080/1080 [==============================] - 2s 2ms/sample - loss: 1.2408 - accuracy: 0.5065 - val_loss: 1.2004 - val_accuracy: 0.5750\n",
      "Epoch 17/300\n",
      "1080/1080 [==============================] - 2s 2ms/sample - loss: 1.1638 - accuracy: 0.5704 - val_loss: 1.2028 - val_accuracy: 0.5833\n",
      "Epoch 18/300\n",
      "1080/1080 [==============================] - 2s 2ms/sample - loss: 1.1408 - accuracy: 0.5444 - val_loss: 1.1696 - val_accuracy: 0.5250\n",
      "Epoch 19/300\n",
      "1080/1080 [==============================] - 2s 2ms/sample - loss: 1.0804 - accuracy: 0.6046 - val_loss: 1.0998 - val_accuracy: 0.5750\n",
      "Epoch 20/300\n",
      "1080/1080 [==============================] - 2s 2ms/sample - loss: 1.0648 - accuracy: 0.5880 - val_loss: 1.1096 - val_accuracy: 0.6167\n",
      "Epoch 21/300\n",
      "1080/1080 [==============================] - 2s 2ms/sample - loss: 1.0810 - accuracy: 0.5880 - val_loss: 1.1787 - val_accuracy: 0.5583\n",
      "Epoch 22/300\n",
      "1080/1080 [==============================] - 2s 2ms/sample - loss: 1.0600 - accuracy: 0.5963 - val_loss: 1.1244 - val_accuracy: 0.5417\n",
      "Epoch 23/300\n",
      "1080/1080 [==============================] - 2s 2ms/sample - loss: 1.0641 - accuracy: 0.6093 - val_loss: 1.0569 - val_accuracy: 0.6000\n",
      "Epoch 24/300\n",
      "1080/1080 [==============================] - 2s 2ms/sample - loss: 1.0090 - accuracy: 0.6213 - val_loss: 1.1194 - val_accuracy: 0.5500\n",
      "Epoch 25/300\n",
      "1080/1080 [==============================] - 2s 2ms/sample - loss: 0.9839 - accuracy: 0.6398 - val_loss: 1.0456 - val_accuracy: 0.6167\n",
      "Epoch 26/300\n",
      "1080/1080 [==============================] - 2s 2ms/sample - loss: 0.9373 - accuracy: 0.6657 - val_loss: 0.9986 - val_accuracy: 0.6167\n",
      "Epoch 27/300\n",
      "1080/1080 [==============================] - 2s 2ms/sample - loss: 0.9460 - accuracy: 0.6444 - val_loss: 1.0022 - val_accuracy: 0.6083\n",
      "Epoch 28/300\n",
      "1080/1080 [==============================] - 2s 2ms/sample - loss: 0.9725 - accuracy: 0.6324 - val_loss: 1.0695 - val_accuracy: 0.5833\n",
      "Epoch 29/300\n",
      "1080/1080 [==============================] - 2s 2ms/sample - loss: 0.9727 - accuracy: 0.6241 - val_loss: 1.0314 - val_accuracy: 0.5917\n",
      "Epoch 30/300\n",
      "1080/1080 [==============================] - 2s 2ms/sample - loss: 0.9352 - accuracy: 0.6417 - val_loss: 1.0064 - val_accuracy: 0.5833\n",
      "Epoch 31/300\n",
      "1080/1080 [==============================] - 2s 2ms/sample - loss: 0.9485 - accuracy: 0.6537 - val_loss: 1.1917 - val_accuracy: 0.5333\n",
      "Epoch 32/300\n",
      "1080/1080 [==============================] - 2s 2ms/sample - loss: 0.9925 - accuracy: 0.6259 - val_loss: 1.2441 - val_accuracy: 0.5333\n",
      "Epoch 33/300\n",
      "1080/1080 [==============================] - 2s 2ms/sample - loss: 0.9666 - accuracy: 0.6130 - val_loss: 0.9808 - val_accuracy: 0.6583\n",
      "Epoch 34/300\n",
      "1080/1080 [==============================] - 2s 2ms/sample - loss: 0.9250 - accuracy: 0.6611 - val_loss: 1.1240 - val_accuracy: 0.5583\n",
      "Epoch 35/300\n",
      "1080/1080 [==============================] - 2s 2ms/sample - loss: 0.9356 - accuracy: 0.6472 - val_loss: 0.9713 - val_accuracy: 0.6000\n",
      "Epoch 36/300\n",
      "1080/1080 [==============================] - 2s 2ms/sample - loss: 0.8685 - accuracy: 0.6778 - val_loss: 0.9477 - val_accuracy: 0.6417\n",
      "Epoch 37/300\n",
      "1080/1080 [==============================] - 2s 2ms/sample - loss: 0.8052 - accuracy: 0.7111 - val_loss: 0.9559 - val_accuracy: 0.6750\n",
      "Epoch 38/300\n",
      "1080/1080 [==============================] - 2s 2ms/sample - loss: 0.7693 - accuracy: 0.7231 - val_loss: 0.9581 - val_accuracy: 0.6083\n",
      "Epoch 39/300\n",
      "1080/1080 [==============================] - 2s 2ms/sample - loss: 0.8279 - accuracy: 0.6870 - val_loss: 0.9190 - val_accuracy: 0.6417\n",
      "Epoch 40/300\n",
      "1080/1080 [==============================] - 2s 2ms/sample - loss: 0.8379 - accuracy: 0.6889 - val_loss: 0.9249 - val_accuracy: 0.6167\n",
      "Epoch 41/300\n",
      "1080/1080 [==============================] - 2s 2ms/sample - loss: 0.7502 - accuracy: 0.7130 - val_loss: 0.8451 - val_accuracy: 0.7000\n",
      "Epoch 42/300\n",
      "1080/1080 [==============================] - 2s 2ms/sample - loss: 0.7196 - accuracy: 0.7444 - val_loss: 0.8518 - val_accuracy: 0.7000\n",
      "Epoch 43/300\n",
      "1080/1080 [==============================] - 2s 2ms/sample - loss: 0.6962 - accuracy: 0.7426 - val_loss: 0.8349 - val_accuracy: 0.6333\n",
      "Epoch 44/300\n",
      "1080/1080 [==============================] - 2s 2ms/sample - loss: 0.7494 - accuracy: 0.7102 - val_loss: 0.8808 - val_accuracy: 0.7000\n",
      "Epoch 45/300\n",
      "1080/1080 [==============================] - 2s 2ms/sample - loss: 0.7241 - accuracy: 0.7324 - val_loss: 0.8047 - val_accuracy: 0.6583\n",
      "Epoch 46/300\n",
      "1080/1080 [==============================] - 2s 2ms/sample - loss: 0.6845 - accuracy: 0.7444 - val_loss: 0.8124 - val_accuracy: 0.7083\n",
      "Epoch 47/300\n",
      "1080/1080 [==============================] - 2s 2ms/sample - loss: 0.6791 - accuracy: 0.7537 - val_loss: 0.9066 - val_accuracy: 0.6667\n",
      "Epoch 48/300\n",
      "1080/1080 [==============================] - 2s 2ms/sample - loss: 0.6781 - accuracy: 0.7481 - val_loss: 0.8148 - val_accuracy: 0.6667\n",
      "Epoch 49/300\n",
      "1080/1080 [==============================] - 2s 2ms/sample - loss: 0.6803 - accuracy: 0.7444 - val_loss: 0.9102 - val_accuracy: 0.6417\n",
      "Epoch 50/300\n",
      "1080/1080 [==============================] - 2s 2ms/sample - loss: 0.7692 - accuracy: 0.7056 - val_loss: 0.7600 - val_accuracy: 0.7167\n",
      "Epoch 51/300\n",
      "1080/1080 [==============================] - 2s 2ms/sample - loss: 0.6139 - accuracy: 0.7759 - val_loss: 0.8293 - val_accuracy: 0.6917\n",
      "Epoch 52/300\n",
      "1080/1080 [==============================] - 2s 2ms/sample - loss: 0.6682 - accuracy: 0.7593 - val_loss: 0.8530 - val_accuracy: 0.7167\n",
      "Epoch 53/300\n",
      "1080/1080 [==============================] - 2s 2ms/sample - loss: 0.6730 - accuracy: 0.7444 - val_loss: 0.8602 - val_accuracy: 0.6750\n",
      "Epoch 54/300\n",
      "1080/1080 [==============================] - 2s 2ms/sample - loss: 0.6311 - accuracy: 0.7648 - val_loss: 0.7679 - val_accuracy: 0.7250\n",
      "Epoch 55/300\n",
      "1080/1080 [==============================] - 2s 2ms/sample - loss: 0.6455 - accuracy: 0.7583 - val_loss: 0.7658 - val_accuracy: 0.7333\n",
      "Epoch 56/300\n",
      "1080/1080 [==============================] - 2s 2ms/sample - loss: 0.5964 - accuracy: 0.7824 - val_loss: 0.7412 - val_accuracy: 0.8000\n",
      "Epoch 57/300\n",
      "1080/1080 [==============================] - 2s 2ms/sample - loss: 0.4954 - accuracy: 0.8269 - val_loss: 0.7189 - val_accuracy: 0.7167\n",
      "Epoch 58/300\n",
      "1080/1080 [==============================] - 2s 2ms/sample - loss: 0.4955 - accuracy: 0.8269 - val_loss: 0.7393 - val_accuracy: 0.7083\n",
      "Epoch 59/300\n",
      "1080/1080 [==============================] - 2s 2ms/sample - loss: 0.4638 - accuracy: 0.8333 - val_loss: 0.7548 - val_accuracy: 0.7417\n",
      "Epoch 60/300\n",
      "1080/1080 [==============================] - 2s 2ms/sample - loss: 0.4446 - accuracy: 0.8546 - val_loss: 0.7025 - val_accuracy: 0.7833\n",
      "Epoch 61/300\n",
      "1080/1080 [==============================] - 2s 2ms/sample - loss: 0.4553 - accuracy: 0.8426 - val_loss: 0.8032 - val_accuracy: 0.7083\n",
      "Epoch 62/300\n",
      "1080/1080 [==============================] - 2s 2ms/sample - loss: 0.4668 - accuracy: 0.8222 - val_loss: 0.7651 - val_accuracy: 0.7583\n",
      "Epoch 63/300\n",
      "1080/1080 [==============================] - 2s 2ms/sample - loss: 0.4949 - accuracy: 0.8130 - val_loss: 0.7202 - val_accuracy: 0.7167\n",
      "Epoch 64/300\n",
      "1080/1080 [==============================] - 2s 2ms/sample - loss: 0.4633 - accuracy: 0.8417 - val_loss: 0.6516 - val_accuracy: 0.8000\n",
      "Epoch 65/300\n",
      "1080/1080 [==============================] - 2s 2ms/sample - loss: 0.3987 - accuracy: 0.8676 - val_loss: 0.7045 - val_accuracy: 0.7417\n",
      "Epoch 66/300\n",
      "1080/1080 [==============================] - 2s 2ms/sample - loss: 0.4187 - accuracy: 0.8481 - val_loss: 0.6802 - val_accuracy: 0.7167\n",
      "Epoch 67/300\n",
      "1080/1080 [==============================] - 2s 2ms/sample - loss: 0.3834 - accuracy: 0.8731 - val_loss: 0.6807 - val_accuracy: 0.7250\n",
      "Epoch 68/300\n",
      "1080/1080 [==============================] - 2s 2ms/sample - loss: 0.4095 - accuracy: 0.8565 - val_loss: 0.7244 - val_accuracy: 0.7917\n",
      "Epoch 69/300\n",
      "1080/1080 [==============================] - 2s 2ms/sample - loss: 0.4101 - accuracy: 0.8509 - val_loss: 0.7184 - val_accuracy: 0.7583\n",
      "Epoch 70/300\n",
      "1080/1080 [==============================] - 2s 2ms/sample - loss: 0.3924 - accuracy: 0.8630 - val_loss: 0.6866 - val_accuracy: 0.7833\n",
      "Epoch 71/300\n",
      "1080/1080 [==============================] - 2s 2ms/sample - loss: 0.4114 - accuracy: 0.8398 - val_loss: 0.7346 - val_accuracy: 0.7000\n",
      "Epoch 72/300\n",
      "1080/1080 [==============================] - 2s 2ms/sample - loss: 0.3642 - accuracy: 0.8704 - val_loss: 0.7706 - val_accuracy: 0.7583\n",
      "Epoch 73/300\n",
      "1080/1080 [==============================] - 2s 2ms/sample - loss: 0.3136 - accuracy: 0.8926 - val_loss: 0.6599 - val_accuracy: 0.7583\n",
      "Epoch 74/300\n",
      "1080/1080 [==============================] - 2s 2ms/sample - loss: 0.2923 - accuracy: 0.8991 - val_loss: 0.6285 - val_accuracy: 0.7917\n",
      "Epoch 75/300\n",
      "1080/1080 [==============================] - 2s 2ms/sample - loss: 0.3355 - accuracy: 0.8889 - val_loss: 1.0155 - val_accuracy: 0.6667\n",
      "Epoch 76/300\n",
      "1080/1080 [==============================] - 2s 2ms/sample - loss: 0.5546 - accuracy: 0.8093 - val_loss: 0.9566 - val_accuracy: 0.6750\n",
      "Epoch 77/300\n",
      "1080/1080 [==============================] - 2s 2ms/sample - loss: 0.5957 - accuracy: 0.7528 - val_loss: 0.8373 - val_accuracy: 0.6667\n",
      "Epoch 78/300\n",
      "1080/1080 [==============================] - 2s 2ms/sample - loss: 0.4680 - accuracy: 0.8352 - val_loss: 0.6443 - val_accuracy: 0.7083\n",
      "Epoch 79/300\n",
      "1080/1080 [==============================] - 2s 2ms/sample - loss: 0.3381 - accuracy: 0.8833 - val_loss: 0.6879 - val_accuracy: 0.7167\n",
      "Epoch 80/300\n",
      "1080/1080 [==============================] - 2s 2ms/sample - loss: 0.3900 - accuracy: 0.8583 - val_loss: 0.8425 - val_accuracy: 0.7167\n",
      "Epoch 81/300\n",
      "1080/1080 [==============================] - 2s 2ms/sample - loss: 0.3916 - accuracy: 0.8463 - val_loss: 0.7906 - val_accuracy: 0.6833\n",
      "Epoch 82/300\n",
      "1080/1080 [==============================] - 2s 2ms/sample - loss: 0.3042 - accuracy: 0.9009 - val_loss: 0.6215 - val_accuracy: 0.8083\n",
      "Epoch 83/300\n",
      "1080/1080 [==============================] - 2s 2ms/sample - loss: 0.2536 - accuracy: 0.9296 - val_loss: 0.5968 - val_accuracy: 0.8000\n",
      "Epoch 84/300\n",
      "1080/1080 [==============================] - 2s 2ms/sample - loss: 0.2388 - accuracy: 0.9250 - val_loss: 0.6137 - val_accuracy: 0.8167\n",
      "Epoch 85/300\n",
      "1080/1080 [==============================] - 2s 2ms/sample - loss: 0.2406 - accuracy: 0.9204 - val_loss: 0.6506 - val_accuracy: 0.7917\n",
      "Epoch 86/300\n",
      "1080/1080 [==============================] - 2s 2ms/sample - loss: 0.2420 - accuracy: 0.9194 - val_loss: 0.7162 - val_accuracy: 0.7667\n",
      "Epoch 87/300\n",
      "1080/1080 [==============================] - 2s 2ms/sample - loss: 0.2769 - accuracy: 0.9065 - val_loss: 0.6529 - val_accuracy: 0.7917\n",
      "Epoch 88/300\n",
      "1080/1080 [==============================] - 2s 2ms/sample - loss: 0.2954 - accuracy: 0.8963 - val_loss: 0.7270 - val_accuracy: 0.7833\n",
      "Epoch 89/300\n",
      "1080/1080 [==============================] - 2s 2ms/sample - loss: 0.2524 - accuracy: 0.9176 - val_loss: 0.5634 - val_accuracy: 0.8000\n",
      "Epoch 90/300\n",
      "1080/1080 [==============================] - 2s 2ms/sample - loss: 0.2132 - accuracy: 0.9352 - val_loss: 0.7400 - val_accuracy: 0.7500\n",
      "Epoch 91/300\n",
      "1080/1080 [==============================] - 2s 2ms/sample - loss: 0.2899 - accuracy: 0.8935 - val_loss: 0.7860 - val_accuracy: 0.7583\n",
      "Epoch 92/300\n",
      "1080/1080 [==============================] - 2s 2ms/sample - loss: 0.3227 - accuracy: 0.8704 - val_loss: 0.5649 - val_accuracy: 0.8167\n",
      "Epoch 93/300\n",
      "1080/1080 [==============================] - 2s 2ms/sample - loss: 0.3146 - accuracy: 0.8880 - val_loss: 0.6540 - val_accuracy: 0.7833\n",
      "Epoch 94/300\n",
      "1080/1080 [==============================] - 2s 2ms/sample - loss: 0.3160 - accuracy: 0.8787 - val_loss: 0.6860 - val_accuracy: 0.7833\n",
      "Epoch 95/300\n",
      "1080/1080 [==============================] - 2s 2ms/sample - loss: 0.3794 - accuracy: 0.8417 - val_loss: 0.6612 - val_accuracy: 0.7667\n",
      "Epoch 96/300\n",
      "1080/1080 [==============================] - 2s 2ms/sample - loss: 0.4359 - accuracy: 0.8454 - val_loss: 0.7055 - val_accuracy: 0.7750\n",
      "Epoch 97/300\n",
      "1080/1080 [==============================] - 2s 2ms/sample - loss: 0.4406 - accuracy: 0.8444 - val_loss: 0.9834 - val_accuracy: 0.6917\n",
      "Epoch 98/300\n",
      "1080/1080 [==============================] - 2s 2ms/sample - loss: 0.4635 - accuracy: 0.8185 - val_loss: 0.9375 - val_accuracy: 0.6667\n",
      "Epoch 99/300\n",
      "1080/1080 [==============================] - 2s 2ms/sample - loss: 0.4151 - accuracy: 0.8481 - val_loss: 0.6643 - val_accuracy: 0.8000\n",
      "Epoch 100/300\n",
      "1080/1080 [==============================] - 2s 2ms/sample - loss: 0.2675 - accuracy: 0.9074 - val_loss: 0.6365 - val_accuracy: 0.8167\n",
      "Epoch 101/300\n",
      "1080/1080 [==============================] - 2s 2ms/sample - loss: 0.2288 - accuracy: 0.9194 - val_loss: 0.7145 - val_accuracy: 0.8167\n",
      "Epoch 102/300\n",
      "1080/1080 [==============================] - 2s 2ms/sample - loss: 0.1988 - accuracy: 0.9333 - val_loss: 0.6712 - val_accuracy: 0.7833\n",
      "Epoch 103/300\n",
      "1080/1080 [==============================] - 2s 2ms/sample - loss: 0.1910 - accuracy: 0.9380 - val_loss: 0.7775 - val_accuracy: 0.7417\n",
      "Epoch 104/300\n",
      "1080/1080 [==============================] - 2s 2ms/sample - loss: 0.2407 - accuracy: 0.9213 - val_loss: 0.6167 - val_accuracy: 0.8250\n",
      "Epoch 105/300\n",
      "1080/1080 [==============================] - 2s 2ms/sample - loss: 0.2395 - accuracy: 0.9185 - val_loss: 0.6046 - val_accuracy: 0.8000\n",
      "Epoch 106/300\n",
      "1080/1080 [==============================] - 2s 2ms/sample - loss: 0.2099 - accuracy: 0.9250 - val_loss: 0.5912 - val_accuracy: 0.8333\n",
      "Epoch 107/300\n",
      "1080/1080 [==============================] - 2s 2ms/sample - loss: 0.1830 - accuracy: 0.9417 - val_loss: 0.6979 - val_accuracy: 0.7667\n",
      "Epoch 108/300\n",
      "1080/1080 [==============================] - 2s 2ms/sample - loss: 0.1849 - accuracy: 0.9361 - val_loss: 0.6324 - val_accuracy: 0.7750\n",
      "Epoch 109/300\n",
      "1080/1080 [==============================] - 2s 2ms/sample - loss: 0.1285 - accuracy: 0.9620 - val_loss: 0.5358 - val_accuracy: 0.8167\n",
      "Epoch 110/300\n",
      "1080/1080 [==============================] - 2s 2ms/sample - loss: 0.1253 - accuracy: 0.9648 - val_loss: 0.5766 - val_accuracy: 0.8083\n",
      "Epoch 111/300\n",
      "1080/1080 [==============================] - 2s 2ms/sample - loss: 0.1200 - accuracy: 0.9667 - val_loss: 0.5981 - val_accuracy: 0.8167\n",
      "Epoch 112/300\n",
      "1080/1080 [==============================] - 2s 2ms/sample - loss: 0.1053 - accuracy: 0.9704 - val_loss: 0.6224 - val_accuracy: 0.8250\n",
      "Epoch 113/300\n",
      "1080/1080 [==============================] - 2s 2ms/sample - loss: 0.1131 - accuracy: 0.9676 - val_loss: 0.5899 - val_accuracy: 0.8250\n",
      "Epoch 114/300\n",
      "1080/1080 [==============================] - 2s 1ms/sample - loss: 0.1274 - accuracy: 0.9574 - val_loss: 0.5726 - val_accuracy: 0.8583\n",
      "Epoch 115/300\n",
      "1080/1080 [==============================] - 2s 2ms/sample - loss: 0.1494 - accuracy: 0.9435 - val_loss: 1.0028 - val_accuracy: 0.7250\n",
      "Epoch 116/300\n",
      "1080/1080 [==============================] - 2s 2ms/sample - loss: 0.1689 - accuracy: 0.9463 - val_loss: 0.6414 - val_accuracy: 0.7917\n",
      "Epoch 117/300\n",
      "1080/1080 [==============================] - 2s 2ms/sample - loss: 0.1362 - accuracy: 0.9556 - val_loss: 0.6220 - val_accuracy: 0.8083\n",
      "Epoch 118/300\n",
      "1080/1080 [==============================] - 2s 2ms/sample - loss: 0.1108 - accuracy: 0.9685 - val_loss: 0.7437 - val_accuracy: 0.8000\n",
      "Epoch 119/300\n",
      "1080/1080 [==============================] - 2s 2ms/sample - loss: 0.1266 - accuracy: 0.9583 - val_loss: 0.6224 - val_accuracy: 0.8333\n",
      "Epoch 120/300\n",
      "1080/1080 [==============================] - 2s 2ms/sample - loss: 0.1114 - accuracy: 0.9602 - val_loss: 0.6604 - val_accuracy: 0.8417\n",
      "Epoch 121/300\n",
      "1080/1080 [==============================] - 2s 2ms/sample - loss: 0.1043 - accuracy: 0.9713 - val_loss: 0.5577 - val_accuracy: 0.8583\n",
      "Epoch 122/300\n",
      "1080/1080 [==============================] - 2s 2ms/sample - loss: 0.0932 - accuracy: 0.9713 - val_loss: 0.6339 - val_accuracy: 0.8083\n",
      "Epoch 123/300\n",
      "1080/1080 [==============================] - 2s 2ms/sample - loss: 0.1225 - accuracy: 0.9593 - val_loss: 0.7249 - val_accuracy: 0.7667\n",
      "Epoch 124/300\n",
      "1080/1080 [==============================] - 2s 2ms/sample - loss: 0.0925 - accuracy: 0.9694 - val_loss: 0.6230 - val_accuracy: 0.7750\n",
      "Epoch 125/300\n",
      "1080/1080 [==============================] - 2s 2ms/sample - loss: 0.0772 - accuracy: 0.9750 - val_loss: 0.5578 - val_accuracy: 0.8000\n",
      "Epoch 126/300\n",
      "1080/1080 [==============================] - 2s 2ms/sample - loss: 0.0823 - accuracy: 0.9787 - val_loss: 0.6192 - val_accuracy: 0.7833\n",
      "Epoch 127/300\n",
      "1080/1080 [==============================] - 2s 2ms/sample - loss: 0.0828 - accuracy: 0.9769 - val_loss: 0.5948 - val_accuracy: 0.8083\n",
      "Epoch 128/300\n",
      "1080/1080 [==============================] - 2s 2ms/sample - loss: 0.0647 - accuracy: 0.9833 - val_loss: 0.5373 - val_accuracy: 0.8417\n",
      "Epoch 129/300\n",
      "1080/1080 [==============================] - 2s 2ms/sample - loss: 0.1209 - accuracy: 0.9519 - val_loss: 0.6819 - val_accuracy: 0.8500\n",
      "Epoch 130/300\n",
      "1080/1080 [==============================] - 2s 2ms/sample - loss: 0.1433 - accuracy: 0.9491 - val_loss: 0.5577 - val_accuracy: 0.8167\n",
      "Epoch 131/300\n",
      "1080/1080 [==============================] - 2s 2ms/sample - loss: 0.1354 - accuracy: 0.9537 - val_loss: 0.8532 - val_accuracy: 0.7667\n",
      "Epoch 132/300\n",
      "1080/1080 [==============================] - 2s 2ms/sample - loss: 0.1364 - accuracy: 0.9537 - val_loss: 0.7391 - val_accuracy: 0.7667\n",
      "Epoch 133/300\n",
      "1080/1080 [==============================] - 2s 2ms/sample - loss: 0.0861 - accuracy: 0.9741 - val_loss: 0.6733 - val_accuracy: 0.8167\n",
      "Epoch 134/300\n",
      "1080/1080 [==============================] - 2s 2ms/sample - loss: 0.1146 - accuracy: 0.9611 - val_loss: 0.9404 - val_accuracy: 0.7583\n",
      "Epoch 135/300\n",
      "1080/1080 [==============================] - 2s 2ms/sample - loss: 0.1502 - accuracy: 0.9463 - val_loss: 0.7471 - val_accuracy: 0.7917\n",
      "Epoch 136/300\n",
      "1080/1080 [==============================] - 2s 2ms/sample - loss: 0.1995 - accuracy: 0.9222 - val_loss: 0.6964 - val_accuracy: 0.8250\n",
      "Epoch 137/300\n",
      "1080/1080 [==============================] - 2s 2ms/sample - loss: 0.1200 - accuracy: 0.9537 - val_loss: 0.6476 - val_accuracy: 0.8083\n",
      "Epoch 138/300\n",
      "1080/1080 [==============================] - 2s 2ms/sample - loss: 0.1114 - accuracy: 0.9630 - val_loss: 0.6550 - val_accuracy: 0.7833\n",
      "Epoch 139/300\n",
      "1080/1080 [==============================] - 2s 2ms/sample - loss: 0.3246 - accuracy: 0.8731 - val_loss: 0.6696 - val_accuracy: 0.8000\n",
      "Epoch 140/300\n",
      "1080/1080 [==============================] - 2s 2ms/sample - loss: 0.1897 - accuracy: 0.9380 - val_loss: 0.7437 - val_accuracy: 0.7667\n",
      "Epoch 141/300\n",
      "1080/1080 [==============================] - 2s 2ms/sample - loss: 0.1962 - accuracy: 0.9278 - val_loss: 1.2669 - val_accuracy: 0.7083\n",
      "Epoch 142/300\n",
      "1080/1080 [==============================] - 2s 2ms/sample - loss: 0.2433 - accuracy: 0.9102 - val_loss: 0.6448 - val_accuracy: 0.8167\n",
      "Epoch 143/300\n",
      "1080/1080 [==============================] - 2s 2ms/sample - loss: 0.0890 - accuracy: 0.9750 - val_loss: 0.5761 - val_accuracy: 0.8167\n",
      "Epoch 144/300\n",
      "1080/1080 [==============================] - 2s 2ms/sample - loss: 0.1058 - accuracy: 0.9657 - val_loss: 0.5437 - val_accuracy: 0.8167\n",
      "Epoch 145/300\n",
      "1080/1080 [==============================] - 2s 2ms/sample - loss: 0.0642 - accuracy: 0.9796 - val_loss: 0.5243 - val_accuracy: 0.8583\n",
      "Epoch 146/300\n",
      "1080/1080 [==============================] - 2s 2ms/sample - loss: 0.0536 - accuracy: 0.9843 - val_loss: 0.5247 - val_accuracy: 0.8833\n",
      "Epoch 147/300\n",
      "1080/1080 [==============================] - 2s 2ms/sample - loss: 0.0379 - accuracy: 0.9917 - val_loss: 0.5051 - val_accuracy: 0.8667\n",
      "Epoch 148/300\n",
      "1080/1080 [==============================] - 2s 2ms/sample - loss: 0.0324 - accuracy: 0.9954 - val_loss: 0.5021 - val_accuracy: 0.8667\n",
      "Epoch 149/300\n",
      "1080/1080 [==============================] - 2s 2ms/sample - loss: 0.0256 - accuracy: 0.9972 - val_loss: 0.5079 - val_accuracy: 0.8750\n",
      "Epoch 150/300\n",
      "1080/1080 [==============================] - 2s 2ms/sample - loss: 0.0281 - accuracy: 0.9944 - val_loss: 0.5182 - val_accuracy: 0.8500\n",
      "Epoch 151/300\n",
      "1080/1080 [==============================] - 2s 2ms/sample - loss: 0.0258 - accuracy: 0.9963 - val_loss: 0.5358 - val_accuracy: 0.8583\n",
      "Epoch 152/300\n",
      "1080/1080 [==============================] - 2s 2ms/sample - loss: 0.0216 - accuracy: 0.9972 - val_loss: 0.5196 - val_accuracy: 0.8583\n",
      "Epoch 153/300\n",
      "1080/1080 [==============================] - 2s 2ms/sample - loss: 0.0244 - accuracy: 0.9963 - val_loss: 0.5662 - val_accuracy: 0.8500\n",
      "Epoch 154/300\n",
      "1080/1080 [==============================] - 2s 2ms/sample - loss: 0.0415 - accuracy: 0.9861 - val_loss: 0.6170 - val_accuracy: 0.8250\n",
      "Epoch 155/300\n",
      "1080/1080 [==============================] - 2s 2ms/sample - loss: 0.0450 - accuracy: 0.9880 - val_loss: 0.6618 - val_accuracy: 0.8250\n",
      "Epoch 156/300\n",
      "1080/1080 [==============================] - 2s 2ms/sample - loss: 0.0343 - accuracy: 0.9889 - val_loss: 0.5879 - val_accuracy: 0.8333\n",
      "Epoch 157/300\n",
      "1080/1080 [==============================] - 2s 2ms/sample - loss: 0.0368 - accuracy: 0.9880 - val_loss: 0.7619 - val_accuracy: 0.8250\n",
      "Epoch 158/300\n",
      "1080/1080 [==============================] - 2s 2ms/sample - loss: 0.0487 - accuracy: 0.9833 - val_loss: 0.5511 - val_accuracy: 0.8667\n",
      "Epoch 159/300\n",
      "1080/1080 [==============================] - 2s 2ms/sample - loss: 0.0388 - accuracy: 0.9917 - val_loss: 0.6572 - val_accuracy: 0.8083\n",
      "Epoch 160/300\n",
      "1080/1080 [==============================] - 2s 2ms/sample - loss: 0.0225 - accuracy: 0.9972 - val_loss: 0.6572 - val_accuracy: 0.8500\n",
      "Epoch 161/300\n",
      "1080/1080 [==============================] - 2s 2ms/sample - loss: 0.0214 - accuracy: 0.9991 - val_loss: 0.5247 - val_accuracy: 0.8500\n",
      "Epoch 162/300\n",
      "1080/1080 [==============================] - 2s 2ms/sample - loss: 0.0216 - accuracy: 0.9944 - val_loss: 0.6610 - val_accuracy: 0.8500\n",
      "Epoch 163/300\n",
      "1080/1080 [==============================] - 2s 2ms/sample - loss: 0.0283 - accuracy: 0.9963 - val_loss: 0.6364 - val_accuracy: 0.8500\n",
      "Epoch 164/300\n",
      "1080/1080 [==============================] - 2s 2ms/sample - loss: 0.0293 - accuracy: 0.9935 - val_loss: 0.5521 - val_accuracy: 0.8667\n",
      "Epoch 165/300\n",
      "1080/1080 [==============================] - 2s 2ms/sample - loss: 0.0158 - accuracy: 0.9981 - val_loss: 0.5697 - val_accuracy: 0.8583\n",
      "Epoch 166/300\n",
      "1080/1080 [==============================] - 2s 2ms/sample - loss: 0.0140 - accuracy: 0.9981 - val_loss: 0.5530 - val_accuracy: 0.8833\n",
      "Epoch 167/300\n",
      "1080/1080 [==============================] - 2s 2ms/sample - loss: 0.0158 - accuracy: 0.9981 - val_loss: 0.5573 - val_accuracy: 0.8583\n",
      "Epoch 168/300\n",
      "1080/1080 [==============================] - 2s 2ms/sample - loss: 0.0178 - accuracy: 0.9972 - val_loss: 0.6043 - val_accuracy: 0.8417\n",
      "Epoch 169/300\n",
      "1080/1080 [==============================] - 2s 2ms/sample - loss: 0.0167 - accuracy: 0.9954 - val_loss: 0.6106 - val_accuracy: 0.8500\n",
      "Epoch 170/300\n",
      "1080/1080 [==============================] - 2s 2ms/sample - loss: 0.0137 - accuracy: 0.9991 - val_loss: 0.5979 - val_accuracy: 0.8500\n",
      "Epoch 171/300\n",
      "1080/1080 [==============================] - 2s 2ms/sample - loss: 0.0135 - accuracy: 0.9991 - val_loss: 0.5854 - val_accuracy: 0.8583\n",
      "Epoch 172/300\n",
      "1080/1080 [==============================] - 2s 2ms/sample - loss: 0.0089 - accuracy: 0.9991 - val_loss: 0.5919 - val_accuracy: 0.8500\n",
      "Epoch 173/300\n",
      "1080/1080 [==============================] - 2s 2ms/sample - loss: 0.0073 - accuracy: 1.0000 - val_loss: 0.5797 - val_accuracy: 0.8500\n",
      "Epoch 174/300\n",
      "1080/1080 [==============================] - 2s 2ms/sample - loss: 0.0063 - accuracy: 1.0000 - val_loss: 0.6113 - val_accuracy: 0.8417\n",
      "Epoch 175/300\n",
      "1080/1080 [==============================] - 2s 2ms/sample - loss: 0.0082 - accuracy: 1.0000 - val_loss: 0.6094 - val_accuracy: 0.8500\n",
      "Epoch 176/300\n",
      "1080/1080 [==============================] - 2s 2ms/sample - loss: 0.0092 - accuracy: 1.0000 - val_loss: 0.6811 - val_accuracy: 0.8250\n",
      "Epoch 177/300\n",
      "1080/1080 [==============================] - 2s 2ms/sample - loss: 0.0208 - accuracy: 0.9954 - val_loss: 0.6112 - val_accuracy: 0.8667\n",
      "Epoch 178/300\n",
      "1080/1080 [==============================] - 2s 2ms/sample - loss: 0.0182 - accuracy: 0.9963 - val_loss: 0.6522 - val_accuracy: 0.8250\n",
      "Epoch 179/300\n",
      "1080/1080 [==============================] - 2s 2ms/sample - loss: 0.0163 - accuracy: 0.9963 - val_loss: 0.6008 - val_accuracy: 0.8500\n",
      "Epoch 180/300\n",
      "1080/1080 [==============================] - 2s 2ms/sample - loss: 0.0560 - accuracy: 0.9806 - val_loss: 0.6760 - val_accuracy: 0.8250\n",
      "Epoch 181/300\n",
      "1080/1080 [==============================] - 2s 2ms/sample - loss: 0.0744 - accuracy: 0.9731 - val_loss: 1.5626 - val_accuracy: 0.7000\n",
      "Epoch 182/300\n",
      "1080/1080 [==============================] - 2s 2ms/sample - loss: 2.5331 - accuracy: 0.5556 - val_loss: 2.6888 - val_accuracy: 0.4417\n",
      "Epoch 183/300\n",
      "1080/1080 [==============================] - 2s 2ms/sample - loss: 1.4891 - accuracy: 0.4880 - val_loss: 1.2208 - val_accuracy: 0.4500\n",
      "Epoch 184/300\n",
      "1080/1080 [==============================] - 2s 2ms/sample - loss: 0.8314 - accuracy: 0.7324 - val_loss: 0.7267 - val_accuracy: 0.7583\n",
      "Epoch 185/300\n",
      "1080/1080 [==============================] - 2s 2ms/sample - loss: 0.4665 - accuracy: 0.8741 - val_loss: 0.7227 - val_accuracy: 0.7417\n",
      "Epoch 186/300\n",
      "1080/1080 [==============================] - 2s 2ms/sample - loss: 0.3260 - accuracy: 0.8944 - val_loss: 0.5831 - val_accuracy: 0.8000\n",
      "Epoch 187/300\n",
      "1080/1080 [==============================] - 2s 2ms/sample - loss: 0.3086 - accuracy: 0.8954 - val_loss: 0.5820 - val_accuracy: 0.8000\n",
      "Epoch 188/300\n",
      "1080/1080 [==============================] - 2s 2ms/sample - loss: 0.2722 - accuracy: 0.9093 - val_loss: 0.6133 - val_accuracy: 0.8333\n",
      "Epoch 189/300\n",
      "1080/1080 [==============================] - 2s 2ms/sample - loss: 0.2490 - accuracy: 0.9139 - val_loss: 0.6035 - val_accuracy: 0.7917\n",
      "Epoch 190/300\n",
      "1080/1080 [==============================] - 2s 2ms/sample - loss: 0.2404 - accuracy: 0.9139 - val_loss: 0.6467 - val_accuracy: 0.7500\n",
      "Epoch 191/300\n",
      "1080/1080 [==============================] - 2s 2ms/sample - loss: 0.2013 - accuracy: 0.9343 - val_loss: 0.6204 - val_accuracy: 0.7667\n",
      "Epoch 192/300\n",
      "1080/1080 [==============================] - 2s 2ms/sample - loss: 0.2225 - accuracy: 0.9204 - val_loss: 0.7997 - val_accuracy: 0.7500\n",
      "Epoch 193/300\n",
      "1080/1080 [==============================] - 2s 2ms/sample - loss: 0.2341 - accuracy: 0.9130 - val_loss: 0.7570 - val_accuracy: 0.7417\n",
      "Epoch 194/300\n",
      "1080/1080 [==============================] - 2s 2ms/sample - loss: 0.1711 - accuracy: 0.9370 - val_loss: 0.5732 - val_accuracy: 0.8333\n",
      "Epoch 195/300\n",
      "1080/1080 [==============================] - 2s 2ms/sample - loss: 0.1275 - accuracy: 0.9602 - val_loss: 0.5782 - val_accuracy: 0.8250\n",
      "Epoch 196/300\n",
      "1080/1080 [==============================] - 2s 2ms/sample - loss: 0.0936 - accuracy: 0.9769 - val_loss: 0.5384 - val_accuracy: 0.8417\n",
      "Epoch 197/300\n",
      "1080/1080 [==============================] - 2s 2ms/sample - loss: 0.0901 - accuracy: 0.9750 - val_loss: 0.5094 - val_accuracy: 0.8500\n",
      "Epoch 198/300\n",
      "1080/1080 [==============================] - 3s 3ms/sample - loss: 0.0933 - accuracy: 0.9685 - val_loss: 0.8724 - val_accuracy: 0.7083\n",
      "Epoch 199/300\n",
      "1080/1080 [==============================] - 2s 2ms/sample - loss: 0.1396 - accuracy: 0.9444 - val_loss: 0.6081 - val_accuracy: 0.7667\n",
      "Epoch 200/300\n",
      "1080/1080 [==============================] - 3s 2ms/sample - loss: 0.0969 - accuracy: 0.9704 - val_loss: 0.5539 - val_accuracy: 0.8500\n",
      "Epoch 201/300\n",
      "1080/1080 [==============================] - 2s 2ms/sample - loss: 0.0755 - accuracy: 0.9843 - val_loss: 0.5769 - val_accuracy: 0.8167\n",
      "Epoch 202/300\n",
      "1080/1080 [==============================] - 2s 2ms/sample - loss: 0.0769 - accuracy: 0.9778 - val_loss: 0.6295 - val_accuracy: 0.8250\n",
      "Epoch 203/300\n",
      "1080/1080 [==============================] - 3s 2ms/sample - loss: 0.0593 - accuracy: 0.9870 - val_loss: 0.5074 - val_accuracy: 0.8583\n",
      "Epoch 204/300\n",
      "1080/1080 [==============================] - 3s 3ms/sample - loss: 0.0459 - accuracy: 0.9917 - val_loss: 0.5738 - val_accuracy: 0.8500\n",
      "Epoch 205/300\n",
      "1080/1080 [==============================] - 3s 3ms/sample - loss: 0.0438 - accuracy: 0.9917 - val_loss: 0.5211 - val_accuracy: 0.8500\n",
      "Epoch 206/300\n",
      "1080/1080 [==============================] - 3s 2ms/sample - loss: 0.0363 - accuracy: 0.9944 - val_loss: 0.5926 - val_accuracy: 0.8333\n",
      "Epoch 207/300\n",
      "1080/1080 [==============================] - 3s 2ms/sample - loss: 0.0337 - accuracy: 0.9944 - val_loss: 0.4995 - val_accuracy: 0.8583\n",
      "Epoch 208/300\n",
      "1080/1080 [==============================] - 2s 2ms/sample - loss: 0.0221 - accuracy: 0.9991 - val_loss: 0.5587 - val_accuracy: 0.8250\n",
      "Epoch 209/300\n",
      "1080/1080 [==============================] - 2s 2ms/sample - loss: 0.0279 - accuracy: 0.9963 - val_loss: 0.5306 - val_accuracy: 0.8583\n",
      "Epoch 210/300\n",
      "1080/1080 [==============================] - 2s 2ms/sample - loss: 0.0313 - accuracy: 0.9954 - val_loss: 0.6570 - val_accuracy: 0.8500\n",
      "Epoch 211/300\n",
      "1080/1080 [==============================] - 2s 2ms/sample - loss: 0.0274 - accuracy: 0.9972 - val_loss: 0.6220 - val_accuracy: 0.8500\n",
      "Epoch 212/300\n",
      "1080/1080 [==============================] - 2s 2ms/sample - loss: 0.0364 - accuracy: 0.9898 - val_loss: 0.5451 - val_accuracy: 0.8500\n",
      "Epoch 213/300\n",
      "1080/1080 [==============================] - 2s 2ms/sample - loss: 0.0269 - accuracy: 0.9972 - val_loss: 0.5721 - val_accuracy: 0.8333\n",
      "Epoch 214/300\n",
      "1080/1080 [==============================] - 2s 2ms/sample - loss: 0.0242 - accuracy: 0.9972 - val_loss: 0.6224 - val_accuracy: 0.8000\n",
      "Epoch 215/300\n",
      "1080/1080 [==============================] - 2s 2ms/sample - loss: 0.0295 - accuracy: 0.9972 - val_loss: 0.6125 - val_accuracy: 0.8250\n",
      "Epoch 216/300\n",
      "1080/1080 [==============================] - 2s 2ms/sample - loss: 0.0968 - accuracy: 0.9639 - val_loss: 0.5400 - val_accuracy: 0.8583\n",
      "Epoch 217/300\n",
      "1080/1080 [==============================] - 2s 2ms/sample - loss: 0.0951 - accuracy: 0.9639 - val_loss: 0.9588 - val_accuracy: 0.7250\n",
      "Epoch 218/300\n",
      "1080/1080 [==============================] - 2s 2ms/sample - loss: 0.4615 - accuracy: 0.8685 - val_loss: 2.5000 - val_accuracy: 0.5750\n",
      "Epoch 219/300\n",
      "1080/1080 [==============================] - 2s 2ms/sample - loss: 0.6897 - accuracy: 0.7833 - val_loss: 0.6992 - val_accuracy: 0.7250\n",
      "Epoch 220/300\n",
      "1080/1080 [==============================] - 2s 2ms/sample - loss: 0.2463 - accuracy: 0.9056 - val_loss: 0.5503 - val_accuracy: 0.8333\n",
      "Epoch 221/300\n",
      "1080/1080 [==============================] - 2s 2ms/sample - loss: 0.1520 - accuracy: 0.9537 - val_loss: 0.4818 - val_accuracy: 0.8417\n",
      "Epoch 222/300\n",
      "1080/1080 [==============================] - 2s 2ms/sample - loss: 0.0823 - accuracy: 0.9880 - val_loss: 0.5014 - val_accuracy: 0.8250\n",
      "Epoch 223/300\n",
      "1080/1080 [==============================] - 2s 2ms/sample - loss: 0.0517 - accuracy: 0.9880 - val_loss: 0.4851 - val_accuracy: 0.8667\n",
      "Epoch 224/300\n",
      "1080/1080 [==============================] - 2s 2ms/sample - loss: 0.0358 - accuracy: 0.9944 - val_loss: 0.6616 - val_accuracy: 0.8167\n",
      "Epoch 225/300\n",
      "1080/1080 [==============================] - 3s 3ms/sample - loss: 0.0454 - accuracy: 0.9880 - val_loss: 0.5541 - val_accuracy: 0.8083\n",
      "Epoch 226/300\n",
      "1080/1080 [==============================] - 2s 2ms/sample - loss: 0.0321 - accuracy: 0.9935 - val_loss: 0.5340 - val_accuracy: 0.8417\n",
      "Epoch 227/300\n",
      "1080/1080 [==============================] - 3s 2ms/sample - loss: 0.0286 - accuracy: 0.9944 - val_loss: 0.5516 - val_accuracy: 0.8333\n",
      "Epoch 228/300\n",
      "1080/1080 [==============================] - 4s 4ms/sample - loss: 0.0229 - accuracy: 0.9954 - val_loss: 0.5726 - val_accuracy: 0.8333\n",
      "Epoch 229/300\n",
      "1080/1080 [==============================] - 5s 5ms/sample - loss: 0.0230 - accuracy: 0.9963 - val_loss: 0.5483 - val_accuracy: 0.8500\n",
      "Epoch 230/300\n",
      "1080/1080 [==============================] - 4s 4ms/sample - loss: 0.0195 - accuracy: 0.9991 - val_loss: 0.5632 - val_accuracy: 0.8250\n",
      "Epoch 231/300\n",
      "1080/1080 [==============================] - 4s 4ms/sample - loss: 0.0154 - accuracy: 0.9991 - val_loss: 0.6297 - val_accuracy: 0.8667\n",
      "Epoch 232/300\n",
      "1080/1080 [==============================] - 3s 3ms/sample - loss: 0.0184 - accuracy: 0.9981 - val_loss: 0.5395 - val_accuracy: 0.8500\n",
      "Epoch 233/300\n",
      "1080/1080 [==============================] - 4s 4ms/sample - loss: 0.0156 - accuracy: 0.9991 - val_loss: 0.7422 - val_accuracy: 0.7833\n",
      "Epoch 234/300\n",
      "1080/1080 [==============================] - 3s 3ms/sample - loss: 0.0349 - accuracy: 0.9861 - val_loss: 0.5535 - val_accuracy: 0.8417\n",
      "Epoch 235/300\n",
      "1080/1080 [==============================] - 3s 3ms/sample - loss: 0.0324 - accuracy: 0.9907 - val_loss: 0.7484 - val_accuracy: 0.7833\n",
      "Epoch 236/300\n",
      "1080/1080 [==============================] - 2s 2ms/sample - loss: 0.0328 - accuracy: 0.9880 - val_loss: 0.6092 - val_accuracy: 0.8583\n",
      "Epoch 237/300\n",
      "1080/1080 [==============================] - 2s 2ms/sample - loss: 0.0344 - accuracy: 0.9898 - val_loss: 0.6995 - val_accuracy: 0.8417\n",
      "Epoch 238/300\n",
      "1080/1080 [==============================] - 2s 2ms/sample - loss: 0.1611 - accuracy: 0.9435 - val_loss: 0.5679 - val_accuracy: 0.8750\n",
      "Epoch 239/300\n",
      "1080/1080 [==============================] - 3s 3ms/sample - loss: 0.1556 - accuracy: 0.9352 - val_loss: 0.7001 - val_accuracy: 0.8000\n",
      "Epoch 240/300\n",
      "1080/1080 [==============================] - 3s 3ms/sample - loss: 0.0456 - accuracy: 0.9880 - val_loss: 0.5446 - val_accuracy: 0.8750\n",
      "Epoch 241/300\n",
      "1080/1080 [==============================] - 3s 2ms/sample - loss: 0.0315 - accuracy: 0.9907 - val_loss: 0.6675 - val_accuracy: 0.8500\n",
      "Epoch 242/300\n",
      "1080/1080 [==============================] - 3s 2ms/sample - loss: 0.0411 - accuracy: 0.9861 - val_loss: 0.6443 - val_accuracy: 0.8333\n",
      "Epoch 243/300\n",
      "1080/1080 [==============================] - 2s 2ms/sample - loss: 0.0603 - accuracy: 0.9806 - val_loss: 0.7586 - val_accuracy: 0.7917\n",
      "Epoch 244/300\n",
      "1080/1080 [==============================] - 3s 2ms/sample - loss: 0.0425 - accuracy: 0.9861 - val_loss: 0.6454 - val_accuracy: 0.8500\n",
      "Epoch 245/300\n",
      "1080/1080 [==============================] - 3s 3ms/sample - loss: 0.0329 - accuracy: 0.9880 - val_loss: 0.7784 - val_accuracy: 0.7917\n",
      "Epoch 246/300\n",
      "1080/1080 [==============================] - 2s 2ms/sample - loss: 0.0281 - accuracy: 0.9907 - val_loss: 0.5403 - val_accuracy: 0.8667\n",
      "Epoch 247/300\n",
      "1080/1080 [==============================] - 3s 2ms/sample - loss: 0.0134 - accuracy: 0.9991 - val_loss: 0.5468 - val_accuracy: 0.8833\n",
      "Epoch 248/300\n",
      "1080/1080 [==============================] - 3s 2ms/sample - loss: 0.0079 - accuracy: 1.0000 - val_loss: 0.5477 - val_accuracy: 0.8583\n",
      "Epoch 249/300\n",
      "1080/1080 [==============================] - 2s 2ms/sample - loss: 0.0066 - accuracy: 1.0000 - val_loss: 0.5643 - val_accuracy: 0.8583\n",
      "Epoch 250/300\n",
      "1080/1080 [==============================] - 3s 2ms/sample - loss: 0.0053 - accuracy: 1.0000 - val_loss: 0.5475 - val_accuracy: 0.8583\n",
      "Epoch 251/300\n",
      "1080/1080 [==============================] - 2s 2ms/sample - loss: 0.0051 - accuracy: 1.0000 - val_loss: 0.5397 - val_accuracy: 0.8750\n",
      "Epoch 252/300\n",
      "1080/1080 [==============================] - 3s 3ms/sample - loss: 0.0045 - accuracy: 1.0000 - val_loss: 0.5440 - val_accuracy: 0.8667\n",
      "Epoch 253/300\n",
      "1080/1080 [==============================] - 2s 2ms/sample - loss: 0.0042 - accuracy: 1.0000 - val_loss: 0.5424 - val_accuracy: 0.8667\n",
      "Epoch 254/300\n",
      "1080/1080 [==============================] - 4s 3ms/sample - loss: 0.0042 - accuracy: 1.0000 - val_loss: 0.5606 - val_accuracy: 0.8583\n",
      "Epoch 255/300\n",
      "1080/1080 [==============================] - 4s 4ms/sample - loss: 0.0039 - accuracy: 1.0000 - val_loss: 0.5523 - val_accuracy: 0.8583\n",
      "Epoch 256/300\n",
      "1080/1080 [==============================] - 3s 2ms/sample - loss: 0.0038 - accuracy: 1.0000 - val_loss: 0.5585 - val_accuracy: 0.8667\n",
      "Epoch 257/300\n",
      "1080/1080 [==============================] - 2s 2ms/sample - loss: 0.0036 - accuracy: 1.0000 - val_loss: 0.5552 - val_accuracy: 0.8583\n",
      "Epoch 258/300\n",
      "1080/1080 [==============================] - 3s 2ms/sample - loss: 0.0034 - accuracy: 1.0000 - val_loss: 0.5627 - val_accuracy: 0.8583\n",
      "Epoch 259/300\n",
      "1080/1080 [==============================] - 3s 3ms/sample - loss: 0.0033 - accuracy: 1.0000 - val_loss: 0.5564 - val_accuracy: 0.8667\n",
      "Epoch 260/300\n",
      "1080/1080 [==============================] - 3s 2ms/sample - loss: 0.0033 - accuracy: 1.0000 - val_loss: 0.5503 - val_accuracy: 0.8667\n",
      "Epoch 261/300\n",
      "1080/1080 [==============================] - 2s 2ms/sample - loss: 0.0031 - accuracy: 1.0000 - val_loss: 0.5796 - val_accuracy: 0.8583\n",
      "Epoch 262/300\n",
      "1080/1080 [==============================] - 2s 2ms/sample - loss: 0.0029 - accuracy: 1.0000 - val_loss: 0.5575 - val_accuracy: 0.8667\n",
      "Epoch 263/300\n",
      "1080/1080 [==============================] - 2s 2ms/sample - loss: 0.0030 - accuracy: 1.0000 - val_loss: 0.5902 - val_accuracy: 0.8583\n",
      "Epoch 264/300\n",
      "1080/1080 [==============================] - 2s 2ms/sample - loss: 0.0030 - accuracy: 1.0000 - val_loss: 0.5806 - val_accuracy: 0.8667\n",
      "Epoch 265/300\n",
      "1080/1080 [==============================] - 2s 2ms/sample - loss: 0.0027 - accuracy: 1.0000 - val_loss: 0.5641 - val_accuracy: 0.8667\n",
      "Epoch 266/300\n",
      "1080/1080 [==============================] - 3s 3ms/sample - loss: 0.0028 - accuracy: 1.0000 - val_loss: 0.5623 - val_accuracy: 0.8667\n",
      "Epoch 267/300\n",
      "1080/1080 [==============================] - 2s 2ms/sample - loss: 0.0029 - accuracy: 1.0000 - val_loss: 0.5751 - val_accuracy: 0.8583\n",
      "Epoch 268/300\n",
      "1080/1080 [==============================] - 2s 2ms/sample - loss: 0.0027 - accuracy: 1.0000 - val_loss: 0.5912 - val_accuracy: 0.8583\n",
      "Epoch 269/300\n",
      "1080/1080 [==============================] - 2s 2ms/sample - loss: 0.0027 - accuracy: 1.0000 - val_loss: 0.5631 - val_accuracy: 0.8583\n",
      "Epoch 270/300\n",
      "1080/1080 [==============================] - 2s 2ms/sample - loss: 0.0025 - accuracy: 1.0000 - val_loss: 0.5778 - val_accuracy: 0.8667\n",
      "Epoch 271/300\n",
      "1080/1080 [==============================] - 2s 2ms/sample - loss: 0.0023 - accuracy: 1.0000 - val_loss: 0.5759 - val_accuracy: 0.8583\n",
      "Epoch 272/300\n",
      "1080/1080 [==============================] - 2s 2ms/sample - loss: 0.0023 - accuracy: 1.0000 - val_loss: 0.5860 - val_accuracy: 0.8583\n",
      "Epoch 273/300\n",
      "1080/1080 [==============================] - 2s 2ms/sample - loss: 0.0021 - accuracy: 1.0000 - val_loss: 0.5757 - val_accuracy: 0.8583\n",
      "Epoch 274/300\n",
      "1080/1080 [==============================] - 2s 2ms/sample - loss: 0.0022 - accuracy: 1.0000 - val_loss: 0.5899 - val_accuracy: 0.8667\n",
      "Epoch 275/300\n",
      "1080/1080 [==============================] - 2s 2ms/sample - loss: 0.0021 - accuracy: 1.0000 - val_loss: 0.5837 - val_accuracy: 0.8667\n",
      "Epoch 276/300\n",
      "1080/1080 [==============================] - 2s 2ms/sample - loss: 0.0020 - accuracy: 1.0000 - val_loss: 0.5903 - val_accuracy: 0.8583\n",
      "Epoch 277/300\n",
      "1080/1080 [==============================] - 2s 2ms/sample - loss: 0.0019 - accuracy: 1.0000 - val_loss: 0.5854 - val_accuracy: 0.8583\n",
      "Epoch 278/300\n",
      "1080/1080 [==============================] - 2s 2ms/sample - loss: 0.0019 - accuracy: 1.0000 - val_loss: 0.5864 - val_accuracy: 0.8583\n",
      "Epoch 279/300\n",
      "1080/1080 [==============================] - 2s 2ms/sample - loss: 0.0019 - accuracy: 1.0000 - val_loss: 0.5892 - val_accuracy: 0.8667\n",
      "Epoch 280/300\n",
      "1080/1080 [==============================] - 2s 2ms/sample - loss: 0.0020 - accuracy: 1.0000 - val_loss: 0.5926 - val_accuracy: 0.8583\n",
      "Epoch 281/300\n",
      "1080/1080 [==============================] - 2s 2ms/sample - loss: 0.0018 - accuracy: 1.0000 - val_loss: 0.6048 - val_accuracy: 0.8583\n",
      "Epoch 282/300\n",
      "1080/1080 [==============================] - 2s 2ms/sample - loss: 0.0017 - accuracy: 1.0000 - val_loss: 0.5932 - val_accuracy: 0.8583\n",
      "Epoch 283/300\n",
      "1080/1080 [==============================] - 2s 2ms/sample - loss: 0.0018 - accuracy: 1.0000 - val_loss: 0.5968 - val_accuracy: 0.8583\n",
      "Epoch 284/300\n",
      "1080/1080 [==============================] - 2s 2ms/sample - loss: 0.0018 - accuracy: 1.0000 - val_loss: 0.6068 - val_accuracy: 0.8667\n",
      "Epoch 285/300\n",
      "1080/1080 [==============================] - 2s 2ms/sample - loss: 0.0017 - accuracy: 1.0000 - val_loss: 0.6013 - val_accuracy: 0.8583\n",
      "Epoch 286/300\n",
      "1080/1080 [==============================] - 2s 2ms/sample - loss: 0.0017 - accuracy: 1.0000 - val_loss: 0.6011 - val_accuracy: 0.8583\n",
      "Epoch 287/300\n",
      "1080/1080 [==============================] - 3s 3ms/sample - loss: 0.0016 - accuracy: 1.0000 - val_loss: 0.6089 - val_accuracy: 0.8583\n",
      "Epoch 288/300\n",
      "1080/1080 [==============================] - 2s 2ms/sample - loss: 0.0016 - accuracy: 1.0000 - val_loss: 0.6029 - val_accuracy: 0.8583\n",
      "Epoch 289/300\n",
      "1080/1080 [==============================] - 2s 2ms/sample - loss: 0.0015 - accuracy: 1.0000 - val_loss: 0.6045 - val_accuracy: 0.8583\n",
      "Epoch 290/300\n",
      "1080/1080 [==============================] - 2s 2ms/sample - loss: 0.0015 - accuracy: 1.0000 - val_loss: 0.6082 - val_accuracy: 0.8583\n",
      "Epoch 291/300\n",
      "1080/1080 [==============================] - 2s 2ms/sample - loss: 0.0015 - accuracy: 1.0000 - val_loss: 0.6063 - val_accuracy: 0.8583\n",
      "Epoch 292/300\n",
      "1080/1080 [==============================] - 2s 2ms/sample - loss: 0.0014 - accuracy: 1.0000 - val_loss: 0.6110 - val_accuracy: 0.8583\n",
      "Epoch 293/300\n",
      "1080/1080 [==============================] - 2s 2ms/sample - loss: 0.0014 - accuracy: 1.0000 - val_loss: 0.6087 - val_accuracy: 0.8583\n",
      "Epoch 294/300\n",
      "1080/1080 [==============================] - 2s 2ms/sample - loss: 0.0014 - accuracy: 1.0000 - val_loss: 0.6120 - val_accuracy: 0.8583\n",
      "Epoch 295/300\n",
      "1080/1080 [==============================] - 2s 2ms/sample - loss: 0.0013 - accuracy: 1.0000 - val_loss: 0.6143 - val_accuracy: 0.8583\n",
      "Epoch 296/300\n",
      "1080/1080 [==============================] - 2s 2ms/sample - loss: 0.0013 - accuracy: 1.0000 - val_loss: 0.6161 - val_accuracy: 0.8583\n",
      "Epoch 297/300\n",
      "1080/1080 [==============================] - 2s 2ms/sample - loss: 0.0013 - accuracy: 1.0000 - val_loss: 0.6221 - val_accuracy: 0.8583\n",
      "Epoch 298/300\n",
      "1080/1080 [==============================] - 2s 2ms/sample - loss: 0.0013 - accuracy: 1.0000 - val_loss: 0.6154 - val_accuracy: 0.8583\n",
      "Epoch 299/300\n",
      "1080/1080 [==============================] - 2s 2ms/sample - loss: 0.0012 - accuracy: 1.0000 - val_loss: 0.6221 - val_accuracy: 0.8583\n",
      "Epoch 300/300\n",
      "1080/1080 [==============================] - 2s 2ms/sample - loss: 0.0012 - accuracy: 1.0000 - val_loss: 0.6131 - val_accuracy: 0.8583\n"
     ]
    }
   ],
   "source": [
    "# Fit the model\n",
    "history= modelx.fit(train_set_x_orig, train_set_y_orig, epochs=300, batch_size=100, validation_data=(test_set_x_orig,test_set_y_orig))"
   ]
  },
  {
   "cell_type": "code",
   "execution_count": 28,
   "metadata": {},
   "outputs": [],
   "source": [
    "#Accuracy of the model\n",
    "#scores = modelx.evaluate(train_set_x_orig, train_set_y_orig)\n",
    "#print(modelx.metrics_names[1], scores[1]*100)"
   ]
  },
  {
   "cell_type": "code",
   "execution_count": 29,
   "metadata": {},
   "outputs": [
    {
     "name": "stdout",
     "output_type": "stream",
     "text": [
      "              precision    recall  f1-score   support\n",
      "\n",
      "           0       0.91      1.00      0.95        20\n",
      "           1       0.90      0.95      0.93        20\n",
      "           2       1.00      0.85      0.92        20\n",
      "           3       0.71      0.75      0.73        20\n",
      "           4       0.74      0.70      0.72        20\n",
      "           5       0.90      0.90      0.90        20\n",
      "\n",
      "    accuracy                           0.86       120\n",
      "   macro avg       0.86      0.86      0.86       120\n",
      "weighted avg       0.86      0.86      0.86       120\n",
      "\n",
      "[[20  0  0  0  0  0]\n",
      " [ 0 19  0  1  0  0]\n",
      " [ 0  1 17  2  0  0]\n",
      " [ 1  0  0 15  4  0]\n",
      " [ 1  1  0  2 14  2]\n",
      " [ 0  0  0  1  1 18]]\n"
     ]
    }
   ],
   "source": [
    "pred_test = modelx.predict_classes(test_set_x_orig)\n",
    "from sklearn.metrics import classification_report, confusion_matrix\n",
    "cr = classification_report(test_set_y_orig, pred_test)\n",
    "print(cr)\n",
    "cm = confusion_matrix(test_set_y_orig, pred_test)\n",
    "print(cm)"
   ]
  },
  {
   "cell_type": "markdown",
   "metadata": {},
   "source": [
    "### Note: If there was enough time I would work more on validation point and tune with it"
   ]
  },
  {
   "cell_type": "markdown",
   "metadata": {},
   "source": [
    "### Here we can see that when we increase the to number of layers to 7  and number of neurons between 200 to 1000 we can see that the model is has better val_accuracy which is 86.67%"
   ]
  },
  {
   "cell_type": "markdown",
   "metadata": {},
   "source": [
    "**Bonus**\n",
    "\n",
    "See if you can change some of the parameters so that some of the epochs can reach a validation accuracy of at least 92%"
   ]
  },
  {
   "cell_type": "code",
   "execution_count": null,
   "metadata": {},
   "outputs": [
    {
     "name": "stdout",
     "output_type": "stream",
     "text": [
      "Train on 1080 samples, validate on 120 samples\n",
      "Epoch 1/350\n",
      "1080/1080 [==============================] - 6s 6ms/sample - loss: 7.8040 - accuracy: 0.1463 - val_loss: 7.6972 - val_accuracy: 0.2083\n",
      "Epoch 2/350\n",
      "1080/1080 [==============================] - 3s 3ms/sample - loss: 7.6124 - accuracy: 0.2296 - val_loss: 7.5054 - val_accuracy: 0.2417\n",
      "Epoch 3/350\n",
      "1080/1080 [==============================] - 4s 4ms/sample - loss: 7.4228 - accuracy: 0.2398 - val_loss: 7.3214 - val_accuracy: 0.1750\n",
      "Epoch 4/350\n",
      "1080/1080 [==============================] - 3s 3ms/sample - loss: 7.2339 - accuracy: 0.3130 - val_loss: 7.1247 - val_accuracy: 0.3250\n",
      "Epoch 5/350\n",
      "1080/1080 [==============================] - 4s 4ms/sample - loss: 7.0368 - accuracy: 0.3185 - val_loss: 6.9255 - val_accuracy: 0.3000\n",
      "Epoch 6/350\n",
      "1080/1080 [==============================] - 4s 3ms/sample - loss: 6.8351 - accuracy: 0.3250 - val_loss: 6.7125 - val_accuracy: 0.3250\n",
      "Epoch 7/350\n",
      "1080/1080 [==============================] - 4s 3ms/sample - loss: 6.6403 - accuracy: 0.3500 - val_loss: 6.4967 - val_accuracy: 0.3667\n",
      "Epoch 8/350\n",
      "1080/1080 [==============================] - 4s 3ms/sample - loss: 6.4529 - accuracy: 0.3528 - val_loss: 6.3659 - val_accuracy: 0.2833\n",
      "Epoch 9/350\n",
      "1080/1080 [==============================] - 3s 3ms/sample - loss: 6.2794 - accuracy: 0.3898 - val_loss: 6.1563 - val_accuracy: 0.4667\n",
      "Epoch 10/350\n",
      "1080/1080 [==============================] - 3s 3ms/sample - loss: 6.1077 - accuracy: 0.4269 - val_loss: 6.0275 - val_accuracy: 0.4250\n",
      "Epoch 11/350\n",
      "1080/1080 [==============================] - 3s 3ms/sample - loss: 5.9651 - accuracy: 0.4713 - val_loss: 5.9510 - val_accuracy: 0.3583\n",
      "Epoch 12/350\n",
      "1080/1080 [==============================] - 3s 3ms/sample - loss: 6.0039 - accuracy: 0.3556 - val_loss: 5.9361 - val_accuracy: 0.3000\n",
      "Epoch 13/350\n",
      "1080/1080 [==============================] - 3s 3ms/sample - loss: 5.7725 - accuracy: 0.4185 - val_loss: 5.6699 - val_accuracy: 0.4917\n",
      "Epoch 14/350\n",
      "1080/1080 [==============================] - 4s 4ms/sample - loss: 5.6258 - accuracy: 0.4704 - val_loss: 5.5486 - val_accuracy: 0.5667\n",
      "Epoch 15/350\n",
      "1080/1080 [==============================] - 5s 4ms/sample - loss: 5.5235 - accuracy: 0.4806 - val_loss: 5.4447 - val_accuracy: 0.5250\n",
      "Epoch 16/350\n",
      "1080/1080 [==============================] - 4s 4ms/sample - loss: 5.4074 - accuracy: 0.4944 - val_loss: 5.3504 - val_accuracy: 0.5167\n",
      "Epoch 17/350\n",
      "1080/1080 [==============================] - 4s 3ms/sample - loss: 5.3240 - accuracy: 0.5130 - val_loss: 5.2509 - val_accuracy: 0.5917\n",
      "Epoch 18/350\n",
      "1080/1080 [==============================] - 3s 3ms/sample - loss: 5.2526 - accuracy: 0.4676 - val_loss: 5.2591 - val_accuracy: 0.4083\n",
      "Epoch 19/350\n",
      "1080/1080 [==============================] - 6s 6ms/sample - loss: 5.1521 - accuracy: 0.5056 - val_loss: 5.0768 - val_accuracy: 0.5500\n",
      "Epoch 20/350\n",
      "1080/1080 [==============================] - 5s 5ms/sample - loss: 5.0595 - accuracy: 0.5194 - val_loss: 4.9874 - val_accuracy: 0.5667\n",
      "Epoch 21/350\n",
      "1080/1080 [==============================] - 5s 5ms/sample - loss: 4.9539 - accuracy: 0.5370 - val_loss: 4.9216 - val_accuracy: 0.5583\n",
      "Epoch 22/350\n",
      "1080/1080 [==============================] - 5s 4ms/sample - loss: 4.8522 - accuracy: 0.5491 - val_loss: 4.8120 - val_accuracy: 0.5667\n",
      "Epoch 23/350\n",
      "1080/1080 [==============================] - 4s 4ms/sample - loss: 4.7787 - accuracy: 0.5528 - val_loss: 4.7693 - val_accuracy: 0.5500\n",
      "Epoch 24/350\n",
      "1080/1080 [==============================] - 5s 4ms/sample - loss: 4.6949 - accuracy: 0.5583 - val_loss: 4.6957 - val_accuracy: 0.5250\n",
      "Epoch 25/350\n",
      "1080/1080 [==============================] - 4s 4ms/sample - loss: 4.6256 - accuracy: 0.5648 - val_loss: 4.5855 - val_accuracy: 0.5583\n",
      "Epoch 26/350\n",
      "1080/1080 [==============================] - 4s 3ms/sample - loss: 4.5440 - accuracy: 0.5611 - val_loss: 4.5438 - val_accuracy: 0.5083\n",
      "Epoch 27/350\n",
      "1080/1080 [==============================] - 4s 4ms/sample - loss: 4.4472 - accuracy: 0.5926 - val_loss: 4.4533 - val_accuracy: 0.5750\n",
      "Epoch 28/350\n",
      "1080/1080 [==============================] - 5s 5ms/sample - loss: 4.3729 - accuracy: 0.6056 - val_loss: 4.5372 - val_accuracy: 0.4833\n",
      "Epoch 29/350\n",
      "1080/1080 [==============================] - 5s 5ms/sample - loss: 4.4136 - accuracy: 0.5333 - val_loss: 4.4006 - val_accuracy: 0.5250\n",
      "Epoch 30/350\n",
      "1080/1080 [==============================] - 5s 5ms/sample - loss: 4.3061 - accuracy: 0.5769 - val_loss: 4.3176 - val_accuracy: 0.5583\n",
      "Epoch 31/350\n",
      "1080/1080 [==============================] - 5s 5ms/sample - loss: 4.1985 - accuracy: 0.6148 - val_loss: 4.1926 - val_accuracy: 0.5833\n",
      "Epoch 32/350\n",
      "1080/1080 [==============================] - 3s 3ms/sample - loss: 4.1151 - accuracy: 0.6481 - val_loss: 4.1494 - val_accuracy: 0.6000\n",
      "Epoch 33/350\n",
      "1080/1080 [==============================] - 4s 4ms/sample - loss: 4.0726 - accuracy: 0.6380 - val_loss: 4.0911 - val_accuracy: 0.6083\n",
      "Epoch 34/350\n",
      "1080/1080 [==============================] - 4s 4ms/sample - loss: 4.0325 - accuracy: 0.6278 - val_loss: 4.0740 - val_accuracy: 0.6000\n",
      "Epoch 35/350\n",
      "1080/1080 [==============================] - 4s 3ms/sample - loss: 3.9634 - accuracy: 0.6407 - val_loss: 3.9873 - val_accuracy: 0.6083\n",
      "Epoch 36/350\n",
      "1080/1080 [==============================] - 4s 4ms/sample - loss: 3.8778 - accuracy: 0.6667 - val_loss: 3.9475 - val_accuracy: 0.6167\n",
      "Epoch 37/350\n",
      "1080/1080 [==============================] - 4s 3ms/sample - loss: 3.8299 - accuracy: 0.6787 - val_loss: 3.9107 - val_accuracy: 0.6000\n",
      "Epoch 38/350\n",
      "1080/1080 [==============================] - 3s 3ms/sample - loss: 3.7794 - accuracy: 0.6870 - val_loss: 3.8619 - val_accuracy: 0.6083\n",
      "Epoch 39/350\n",
      "1080/1080 [==============================] - 3s 3ms/sample - loss: 3.7286 - accuracy: 0.6769 - val_loss: 3.7991 - val_accuracy: 0.6083\n",
      "Epoch 40/350\n",
      "1080/1080 [==============================] - 5s 4ms/sample - loss: 3.6930 - accuracy: 0.6704 - val_loss: 3.8662 - val_accuracy: 0.5583\n",
      "Epoch 41/350\n",
      "1080/1080 [==============================] - 5s 4ms/sample - loss: 3.7219 - accuracy: 0.6352 - val_loss: 3.9457 - val_accuracy: 0.5417\n",
      "Epoch 42/350\n",
      "1080/1080 [==============================] - 7s 6ms/sample - loss: 3.6731 - accuracy: 0.6370 - val_loss: 3.7224 - val_accuracy: 0.6333\n",
      "Epoch 43/350\n",
      "1080/1080 [==============================] - 4s 4ms/sample - loss: 3.6006 - accuracy: 0.6546 - val_loss: 3.7742 - val_accuracy: 0.5500\n",
      "Epoch 44/350\n",
      "1080/1080 [==============================] - 3s 3ms/sample - loss: 3.6535 - accuracy: 0.6204 - val_loss: 4.0278 - val_accuracy: 0.4583\n",
      "Epoch 45/350\n",
      "1080/1080 [==============================] - 4s 4ms/sample - loss: 3.6186 - accuracy: 0.6324 - val_loss: 3.5694 - val_accuracy: 0.6583\n",
      "Epoch 46/350\n",
      "1080/1080 [==============================] - 5s 5ms/sample - loss: 3.5070 - accuracy: 0.6528 - val_loss: 3.6622 - val_accuracy: 0.5917\n",
      "Epoch 47/350\n",
      "1080/1080 [==============================] - 5s 4ms/sample - loss: 3.5282 - accuracy: 0.6389 - val_loss: 3.5297 - val_accuracy: 0.6250\n",
      "Epoch 48/350\n",
      "1080/1080 [==============================] - 6s 5ms/sample - loss: 3.4104 - accuracy: 0.7019 - val_loss: 3.4638 - val_accuracy: 0.6583\n",
      "Epoch 49/350\n",
      "1080/1080 [==============================] - 4s 4ms/sample - loss: 3.3296 - accuracy: 0.7213 - val_loss: 3.5311 - val_accuracy: 0.5917\n",
      "Epoch 50/350\n",
      "1080/1080 [==============================] - 4s 4ms/sample - loss: 3.3336 - accuracy: 0.7102 - val_loss: 3.4035 - val_accuracy: 0.6833\n",
      "Epoch 51/350\n",
      "1080/1080 [==============================] - 4s 4ms/sample - loss: 3.2552 - accuracy: 0.7278 - val_loss: 3.4403 - val_accuracy: 0.6083\n",
      "Epoch 52/350\n",
      "1080/1080 [==============================] - 4s 3ms/sample - loss: 3.2175 - accuracy: 0.7296 - val_loss: 3.3223 - val_accuracy: 0.6750\n",
      "Epoch 53/350\n",
      "1080/1080 [==============================] - 3s 3ms/sample - loss: 3.1742 - accuracy: 0.7500 - val_loss: 3.3400 - val_accuracy: 0.6583\n",
      "Epoch 54/350\n",
      "1080/1080 [==============================] - 3s 3ms/sample - loss: 3.1356 - accuracy: 0.7426 - val_loss: 3.2586 - val_accuracy: 0.7167\n",
      "Epoch 55/350\n",
      "1080/1080 [==============================] - 5s 4ms/sample - loss: 3.1416 - accuracy: 0.7481 - val_loss: 3.2984 - val_accuracy: 0.6667\n",
      "Epoch 56/350\n",
      "1080/1080 [==============================] - 6s 5ms/sample - loss: 3.1840 - accuracy: 0.6963 - val_loss: 3.2614 - val_accuracy: 0.6083\n",
      "Epoch 57/350\n",
      "1080/1080 [==============================] - 6s 6ms/sample - loss: 3.1018 - accuracy: 0.7343 - val_loss: 3.2932 - val_accuracy: 0.6833\n",
      "Epoch 58/350\n",
      "1080/1080 [==============================] - 4s 3ms/sample - loss: 3.0318 - accuracy: 0.7593 - val_loss: 3.1449 - val_accuracy: 0.7250\n",
      "Epoch 59/350\n",
      "1080/1080 [==============================] - 3s 3ms/sample - loss: 3.0132 - accuracy: 0.7481 - val_loss: 3.2176 - val_accuracy: 0.7000\n",
      "Epoch 60/350\n",
      "1080/1080 [==============================] - 4s 3ms/sample - loss: 3.0284 - accuracy: 0.7454 - val_loss: 3.0981 - val_accuracy: 0.7167\n",
      "Epoch 61/350\n",
      "1080/1080 [==============================] - 4s 4ms/sample - loss: 2.9690 - accuracy: 0.7519 - val_loss: 3.0834 - val_accuracy: 0.6833\n",
      "Epoch 62/350\n",
      "1080/1080 [==============================] - 5s 5ms/sample - loss: 2.9349 - accuracy: 0.7528 - val_loss: 3.1649 - val_accuracy: 0.6500\n",
      "Epoch 63/350\n",
      "1080/1080 [==============================] - 5s 5ms/sample - loss: 3.0024 - accuracy: 0.7083 - val_loss: 3.2180 - val_accuracy: 0.6500\n",
      "Epoch 64/350\n",
      "1080/1080 [==============================] - 5s 5ms/sample - loss: 2.8778 - accuracy: 0.7694 - val_loss: 3.1008 - val_accuracy: 0.6333\n",
      "Epoch 65/350\n",
      "1080/1080 [==============================] - 4s 4ms/sample - loss: 2.8629 - accuracy: 0.7806 - val_loss: 3.0625 - val_accuracy: 0.6917\n",
      "Epoch 66/350\n",
      "1080/1080 [==============================] - 4s 4ms/sample - loss: 2.8148 - accuracy: 0.7787 - val_loss: 3.0156 - val_accuracy: 0.6917\n",
      "Epoch 67/350\n",
      "1080/1080 [==============================] - 4s 4ms/sample - loss: 2.7758 - accuracy: 0.7917 - val_loss: 2.9759 - val_accuracy: 0.7250\n",
      "Epoch 68/350\n",
      "1080/1080 [==============================] - 4s 4ms/sample - loss: 2.7836 - accuracy: 0.7852 - val_loss: 3.0170 - val_accuracy: 0.6833\n",
      "Epoch 69/350\n",
      "1080/1080 [==============================] - 4s 3ms/sample - loss: 3.0055 - accuracy: 0.6815 - val_loss: 3.0786 - val_accuracy: 0.5833\n",
      "Epoch 70/350\n",
      "1080/1080 [==============================] - 5s 4ms/sample - loss: 2.8800 - accuracy: 0.7185 - val_loss: 3.0229 - val_accuracy: 0.6333\n",
      "Epoch 71/350\n",
      "1080/1080 [==============================] - 5s 4ms/sample - loss: 2.7349 - accuracy: 0.7880 - val_loss: 2.8739 - val_accuracy: 0.7667\n",
      "Epoch 72/350\n",
      "1080/1080 [==============================] - 7s 7ms/sample - loss: 2.6825 - accuracy: 0.8019 - val_loss: 2.8839 - val_accuracy: 0.7417\n",
      "Epoch 73/350\n",
      "1080/1080 [==============================] - 6s 6ms/sample - loss: 2.6971 - accuracy: 0.7843 - val_loss: 2.8875 - val_accuracy: 0.6917\n",
      "Epoch 74/350\n",
      "1080/1080 [==============================] - 9s 9ms/sample - loss: 2.6969 - accuracy: 0.7759 - val_loss: 2.9211 - val_accuracy: 0.6167\n",
      "Epoch 75/350\n",
      "1080/1080 [==============================] - 7s 6ms/sample - loss: 2.7389 - accuracy: 0.7509 - val_loss: 3.0035 - val_accuracy: 0.6750\n",
      "Epoch 76/350\n",
      "1080/1080 [==============================] - 4s 4ms/sample - loss: 2.6898 - accuracy: 0.7630 - val_loss: 2.7978 - val_accuracy: 0.7000\n",
      "Epoch 77/350\n",
      "1080/1080 [==============================] - 5s 5ms/sample - loss: 2.5986 - accuracy: 0.8250 - val_loss: 2.8432 - val_accuracy: 0.7000\n",
      "Epoch 78/350\n",
      "1080/1080 [==============================] - 6s 6ms/sample - loss: 2.6068 - accuracy: 0.7981 - val_loss: 2.8242 - val_accuracy: 0.7167\n",
      "Epoch 79/350\n",
      "1080/1080 [==============================] - 4s 3ms/sample - loss: 2.6000 - accuracy: 0.7963 - val_loss: 2.7551 - val_accuracy: 0.7667\n",
      "Epoch 80/350\n",
      "1080/1080 [==============================] - 3s 3ms/sample - loss: 2.5410 - accuracy: 0.8102 - val_loss: 2.7665 - val_accuracy: 0.7083\n",
      "Epoch 81/350\n",
      "1080/1080 [==============================] - 4s 3ms/sample - loss: 2.5089 - accuracy: 0.8222 - val_loss: 2.7995 - val_accuracy: 0.7083\n",
      "Epoch 82/350\n",
      "1080/1080 [==============================] - 4s 3ms/sample - loss: 2.5018 - accuracy: 0.8250 - val_loss: 2.7169 - val_accuracy: 0.7333\n",
      "Epoch 83/350\n",
      "1080/1080 [==============================] - 4s 4ms/sample - loss: 2.4742 - accuracy: 0.8389 - val_loss: 2.6834 - val_accuracy: 0.7500\n",
      "Epoch 84/350\n",
      "1080/1080 [==============================] - 4s 3ms/sample - loss: 2.5189 - accuracy: 0.8074 - val_loss: 2.7124 - val_accuracy: 0.7000\n",
      "Epoch 85/350\n",
      "1080/1080 [==============================] - 4s 4ms/sample - loss: 2.4486 - accuracy: 0.8333 - val_loss: 2.7897 - val_accuracy: 0.7000\n",
      "Epoch 86/350\n",
      "1080/1080 [==============================] - 3s 3ms/sample - loss: 2.4820 - accuracy: 0.8093 - val_loss: 2.6623 - val_accuracy: 0.7917\n",
      "Epoch 87/350\n",
      "1080/1080 [==============================] - 3s 3ms/sample - loss: 2.4020 - accuracy: 0.8407 - val_loss: 2.7229 - val_accuracy: 0.7583\n",
      "Epoch 88/350\n",
      "1080/1080 [==============================] - 4s 3ms/sample - loss: 2.3936 - accuracy: 0.8472 - val_loss: 2.6987 - val_accuracy: 0.6917\n",
      "Epoch 89/350\n",
      "1080/1080 [==============================] - 4s 3ms/sample - loss: 2.3873 - accuracy: 0.8426 - val_loss: 2.7265 - val_accuracy: 0.6833\n",
      "Epoch 90/350\n",
      "1080/1080 [==============================] - 4s 4ms/sample - loss: 2.3587 - accuracy: 0.8472 - val_loss: 2.6457 - val_accuracy: 0.7750\n",
      "Epoch 91/350\n",
      "1080/1080 [==============================] - 5s 4ms/sample - loss: 2.3619 - accuracy: 0.8407 - val_loss: 2.8500 - val_accuracy: 0.6833\n",
      "Epoch 92/350\n",
      "1080/1080 [==============================] - 5s 5ms/sample - loss: 2.5464 - accuracy: 0.7602 - val_loss: 2.7141 - val_accuracy: 0.7083\n",
      "Epoch 93/350\n",
      "1080/1080 [==============================] - 5s 4ms/sample - loss: 2.4016 - accuracy: 0.8176 - val_loss: 2.6604 - val_accuracy: 0.7000\n",
      "Epoch 94/350\n",
      "1080/1080 [==============================] - 5s 4ms/sample - loss: 2.3116 - accuracy: 0.8694 - val_loss: 2.7190 - val_accuracy: 0.6667\n",
      "Epoch 95/350\n",
      "1080/1080 [==============================] - 4s 4ms/sample - loss: 2.3158 - accuracy: 0.8565 - val_loss: 2.6720 - val_accuracy: 0.7250\n",
      "Epoch 96/350\n",
      "1080/1080 [==============================] - 4s 4ms/sample - loss: 2.3137 - accuracy: 0.8519 - val_loss: 2.5684 - val_accuracy: 0.7333\n",
      "Epoch 97/350\n",
      "1080/1080 [==============================] - 5s 5ms/sample - loss: 2.2835 - accuracy: 0.8583 - val_loss: 2.5524 - val_accuracy: 0.7250\n",
      "Epoch 98/350\n",
      "1080/1080 [==============================] - 4s 4ms/sample - loss: 2.2699 - accuracy: 0.8565 - val_loss: 2.6662 - val_accuracy: 0.6833\n",
      "Epoch 99/350\n",
      "1080/1080 [==============================] - 4s 3ms/sample - loss: 2.2706 - accuracy: 0.8556 - val_loss: 2.6129 - val_accuracy: 0.7250\n",
      "Epoch 100/350\n",
      "1080/1080 [==============================] - 4s 3ms/sample - loss: 2.2075 - accuracy: 0.8917 - val_loss: 2.5413 - val_accuracy: 0.7250\n",
      "Epoch 101/350\n",
      "1080/1080 [==============================] - 4s 3ms/sample - loss: 2.1869 - accuracy: 0.8880 - val_loss: 2.5525 - val_accuracy: 0.7167\n",
      "Epoch 102/350\n",
      "1080/1080 [==============================] - 3s 3ms/sample - loss: 2.2176 - accuracy: 0.8694 - val_loss: 2.5590 - val_accuracy: 0.7583\n",
      "Epoch 103/350\n",
      "1080/1080 [==============================] - 3s 3ms/sample - loss: 2.2430 - accuracy: 0.8593 - val_loss: 2.6002 - val_accuracy: 0.7333\n",
      "Epoch 104/350\n",
      "1080/1080 [==============================] - 4s 4ms/sample - loss: 2.2592 - accuracy: 0.8426 - val_loss: 2.6467 - val_accuracy: 0.7167\n",
      "Epoch 105/350\n",
      "1080/1080 [==============================] - 5s 5ms/sample - loss: 2.2161 - accuracy: 0.8741 - val_loss: 2.6969 - val_accuracy: 0.6833\n",
      "Epoch 106/350\n",
      "1080/1080 [==============================] - 5s 5ms/sample - loss: 2.2623 - accuracy: 0.8407 - val_loss: 2.7715 - val_accuracy: 0.6500\n",
      "Epoch 107/350\n",
      "1080/1080 [==============================] - 4s 4ms/sample - loss: 2.3386 - accuracy: 0.7935 - val_loss: 2.7505 - val_accuracy: 0.6750\n",
      "Epoch 108/350\n",
      "1080/1080 [==============================] - 3s 3ms/sample - loss: 2.2942 - accuracy: 0.8148 - val_loss: 2.6341 - val_accuracy: 0.7083\n",
      "Epoch 109/350\n",
      "1080/1080 [==============================] - 4s 3ms/sample - loss: 2.2436 - accuracy: 0.8389 - val_loss: 2.6091 - val_accuracy: 0.6917\n",
      "Epoch 110/350\n",
      "1080/1080 [==============================] - 3s 3ms/sample - loss: 2.2772 - accuracy: 0.8185 - val_loss: 2.4315 - val_accuracy: 0.7833\n",
      "Epoch 111/350\n",
      "1080/1080 [==============================] - 3s 3ms/sample - loss: 2.1798 - accuracy: 0.8657 - val_loss: 2.4263 - val_accuracy: 0.7583\n",
      "Epoch 112/350\n",
      "1080/1080 [==============================] - 3s 3ms/sample - loss: 2.0936 - accuracy: 0.9120 - val_loss: 2.4636 - val_accuracy: 0.7333\n",
      "Epoch 113/350\n",
      "1080/1080 [==============================] - 3s 3ms/sample - loss: 2.0927 - accuracy: 0.9009 - val_loss: 2.3985 - val_accuracy: 0.8000\n",
      "Epoch 114/350\n",
      "1080/1080 [==============================] - 3s 3ms/sample - loss: 2.0855 - accuracy: 0.9009 - val_loss: 2.4600 - val_accuracy: 0.7250\n",
      "Epoch 115/350\n",
      "1080/1080 [==============================] - 3s 3ms/sample - loss: 2.0902 - accuracy: 0.8917 - val_loss: 2.5331 - val_accuracy: 0.7083\n",
      "Epoch 116/350\n",
      "1080/1080 [==============================] - 3s 3ms/sample - loss: 2.0843 - accuracy: 0.9074 - val_loss: 2.3897 - val_accuracy: 0.7750\n",
      "Epoch 117/350\n",
      "1080/1080 [==============================] - 3s 3ms/sample - loss: 2.0519 - accuracy: 0.9176 - val_loss: 2.4629 - val_accuracy: 0.7750\n",
      "Epoch 118/350\n",
      "1080/1080 [==============================] - 3s 3ms/sample - loss: 2.0724 - accuracy: 0.9000 - val_loss: 2.3797 - val_accuracy: 0.7750\n",
      "Epoch 119/350\n",
      "1080/1080 [==============================] - 3s 3ms/sample - loss: 2.0141 - accuracy: 0.9296 - val_loss: 2.4369 - val_accuracy: 0.7667\n",
      "Epoch 120/350\n",
      "1080/1080 [==============================] - 3s 3ms/sample - loss: 2.0221 - accuracy: 0.9231 - val_loss: 2.3855 - val_accuracy: 0.7750\n",
      "Epoch 121/350\n",
      "1080/1080 [==============================] - 3s 3ms/sample - loss: 2.0326 - accuracy: 0.9111 - val_loss: 2.4099 - val_accuracy: 0.7417\n",
      "Epoch 122/350\n",
      "1080/1080 [==============================] - 3s 3ms/sample - loss: 2.0142 - accuracy: 0.9213 - val_loss: 2.3595 - val_accuracy: 0.7750\n",
      "Epoch 123/350\n",
      "1080/1080 [==============================] - 3s 3ms/sample - loss: 1.9764 - accuracy: 0.9352 - val_loss: 2.3445 - val_accuracy: 0.7750\n",
      "Epoch 124/350\n",
      "1080/1080 [==============================] - 3s 3ms/sample - loss: 1.9862 - accuracy: 0.9296 - val_loss: 2.4152 - val_accuracy: 0.8000\n",
      "Epoch 125/350\n",
      "1080/1080 [==============================] - 3s 3ms/sample - loss: 1.9605 - accuracy: 0.9370 - val_loss: 2.3995 - val_accuracy: 0.7667\n",
      "Epoch 126/350\n",
      "1080/1080 [==============================] - 3s 3ms/sample - loss: 1.9916 - accuracy: 0.9157 - val_loss: 2.5636 - val_accuracy: 0.7083\n",
      "Epoch 127/350\n",
      "1080/1080 [==============================] - 3s 3ms/sample - loss: 2.0424 - accuracy: 0.8861 - val_loss: 2.4242 - val_accuracy: 0.7333\n",
      "Epoch 128/350\n",
      "1080/1080 [==============================] - 5s 4ms/sample - loss: 1.9876 - accuracy: 0.9250 - val_loss: 2.3156 - val_accuracy: 0.7917\n",
      "Epoch 129/350\n",
      "1080/1080 [==============================] - 4s 4ms/sample - loss: 1.9758 - accuracy: 0.9250 - val_loss: 2.3815 - val_accuracy: 0.8083\n",
      "Epoch 130/350\n",
      "1080/1080 [==============================] - 4s 4ms/sample - loss: 1.9599 - accuracy: 0.9296 - val_loss: 2.3292 - val_accuracy: 0.7917\n",
      "Epoch 131/350\n",
      "1080/1080 [==============================] - 5s 5ms/sample - loss: 1.9335 - accuracy: 0.9343 - val_loss: 2.4324 - val_accuracy: 0.7667\n",
      "Epoch 132/350\n",
      "1080/1080 [==============================] - 4s 4ms/sample - loss: 1.9629 - accuracy: 0.9241 - val_loss: 2.3426 - val_accuracy: 0.7833\n",
      "Epoch 133/350\n",
      "1080/1080 [==============================] - 3s 3ms/sample - loss: 1.9416 - accuracy: 0.9296 - val_loss: 2.4985 - val_accuracy: 0.7500\n",
      "Epoch 134/350\n",
      "1080/1080 [==============================] - 4s 3ms/sample - loss: 2.0970 - accuracy: 0.8528 - val_loss: 2.7631 - val_accuracy: 0.6833\n",
      "Epoch 135/350\n",
      "1080/1080 [==============================] - 4s 3ms/sample - loss: 2.3773 - accuracy: 0.7454 - val_loss: 2.7673 - val_accuracy: 0.6833\n",
      "Epoch 136/350\n",
      "1080/1080 [==============================] - 4s 3ms/sample - loss: 2.1575 - accuracy: 0.8315 - val_loss: 2.3249 - val_accuracy: 0.8083\n",
      "Epoch 137/350\n",
      "1080/1080 [==============================] - 3s 3ms/sample - loss: 1.9739 - accuracy: 0.9241 - val_loss: 2.3073 - val_accuracy: 0.7583\n",
      "Epoch 138/350\n",
      "1080/1080 [==============================] - 3s 3ms/sample - loss: 1.9757 - accuracy: 0.9176 - val_loss: 2.3153 - val_accuracy: 0.8000\n",
      "Epoch 139/350\n",
      "1080/1080 [==============================] - 3s 3ms/sample - loss: 1.9076 - accuracy: 0.9463 - val_loss: 2.2949 - val_accuracy: 0.7750\n",
      "Epoch 140/350\n",
      "1080/1080 [==============================] - 3s 3ms/sample - loss: 1.8832 - accuracy: 0.9537 - val_loss: 2.2674 - val_accuracy: 0.7833\n",
      "Epoch 141/350\n",
      "1080/1080 [==============================] - 3s 3ms/sample - loss: 1.8736 - accuracy: 0.9491 - val_loss: 2.2741 - val_accuracy: 0.8000\n",
      "Epoch 142/350\n",
      "1080/1080 [==============================] - 3s 3ms/sample - loss: 1.8836 - accuracy: 0.9528 - val_loss: 2.4283 - val_accuracy: 0.7917\n",
      "Epoch 143/350\n",
      "1080/1080 [==============================] - 3s 3ms/sample - loss: 1.9855 - accuracy: 0.8917 - val_loss: 2.4877 - val_accuracy: 0.7417\n",
      "Epoch 144/350\n",
      "1080/1080 [==============================] - 3s 3ms/sample - loss: 1.9465 - accuracy: 0.9176 - val_loss: 2.2901 - val_accuracy: 0.7583\n",
      "Epoch 145/350\n",
      "1080/1080 [==============================] - 3s 3ms/sample - loss: 1.9538 - accuracy: 0.9056 - val_loss: 2.2454 - val_accuracy: 0.8083\n",
      "Epoch 146/350\n",
      "1080/1080 [==============================] - 3s 3ms/sample - loss: 1.8666 - accuracy: 0.9528 - val_loss: 2.2387 - val_accuracy: 0.7917\n",
      "Epoch 147/350\n",
      "1080/1080 [==============================] - 3s 3ms/sample - loss: 1.8411 - accuracy: 0.9676 - val_loss: 2.2814 - val_accuracy: 0.7833\n",
      "Epoch 148/350\n",
      "1080/1080 [==============================] - 3s 3ms/sample - loss: 1.8748 - accuracy: 0.9407 - val_loss: 2.3305 - val_accuracy: 0.8167\n",
      "Epoch 149/350\n",
      "1080/1080 [==============================] - 3s 3ms/sample - loss: 1.8751 - accuracy: 0.9426 - val_loss: 2.2582 - val_accuracy: 0.7917\n",
      "Epoch 150/350\n",
      "1080/1080 [==============================] - 3s 3ms/sample - loss: 2.0299 - accuracy: 0.8676 - val_loss: 2.5093 - val_accuracy: 0.7917\n",
      "Epoch 151/350\n",
      "1080/1080 [==============================] - 3s 3ms/sample - loss: 1.9177 - accuracy: 0.9241 - val_loss: 2.2426 - val_accuracy: 0.8417\n",
      "Epoch 152/350\n",
      "1080/1080 [==============================] - 3s 3ms/sample - loss: 1.9378 - accuracy: 0.9046 - val_loss: 2.6105 - val_accuracy: 0.7250\n",
      "Epoch 153/350\n",
      "1080/1080 [==============================] - 3s 3ms/sample - loss: 1.8930 - accuracy: 0.9306 - val_loss: 2.4231 - val_accuracy: 0.7250\n",
      "Epoch 154/350\n",
      "1080/1080 [==============================] - 3s 3ms/sample - loss: 1.8751 - accuracy: 0.9370 - val_loss: 2.2444 - val_accuracy: 0.8250\n",
      "Epoch 155/350\n",
      "1080/1080 [==============================] - 3s 3ms/sample - loss: 1.8226 - accuracy: 0.9574 - val_loss: 2.2071 - val_accuracy: 0.8083\n",
      "Epoch 156/350\n",
      "1080/1080 [==============================] - 3s 3ms/sample - loss: 1.8387 - accuracy: 0.9519 - val_loss: 2.2587 - val_accuracy: 0.8167\n",
      "Epoch 157/350\n",
      "1080/1080 [==============================] - 3s 3ms/sample - loss: 1.8572 - accuracy: 0.9333 - val_loss: 2.2497 - val_accuracy: 0.7917\n",
      "Epoch 158/350\n",
      "1080/1080 [==============================] - 3s 3ms/sample - loss: 1.8074 - accuracy: 0.9657 - val_loss: 2.2965 - val_accuracy: 0.7917\n",
      "Epoch 159/350\n",
      "1080/1080 [==============================] - 3s 3ms/sample - loss: 1.7964 - accuracy: 0.9694 - val_loss: 2.2114 - val_accuracy: 0.8167\n",
      "Epoch 160/350\n",
      "1080/1080 [==============================] - 3s 3ms/sample - loss: 1.7897 - accuracy: 0.9676 - val_loss: 2.3515 - val_accuracy: 0.8000\n",
      "Epoch 161/350\n",
      "1080/1080 [==============================] - 3s 3ms/sample - loss: 1.8055 - accuracy: 0.9648 - val_loss: 2.3281 - val_accuracy: 0.8000\n",
      "Epoch 162/350\n",
      "1080/1080 [==============================] - 3s 3ms/sample - loss: 1.8007 - accuracy: 0.9574 - val_loss: 2.2156 - val_accuracy: 0.8083\n",
      "Epoch 163/350\n",
      "1080/1080 [==============================] - 3s 3ms/sample - loss: 1.7590 - accuracy: 0.9769 - val_loss: 2.1859 - val_accuracy: 0.8167\n",
      "Epoch 164/350\n",
      "1080/1080 [==============================] - 3s 3ms/sample - loss: 1.7649 - accuracy: 0.9759 - val_loss: 2.2554 - val_accuracy: 0.8167\n",
      "Epoch 165/350\n",
      "1080/1080 [==============================] - 3s 3ms/sample - loss: 1.7715 - accuracy: 0.9694 - val_loss: 2.2891 - val_accuracy: 0.7917\n",
      "Epoch 166/350\n",
      "1080/1080 [==============================] - 3s 3ms/sample - loss: 1.8022 - accuracy: 0.9537 - val_loss: 2.3989 - val_accuracy: 0.8000\n",
      "Epoch 167/350\n",
      "1080/1080 [==============================] - 3s 3ms/sample - loss: 1.7880 - accuracy: 0.9676 - val_loss: 2.3424 - val_accuracy: 0.8083\n",
      "Epoch 168/350\n",
      "1080/1080 [==============================] - 3s 3ms/sample - loss: 1.8137 - accuracy: 0.9481 - val_loss: 2.2834 - val_accuracy: 0.7833\n",
      "Epoch 169/350\n",
      "1080/1080 [==============================] - 3s 3ms/sample - loss: 1.8028 - accuracy: 0.9537 - val_loss: 2.2701 - val_accuracy: 0.8167\n",
      "Epoch 170/350\n",
      "1080/1080 [==============================] - 4s 3ms/sample - loss: 1.7864 - accuracy: 0.9667 - val_loss: 2.1868 - val_accuracy: 0.8333\n",
      "Epoch 171/350\n",
      "1080/1080 [==============================] - 5s 4ms/sample - loss: 1.7666 - accuracy: 0.9639 - val_loss: 2.3550 - val_accuracy: 0.8000\n",
      "Epoch 172/350\n",
      "1080/1080 [==============================] - 6s 5ms/sample - loss: 1.7755 - accuracy: 0.9648 - val_loss: 2.2190 - val_accuracy: 0.7917\n",
      "Epoch 173/350\n",
      "1080/1080 [==============================] - 5s 4ms/sample - loss: 1.7407 - accuracy: 0.9796 - val_loss: 2.2010 - val_accuracy: 0.8333\n",
      "Epoch 174/350\n",
      "1080/1080 [==============================] - 6s 5ms/sample - loss: 1.7363 - accuracy: 0.9796 - val_loss: 2.2806 - val_accuracy: 0.8333\n",
      "Epoch 175/350\n",
      "1080/1080 [==============================] - 5s 4ms/sample - loss: 1.7550 - accuracy: 0.9694 - val_loss: 2.2093 - val_accuracy: 0.8167\n",
      "Epoch 176/350\n",
      "1080/1080 [==============================] - 4s 4ms/sample - loss: 1.7953 - accuracy: 0.9454 - val_loss: 2.2257 - val_accuracy: 0.8083\n",
      "Epoch 177/350\n",
      "1080/1080 [==============================] - 4s 3ms/sample - loss: 1.7621 - accuracy: 0.9630 - val_loss: 2.2090 - val_accuracy: 0.8250\n",
      "Epoch 178/350\n",
      "1080/1080 [==============================] - 4s 3ms/sample - loss: 1.7354 - accuracy: 0.9778 - val_loss: 2.2279 - val_accuracy: 0.8167\n",
      "Epoch 179/350\n",
      "1080/1080 [==============================] - 4s 3ms/sample - loss: 1.7589 - accuracy: 0.9676 - val_loss: 2.5619 - val_accuracy: 0.7500\n",
      "Epoch 180/350\n",
      "1080/1080 [==============================] - 3s 3ms/sample - loss: 2.0283 - accuracy: 0.8519 - val_loss: 2.4174 - val_accuracy: 0.7583\n",
      "Epoch 181/350\n",
      "1080/1080 [==============================] - 4s 3ms/sample - loss: 1.9633 - accuracy: 0.8676 - val_loss: 2.9329 - val_accuracy: 0.6750\n",
      "Epoch 182/350\n",
      "1080/1080 [==============================] - 4s 3ms/sample - loss: 2.0076 - accuracy: 0.8574 - val_loss: 2.4324 - val_accuracy: 0.7417\n",
      "Epoch 183/350\n",
      "1080/1080 [==============================] - 3s 3ms/sample - loss: 1.9478 - accuracy: 0.8852 - val_loss: 2.5421 - val_accuracy: 0.6833\n",
      "Epoch 184/350\n",
      "1080/1080 [==============================] - 5s 5ms/sample - loss: 1.8002 - accuracy: 0.9519 - val_loss: 2.2815 - val_accuracy: 0.8417\n",
      "Epoch 185/350\n",
      "1080/1080 [==============================] - 5s 4ms/sample - loss: 1.7309 - accuracy: 0.9815 - val_loss: 2.2199 - val_accuracy: 0.7917\n",
      "Epoch 186/350\n",
      "1080/1080 [==============================] - 4s 4ms/sample - loss: 1.7194 - accuracy: 0.9815 - val_loss: 2.1693 - val_accuracy: 0.8417\n",
      "Epoch 187/350\n",
      "1080/1080 [==============================] - 4s 4ms/sample - loss: 1.7023 - accuracy: 0.9898 - val_loss: 2.1922 - val_accuracy: 0.8333\n",
      "Epoch 188/350\n",
      "1080/1080 [==============================] - 4s 4ms/sample - loss: 1.7167 - accuracy: 0.9731 - val_loss: 2.1806 - val_accuracy: 0.8333\n",
      "Epoch 189/350\n",
      "1080/1080 [==============================] - 5s 5ms/sample - loss: 1.7042 - accuracy: 0.9870 - val_loss: 2.1206 - val_accuracy: 0.8250\n",
      "Epoch 190/350\n",
      "1080/1080 [==============================] - 6s 5ms/sample - loss: 1.6980 - accuracy: 0.9880 - val_loss: 2.1431 - val_accuracy: 0.8167\n",
      "Epoch 191/350\n",
      "1080/1080 [==============================] - 6s 6ms/sample - loss: 1.6891 - accuracy: 0.9898 - val_loss: 2.1466 - val_accuracy: 0.8250\n",
      "Epoch 192/350\n",
      "1080/1080 [==============================] - 4s 3ms/sample - loss: 1.6838 - accuracy: 0.9926 - val_loss: 2.1507 - val_accuracy: 0.8333\n",
      "Epoch 193/350\n",
      "1080/1080 [==============================] - 5s 5ms/sample - loss: 1.6820 - accuracy: 0.9917 - val_loss: 2.2356 - val_accuracy: 0.8167\n",
      "Epoch 194/350\n",
      "1080/1080 [==============================] - 4s 3ms/sample - loss: 1.6783 - accuracy: 0.9926 - val_loss: 2.1442 - val_accuracy: 0.8167\n",
      "Epoch 195/350\n",
      "1080/1080 [==============================] - 4s 4ms/sample - loss: 1.6710 - accuracy: 0.9935 - val_loss: 2.2382 - val_accuracy: 0.8250\n",
      "Epoch 196/350\n",
      "1080/1080 [==============================] - 4s 4ms/sample - loss: 1.6798 - accuracy: 0.9898 - val_loss: 2.1782 - val_accuracy: 0.8417\n",
      "Epoch 197/350\n",
      "1080/1080 [==============================] - 4s 4ms/sample - loss: 1.6745 - accuracy: 0.9889 - val_loss: 2.1689 - val_accuracy: 0.8250\n",
      "Epoch 198/350\n",
      "1080/1080 [==============================] - 4s 4ms/sample - loss: 1.6831 - accuracy: 0.9870 - val_loss: 2.1353 - val_accuracy: 0.8500\n",
      "Epoch 199/350\n",
      "1080/1080 [==============================] - 4s 3ms/sample - loss: 1.6667 - accuracy: 0.9935 - val_loss: 2.1312 - val_accuracy: 0.8417\n",
      "Epoch 200/350\n",
      "1080/1080 [==============================] - 5s 5ms/sample - loss: 1.6668 - accuracy: 0.9926 - val_loss: 2.1897 - val_accuracy: 0.8500\n",
      "Epoch 201/350\n",
      "1080/1080 [==============================] - 4s 4ms/sample - loss: 1.6621 - accuracy: 0.9944 - val_loss: 2.2190 - val_accuracy: 0.8333\n",
      "Epoch 202/350\n",
      "1080/1080 [==============================] - 4s 4ms/sample - loss: 1.6658 - accuracy: 0.9917 - val_loss: 2.2639 - val_accuracy: 0.7750\n",
      "Epoch 203/350\n",
      "1080/1080 [==============================] - 4s 3ms/sample - loss: 1.7045 - accuracy: 0.9704 - val_loss: 2.2256 - val_accuracy: 0.8167\n",
      "Epoch 204/350\n",
      "1080/1080 [==============================] - 4s 3ms/sample - loss: 1.7214 - accuracy: 0.9639 - val_loss: 2.2650 - val_accuracy: 0.7667\n",
      "Epoch 205/350\n",
      "1080/1080 [==============================] - 4s 3ms/sample - loss: 1.6835 - accuracy: 0.9787 - val_loss: 2.1283 - val_accuracy: 0.8167\n",
      "Epoch 206/350\n",
      "1080/1080 [==============================] - 4s 4ms/sample - loss: 1.6728 - accuracy: 0.9852 - val_loss: 2.3642 - val_accuracy: 0.8000\n",
      "Epoch 207/350\n",
      "1080/1080 [==============================] - 7s 7ms/sample - loss: 1.6798 - accuracy: 0.9843 - val_loss: 2.1724 - val_accuracy: 0.8250\n",
      "Epoch 208/350\n",
      "1080/1080 [==============================] - 5s 5ms/sample - loss: 1.6577 - accuracy: 0.9926 - val_loss: 2.1735 - val_accuracy: 0.8167\n",
      "Epoch 209/350\n",
      "1080/1080 [==============================] - 7s 6ms/sample - loss: 1.6488 - accuracy: 0.9963 - val_loss: 2.2539 - val_accuracy: 0.8000\n",
      "Epoch 210/350\n",
      "1080/1080 [==============================] - 6s 5ms/sample - loss: 1.6684 - accuracy: 0.9815 - val_loss: 2.1805 - val_accuracy: 0.8417\n",
      "Epoch 211/350\n",
      "1080/1080 [==============================] - 6s 5ms/sample - loss: 1.6536 - accuracy: 0.9935 - val_loss: 2.1116 - val_accuracy: 0.8250\n",
      "Epoch 212/350\n",
      "1080/1080 [==============================] - 4s 4ms/sample - loss: 1.9524 - accuracy: 0.8889 - val_loss: 2.3063 - val_accuracy: 0.8167\n",
      "Epoch 213/350\n",
      "1080/1080 [==============================] - 4s 4ms/sample - loss: 2.1232 - accuracy: 0.8259 - val_loss: 2.5264 - val_accuracy: 0.7083\n",
      "Epoch 214/350\n",
      "1080/1080 [==============================] - 4s 4ms/sample - loss: 1.9236 - accuracy: 0.8676 - val_loss: 2.2727 - val_accuracy: 0.7750\n",
      "Epoch 215/350\n",
      "1080/1080 [==============================] - 4s 4ms/sample - loss: 1.7656 - accuracy: 0.9481 - val_loss: 2.3265 - val_accuracy: 0.8000\n",
      "Epoch 216/350\n",
      "1080/1080 [==============================] - 5s 4ms/sample - loss: 1.7491 - accuracy: 0.9500 - val_loss: 2.1710 - val_accuracy: 0.8417\n",
      "Epoch 217/350\n",
      "1080/1080 [==============================] - 5s 4ms/sample - loss: 1.6946 - accuracy: 0.9750 - val_loss: 2.1426 - val_accuracy: 0.8333\n",
      "Epoch 218/350\n",
      "1080/1080 [==============================] - 7s 7ms/sample - loss: 1.6696 - accuracy: 0.9880 - val_loss: 2.1965 - val_accuracy: 0.8333\n",
      "Epoch 219/350\n",
      "1080/1080 [==============================] - 5s 5ms/sample - loss: 1.6605 - accuracy: 0.9889 - val_loss: 2.1934 - val_accuracy: 0.8250\n",
      "Epoch 220/350\n",
      "1080/1080 [==============================] - 4s 4ms/sample - loss: 1.6451 - accuracy: 0.9907 - val_loss: 2.1327 - val_accuracy: 0.8167\n",
      "Epoch 221/350\n",
      "1080/1080 [==============================] - 4s 4ms/sample - loss: 1.6364 - accuracy: 0.9972 - val_loss: 2.1348 - val_accuracy: 0.8500\n",
      "Epoch 222/350\n",
      "1080/1080 [==============================] - 4s 4ms/sample - loss: 1.6293 - accuracy: 0.9972 - val_loss: 2.1345 - val_accuracy: 0.8000\n",
      "Epoch 223/350\n",
      "1080/1080 [==============================] - 4s 4ms/sample - loss: 1.6342 - accuracy: 0.9944 - val_loss: 2.1188 - val_accuracy: 0.8500\n",
      "Epoch 224/350\n",
      "1080/1080 [==============================] - 4s 4ms/sample - loss: 1.6259 - accuracy: 0.9981 - val_loss: 2.1725 - val_accuracy: 0.8417\n",
      "Epoch 225/350\n",
      "1080/1080 [==============================] - 5s 4ms/sample - loss: 1.6275 - accuracy: 0.9944 - val_loss: 2.0942 - val_accuracy: 0.8333\n",
      "Epoch 226/350\n",
      "1080/1080 [==============================] - 4s 4ms/sample - loss: 1.6460 - accuracy: 0.9833 - val_loss: 2.1224 - val_accuracy: 0.8333\n",
      "Epoch 227/350\n",
      "1080/1080 [==============================] - 4s 4ms/sample - loss: 1.6230 - accuracy: 0.9963 - val_loss: 2.1264 - val_accuracy: 0.8083\n",
      "Epoch 228/350\n",
      "1080/1080 [==============================] - 4s 4ms/sample - loss: 1.6197 - accuracy: 0.9972 - val_loss: 2.2046 - val_accuracy: 0.8167\n",
      "Epoch 229/350\n",
      "1080/1080 [==============================] - 4s 4ms/sample - loss: 1.6173 - accuracy: 0.9981 - val_loss: 2.1105 - val_accuracy: 0.8250\n",
      "Epoch 230/350\n",
      "1080/1080 [==============================] - 4s 4ms/sample - loss: 1.6151 - accuracy: 0.9972 - val_loss: 2.1343 - val_accuracy: 0.8417\n",
      "Epoch 231/350\n",
      "1080/1080 [==============================] - 4s 4ms/sample - loss: 1.6171 - accuracy: 0.9963 - val_loss: 2.1195 - val_accuracy: 0.8333\n",
      "Epoch 232/350\n",
      "1080/1080 [==============================] - 4s 4ms/sample - loss: 1.6157 - accuracy: 0.9963 - val_loss: 2.1305 - val_accuracy: 0.8250\n",
      "Epoch 233/350\n",
      "1080/1080 [==============================] - 4s 4ms/sample - loss: 1.6280 - accuracy: 0.9880 - val_loss: 2.2256 - val_accuracy: 0.8583\n",
      "Epoch 234/350\n",
      "1080/1080 [==============================] - 4s 4ms/sample - loss: 2.1191 - accuracy: 0.8278 - val_loss: 2.7602 - val_accuracy: 0.7000\n",
      "Epoch 235/350\n",
      "1080/1080 [==============================] - 4s 4ms/sample - loss: 1.8594 - accuracy: 0.8981 - val_loss: 2.0826 - val_accuracy: 0.8333\n",
      "Epoch 236/350\n",
      "1080/1080 [==============================] - 4s 4ms/sample - loss: 1.7336 - accuracy: 0.9435 - val_loss: 2.1651 - val_accuracy: 0.8500\n",
      "Epoch 237/350\n",
      "1080/1080 [==============================] - 6s 6ms/sample - loss: 1.6445 - accuracy: 0.9861 - val_loss: 2.1456 - val_accuracy: 0.8417\n",
      "Epoch 238/350\n",
      "1080/1080 [==============================] - 5s 5ms/sample - loss: 1.6260 - accuracy: 0.9917 - val_loss: 2.1560 - val_accuracy: 0.8333\n",
      "Epoch 239/350\n",
      "1080/1080 [==============================] - 5s 5ms/sample - loss: 1.6228 - accuracy: 0.9935 - val_loss: 2.0926 - val_accuracy: 0.8167\n",
      "Epoch 240/350\n",
      "1080/1080 [==============================] - 5s 5ms/sample - loss: 1.6165 - accuracy: 0.9954 - val_loss: 2.1089 - val_accuracy: 0.8417\n",
      "Epoch 241/350\n",
      "1080/1080 [==============================] - 5s 5ms/sample - loss: 1.6050 - accuracy: 0.9963 - val_loss: 2.0513 - val_accuracy: 0.8583\n",
      "Epoch 242/350\n",
      "1080/1080 [==============================] - 5s 4ms/sample - loss: 1.6002 - accuracy: 0.9981 - val_loss: 2.0813 - val_accuracy: 0.8583\n",
      "Epoch 243/350\n",
      "1080/1080 [==============================] - 5s 4ms/sample - loss: 1.5941 - accuracy: 0.9991 - val_loss: 2.0731 - val_accuracy: 0.8667\n",
      "Epoch 244/350\n",
      "1080/1080 [==============================] - 5s 4ms/sample - loss: 1.5943 - accuracy: 0.9981 - val_loss: 2.0882 - val_accuracy: 0.8333\n",
      "Epoch 245/350\n",
      "1080/1080 [==============================] - 5s 4ms/sample - loss: 1.5974 - accuracy: 0.9981 - val_loss: 2.0975 - val_accuracy: 0.8500\n",
      "Epoch 246/350\n",
      "1080/1080 [==============================] - 5s 4ms/sample - loss: 1.5928 - accuracy: 0.9981 - val_loss: 2.0512 - val_accuracy: 0.8583\n",
      "Epoch 247/350\n",
      "1080/1080 [==============================] - 5s 4ms/sample - loss: 1.5869 - accuracy: 1.0000 - val_loss: 2.0804 - val_accuracy: 0.8417\n",
      "Epoch 248/350\n",
      "1080/1080 [==============================] - 6s 5ms/sample - loss: 1.5843 - accuracy: 1.0000 - val_loss: 2.0579 - val_accuracy: 0.8750\n",
      "Epoch 249/350\n",
      "1080/1080 [==============================] - 5s 4ms/sample - loss: 1.5822 - accuracy: 1.0000 - val_loss: 2.0553 - val_accuracy: 0.8417\n",
      "Epoch 250/350\n",
      "1080/1080 [==============================] - 5s 4ms/sample - loss: 1.5830 - accuracy: 1.0000 - val_loss: 2.1170 - val_accuracy: 0.8583\n",
      "Epoch 251/350\n",
      "1080/1080 [==============================] - 4s 4ms/sample - loss: 1.5788 - accuracy: 0.9991 - val_loss: 2.1208 - val_accuracy: 0.8333\n",
      "Epoch 252/350\n",
      "1080/1080 [==============================] - 4s 4ms/sample - loss: 1.5784 - accuracy: 1.0000 - val_loss: 2.0688 - val_accuracy: 0.8667\n",
      "Epoch 253/350\n",
      "1080/1080 [==============================] - 5s 4ms/sample - loss: 1.5764 - accuracy: 1.0000 - val_loss: 2.0872 - val_accuracy: 0.8583\n",
      "Epoch 254/350\n",
      "1080/1080 [==============================] - 5s 4ms/sample - loss: 1.5742 - accuracy: 1.0000 - val_loss: 2.0799 - val_accuracy: 0.8500\n",
      "Epoch 255/350\n",
      "1080/1080 [==============================] - 5s 5ms/sample - loss: 1.5728 - accuracy: 1.0000 - val_loss: 2.0596 - val_accuracy: 0.8667\n",
      "Epoch 256/350\n",
      "1080/1080 [==============================] - 4s 4ms/sample - loss: 1.5729 - accuracy: 1.0000 - val_loss: 2.0969 - val_accuracy: 0.8583\n",
      "Epoch 257/350\n",
      "1080/1080 [==============================] - 4s 4ms/sample - loss: 1.5709 - accuracy: 1.0000 - val_loss: 2.1065 - val_accuracy: 0.8583\n",
      "Epoch 258/350\n",
      "1080/1080 [==============================] - 4s 4ms/sample - loss: 1.5695 - accuracy: 1.0000 - val_loss: 2.0943 - val_accuracy: 0.8667\n",
      "Epoch 259/350\n",
      "1080/1080 [==============================] - 4s 4ms/sample - loss: 1.5702 - accuracy: 1.0000 - val_loss: 2.0547 - val_accuracy: 0.8750\n",
      "Epoch 260/350\n",
      "1080/1080 [==============================] - 5s 4ms/sample - loss: 1.5698 - accuracy: 0.9991 - val_loss: 2.1103 - val_accuracy: 0.8500\n",
      "Epoch 261/350\n",
      "1080/1080 [==============================] - 5s 4ms/sample - loss: 1.5649 - accuracy: 0.9991 - val_loss: 2.1030 - val_accuracy: 0.8583\n",
      "Epoch 262/350\n",
      "1080/1080 [==============================] - 5s 4ms/sample - loss: 1.5641 - accuracy: 1.0000 - val_loss: 2.1545 - val_accuracy: 0.8500\n",
      "Epoch 263/350\n",
      "1080/1080 [==============================] - 5s 4ms/sample - loss: 1.5634 - accuracy: 1.0000 - val_loss: 2.0672 - val_accuracy: 0.8583\n",
      "Epoch 264/350\n",
      "1080/1080 [==============================] - 5s 4ms/sample - loss: 1.5594 - accuracy: 1.0000 - val_loss: 2.0732 - val_accuracy: 0.8750\n",
      "Epoch 265/350\n",
      "1080/1080 [==============================] - 5s 5ms/sample - loss: 1.5583 - accuracy: 1.0000 - val_loss: 2.0879 - val_accuracy: 0.8500\n",
      "Epoch 266/350\n",
      "1080/1080 [==============================] - 4s 4ms/sample - loss: 1.5565 - accuracy: 1.0000 - val_loss: 2.0745 - val_accuracy: 0.8750\n",
      "Epoch 267/350\n",
      "1080/1080 [==============================] - 5s 4ms/sample - loss: 1.5560 - accuracy: 1.0000 - val_loss: 2.0781 - val_accuracy: 0.8500\n",
      "Epoch 268/350\n",
      "1080/1080 [==============================] - 4s 4ms/sample - loss: 1.5540 - accuracy: 1.0000 - val_loss: 2.0603 - val_accuracy: 0.8583\n",
      "Epoch 269/350\n",
      "1080/1080 [==============================] - 5s 4ms/sample - loss: 1.5525 - accuracy: 1.0000 - val_loss: 2.0649 - val_accuracy: 0.8500\n",
      "Epoch 270/350\n",
      "1080/1080 [==============================] - 5s 4ms/sample - loss: 1.5513 - accuracy: 1.0000 - val_loss: 2.0653 - val_accuracy: 0.8583\n",
      "Epoch 271/350\n",
      "1080/1080 [==============================] - 5s 5ms/sample - loss: 1.5493 - accuracy: 1.0000 - val_loss: 2.0790 - val_accuracy: 0.8500\n",
      "Epoch 272/350\n",
      "1080/1080 [==============================] - 5s 5ms/sample - loss: 1.5489 - accuracy: 1.0000 - val_loss: 2.0835 - val_accuracy: 0.8583\n",
      "Epoch 273/350\n",
      "1080/1080 [==============================] - 6s 5ms/sample - loss: 1.5467 - accuracy: 1.0000 - val_loss: 2.0863 - val_accuracy: 0.8583\n",
      "Epoch 274/350\n",
      "1080/1080 [==============================] - 5s 5ms/sample - loss: 1.5453 - accuracy: 1.0000 - val_loss: 2.0862 - val_accuracy: 0.8500\n",
      "Epoch 275/350\n",
      "1080/1080 [==============================] - 5s 5ms/sample - loss: 1.5432 - accuracy: 1.0000 - val_loss: 2.0576 - val_accuracy: 0.8667\n",
      "Epoch 276/350\n",
      "1080/1080 [==============================] - 7s 7ms/sample - loss: 1.5420 - accuracy: 1.0000 - val_loss: 2.0613 - val_accuracy: 0.8500\n",
      "Epoch 277/350\n",
      "1080/1080 [==============================] - 4s 4ms/sample - loss: 1.5406 - accuracy: 1.0000 - val_loss: 2.0676 - val_accuracy: 0.8500\n",
      "Epoch 278/350\n",
      "1080/1080 [==============================] - 4s 4ms/sample - loss: 1.5407 - accuracy: 1.0000 - val_loss: 2.0862 - val_accuracy: 0.8583\n",
      "Epoch 279/350\n",
      "1080/1080 [==============================] - 6s 6ms/sample - loss: 1.5437 - accuracy: 1.0000 - val_loss: 2.0963 - val_accuracy: 0.8417\n",
      "Epoch 280/350\n",
      "1080/1080 [==============================] - 6s 6ms/sample - loss: 1.5406 - accuracy: 1.0000 - val_loss: 2.0975 - val_accuracy: 0.8500\n",
      "Epoch 281/350\n",
      "1080/1080 [==============================] - 5s 4ms/sample - loss: 1.5376 - accuracy: 1.0000 - val_loss: 2.0399 - val_accuracy: 0.8750\n",
      "Epoch 282/350\n",
      "1080/1080 [==============================] - 5s 4ms/sample - loss: 1.5366 - accuracy: 1.0000 - val_loss: 2.0858 - val_accuracy: 0.8500\n",
      "Epoch 283/350\n",
      "1080/1080 [==============================] - 5s 4ms/sample - loss: 1.5351 - accuracy: 1.0000 - val_loss: 2.0919 - val_accuracy: 0.8500\n",
      "Epoch 284/350\n",
      "1080/1080 [==============================] - 5s 4ms/sample - loss: 1.5327 - accuracy: 1.0000 - val_loss: 2.0932 - val_accuracy: 0.8417\n",
      "Epoch 285/350\n",
      "1080/1080 [==============================] - 5s 4ms/sample - loss: 1.5322 - accuracy: 1.0000 - val_loss: 2.0835 - val_accuracy: 0.8583\n",
      "Epoch 286/350\n",
      "1080/1080 [==============================] - 5s 4ms/sample - loss: 1.5326 - accuracy: 1.0000 - val_loss: 2.1356 - val_accuracy: 0.8167\n",
      "Epoch 287/350\n",
      "1080/1080 [==============================] - 5s 5ms/sample - loss: 1.5333 - accuracy: 0.9991 - val_loss: 2.0933 - val_accuracy: 0.8417\n",
      "Epoch 288/350\n",
      "1080/1080 [==============================] - 5s 4ms/sample - loss: 1.5317 - accuracy: 1.0000 - val_loss: 2.0949 - val_accuracy: 0.8333\n",
      "Epoch 289/350\n",
      "1080/1080 [==============================] - 4s 4ms/sample - loss: 1.5319 - accuracy: 0.9991 - val_loss: 2.0835 - val_accuracy: 0.8417\n",
      "Epoch 290/350\n",
      "1080/1080 [==============================] - 4s 4ms/sample - loss: 1.5276 - accuracy: 1.0000 - val_loss: 2.0717 - val_accuracy: 0.8500\n",
      "Epoch 291/350\n",
      "1080/1080 [==============================] - 4s 4ms/sample - loss: 1.5286 - accuracy: 1.0000 - val_loss: 2.0668 - val_accuracy: 0.8583\n",
      "Epoch 292/350\n",
      "1080/1080 [==============================] - 4s 4ms/sample - loss: 1.5269 - accuracy: 0.9991 - val_loss: 2.1003 - val_accuracy: 0.8417\n",
      "Epoch 293/350\n",
      "1080/1080 [==============================] - 7s 6ms/sample - loss: 1.5199 - accuracy: 1.0000 - val_loss: 2.0600 - val_accuracy: 0.8583\n",
      "Epoch 294/350\n",
      "1080/1080 [==============================] - 7s 6ms/sample - loss: 1.5179 - accuracy: 1.0000 - val_loss: 2.0448 - val_accuracy: 0.8500\n",
      "Epoch 295/350\n",
      "1080/1080 [==============================] - 5s 5ms/sample - loss: 1.5164 - accuracy: 1.0000 - val_loss: 2.0519 - val_accuracy: 0.8583\n",
      "Epoch 296/350\n",
      "1080/1080 [==============================] - 5s 5ms/sample - loss: 1.5143 - accuracy: 1.0000 - val_loss: 2.0609 - val_accuracy: 0.8500\n",
      "Epoch 297/350\n",
      "1080/1080 [==============================] - 5s 4ms/sample - loss: 1.5126 - accuracy: 1.0000 - val_loss: 2.0601 - val_accuracy: 0.8500\n",
      "Epoch 298/350\n",
      "1080/1080 [==============================] - 5s 4ms/sample - loss: 1.5110 - accuracy: 1.0000 - val_loss: 2.0764 - val_accuracy: 0.8417\n",
      "Epoch 299/350\n",
      "1080/1080 [==============================] - 4s 4ms/sample - loss: 1.5107 - accuracy: 1.0000 - val_loss: 2.0596 - val_accuracy: 0.8583\n",
      "Epoch 300/350\n",
      "1080/1080 [==============================] - 4s 4ms/sample - loss: 1.5101 - accuracy: 1.0000 - val_loss: 2.0656 - val_accuracy: 0.8583\n",
      "Epoch 301/350\n",
      "1080/1080 [==============================] - 5s 4ms/sample - loss: 1.5078 - accuracy: 1.0000 - val_loss: 2.1395 - val_accuracy: 0.8417\n",
      "Epoch 302/350\n",
      "1080/1080 [==============================] - 5s 5ms/sample - loss: 1.5087 - accuracy: 1.0000 - val_loss: 2.0604 - val_accuracy: 0.8333\n",
      "Epoch 303/350\n",
      "1080/1080 [==============================] - 5s 4ms/sample - loss: 1.5093 - accuracy: 1.0000 - val_loss: 2.0894 - val_accuracy: 0.8333\n",
      "Epoch 304/350\n",
      "1080/1080 [==============================] - 5s 4ms/sample - loss: 1.5037 - accuracy: 1.0000 - val_loss: 2.0372 - val_accuracy: 0.8500\n",
      "Epoch 305/350\n",
      "1080/1080 [==============================] - 5s 5ms/sample - loss: 1.5037 - accuracy: 1.0000 - val_loss: 2.0703 - val_accuracy: 0.8583\n",
      "Epoch 306/350\n",
      "1080/1080 [==============================] - 5s 5ms/sample - loss: 1.5030 - accuracy: 1.0000 - val_loss: 2.0602 - val_accuracy: 0.8500\n",
      "Epoch 307/350\n",
      "1080/1080 [==============================] - 5s 4ms/sample - loss: 1.5005 - accuracy: 1.0000 - val_loss: 2.0439 - val_accuracy: 0.8500\n",
      "Epoch 308/350\n",
      "1080/1080 [==============================] - 5s 4ms/sample - loss: 1.4978 - accuracy: 1.0000 - val_loss: 2.0457 - val_accuracy: 0.8583\n",
      "Epoch 309/350\n",
      "1080/1080 [==============================] - 5s 4ms/sample - loss: 1.4956 - accuracy: 1.0000 - val_loss: 2.0563 - val_accuracy: 0.8500\n",
      "Epoch 310/350\n",
      "1080/1080 [==============================] - 5s 5ms/sample - loss: 1.4940 - accuracy: 1.0000 - val_loss: 2.0810 - val_accuracy: 0.8500\n",
      "Epoch 311/350\n",
      "1080/1080 [==============================] - 5s 4ms/sample - loss: 1.4928 - accuracy: 1.0000 - val_loss: 2.0302 - val_accuracy: 0.8667\n",
      "Epoch 312/350\n",
      "1080/1080 [==============================] - 5s 4ms/sample - loss: 1.4909 - accuracy: 1.0000 - val_loss: 2.0410 - val_accuracy: 0.8583\n",
      "Epoch 313/350\n",
      "1080/1080 [==============================] - 5s 4ms/sample - loss: 1.4894 - accuracy: 1.0000 - val_loss: 2.0531 - val_accuracy: 0.8500\n",
      "Epoch 314/350\n",
      "1080/1080 [==============================] - 5s 4ms/sample - loss: 1.4876 - accuracy: 1.0000 - val_loss: 2.0752 - val_accuracy: 0.8667\n",
      "Epoch 315/350\n",
      "1080/1080 [==============================] - 5s 4ms/sample - loss: 1.4861 - accuracy: 1.0000 - val_loss: 2.0535 - val_accuracy: 0.8583\n",
      "Epoch 316/350\n",
      "1080/1080 [==============================] - 5s 4ms/sample - loss: 1.4844 - accuracy: 1.0000 - val_loss: 2.0387 - val_accuracy: 0.8583\n",
      "Epoch 317/350\n",
      "1080/1080 [==============================] - 5s 5ms/sample - loss: 1.4832 - accuracy: 1.0000 - val_loss: 2.0534 - val_accuracy: 0.8500\n",
      "Epoch 318/350\n",
      "1080/1080 [==============================] - 5s 5ms/sample - loss: 1.4823 - accuracy: 1.0000 - val_loss: 2.0407 - val_accuracy: 0.8417\n",
      "Epoch 319/350\n",
      "1080/1080 [==============================] - 5s 5ms/sample - loss: 1.4805 - accuracy: 1.0000 - val_loss: 2.0263 - val_accuracy: 0.8583\n",
      "Epoch 320/350\n",
      "1080/1080 [==============================] - 5s 5ms/sample - loss: 1.4784 - accuracy: 1.0000 - val_loss: 2.0416 - val_accuracy: 0.8583\n",
      "Epoch 321/350\n",
      "1080/1080 [==============================] - 5s 4ms/sample - loss: 1.4770 - accuracy: 1.0000 - val_loss: 2.0381 - val_accuracy: 0.8500\n",
      "Epoch 322/350\n",
      "1080/1080 [==============================] - 5s 5ms/sample - loss: 1.4753 - accuracy: 1.0000 - val_loss: 2.0417 - val_accuracy: 0.8583\n",
      "Epoch 323/350\n",
      "1080/1080 [==============================] - 5s 4ms/sample - loss: 1.4744 - accuracy: 1.0000 - val_loss: 2.0376 - val_accuracy: 0.8583\n",
      "Epoch 324/350\n",
      "1080/1080 [==============================] - 4s 4ms/sample - loss: 1.4726 - accuracy: 1.0000 - val_loss: 2.0269 - val_accuracy: 0.8500\n",
      "Epoch 325/350\n",
      "1080/1080 [==============================] - 4s 4ms/sample - loss: 1.4712 - accuracy: 1.0000 - val_loss: 2.0164 - val_accuracy: 0.8583\n",
      "Epoch 326/350\n",
      "1080/1080 [==============================] - 5s 4ms/sample - loss: 1.4693 - accuracy: 1.0000 - val_loss: 2.0295 - val_accuracy: 0.8500\n",
      "Epoch 327/350\n",
      "1080/1080 [==============================] - 5s 4ms/sample - loss: 1.4677 - accuracy: 1.0000 - val_loss: 2.0306 - val_accuracy: 0.8583\n",
      "Epoch 328/350\n",
      "1080/1080 [==============================] - 4s 4ms/sample - loss: 1.4662 - accuracy: 1.0000 - val_loss: 2.0189 - val_accuracy: 0.8583\n",
      "Epoch 329/350\n",
      "1080/1080 [==============================] - 4s 4ms/sample - loss: 1.4654 - accuracy: 1.0000 - val_loss: 2.0549 - val_accuracy: 0.8417\n",
      "Epoch 330/350\n",
      "1080/1080 [==============================] - 5s 4ms/sample - loss: 1.4637 - accuracy: 1.0000 - val_loss: 2.0161 - val_accuracy: 0.8500\n",
      "Epoch 331/350\n",
      "1080/1080 [==============================] - 5s 4ms/sample - loss: 1.4624 - accuracy: 1.0000 - val_loss: 2.0079 - val_accuracy: 0.8583\n",
      "Epoch 332/350\n",
      "1080/1080 [==============================] - 5s 4ms/sample - loss: 1.4604 - accuracy: 1.0000 - val_loss: 2.0067 - val_accuracy: 0.8583\n",
      "Epoch 333/350\n",
      "1080/1080 [==============================] - 5s 5ms/sample - loss: 1.4620 - accuracy: 1.0000 - val_loss: 2.0358 - val_accuracy: 0.8667\n",
      "Epoch 334/350\n",
      "1080/1080 [==============================] - 5s 4ms/sample - loss: 1.4610 - accuracy: 1.0000 - val_loss: 2.0027 - val_accuracy: 0.8667\n",
      "Epoch 335/350\n",
      "1080/1080 [==============================] - 5s 4ms/sample - loss: 1.4575 - accuracy: 1.0000 - val_loss: 2.0238 - val_accuracy: 0.8583\n",
      "Epoch 336/350\n",
      "1080/1080 [==============================] - 5s 4ms/sample - loss: 1.4544 - accuracy: 1.0000 - val_loss: 1.9909 - val_accuracy: 0.8667\n",
      "Epoch 337/350\n",
      " 400/1080 [==========>...................] - ETA: 3s - loss: 1.4532 - accuracy: 1.0000"
     ]
    }
   ],
   "source": [
    "\n",
    "from tensorflow.keras import models, layers, regularizers\n",
    "from tensorflow.keras.layers import Dense, Dropout, Flatten\n",
    "model6 = models.Sequential()\n",
    "model6.add(Flatten(input_shape =(64,64,3)))\n",
    "model6.add(layers.Dense(1000, activation='relu',  kernel_regularizer=regularizers.l2(0.001)))\n",
    "model6.add(layers.Dense(1000, activation='relu', kernel_regularizer=regularizers.l2(0.001)))\n",
    "model6.add(layers.Dense(500, activation='relu', kernel_regularizer=regularizers.l2(0.001)))\n",
    "model6.add(layers.Dense(800, activation='relu', kernel_regularizer=regularizers.l2(0.001)))\n",
    "model6.add(layers.Dense(500, activation='relu', kernel_regularizer=regularizers.l2(0.001)))\n",
    "model6.add(layers.Dense(1000, activation='relu', kernel_regularizer=regularizers.l2(0.001)))\n",
    "model6.add(layers.Dense(500, activation='relu', kernel_regularizer=regularizers.l2(0.001)))\n",
    "model6.add(layers.Dense(6, activation='softmax', kernel_regularizer=regularizers.l2(0.001)))\n",
    "\n",
    "# compile model - changed learning rate to be lower since with higher learning rate\n",
    "# there was a lot of oscillation in the loss so previous model was having trouble converging\n",
    "model6.compile(loss='sparse_categorical_crossentropy', optimizer= tf.keras.optimizers.Adam(lr=0.00005), metrics=['accuracy'])\n",
    "# fit model and store accuracy/loss of training and validation to be used later to evaluate model\n",
    "history=model6.fit(train_set_x_orig, train_set_y_orig, epochs=350, batch_size=100, validation_data=(test_set_x_orig,test_set_y_orig))"
   ]
  },
  {
   "cell_type": "markdown",
   "metadata": {},
   "source": [
    "### Here we can see that after regularization we can see bring regularization there is improvement in it but didnt reach 92%. May be I have increase the epoch."
   ]
  },
  {
   "cell_type": "code",
   "execution_count": null,
   "metadata": {},
   "outputs": [],
   "source": []
  }
 ],
 "metadata": {
  "kernelspec": {
   "display_name": "Python 3",
   "language": "python",
   "name": "python3"
  },
  "language_info": {
   "codemirror_mode": {
    "name": "ipython",
    "version": 3
   },
   "file_extension": ".py",
   "mimetype": "text/x-python",
   "name": "python",
   "nbconvert_exporter": "python",
   "pygments_lexer": "ipython3",
   "version": "3.7.3"
  }
 },
 "nbformat": 4,
 "nbformat_minor": 4
}
